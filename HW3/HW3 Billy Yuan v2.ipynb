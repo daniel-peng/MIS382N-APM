{
 "cells": [
  {
   "cell_type": "markdown",
   "metadata": {},
   "source": [
    "# <p style=\"text-align: center;\">MIS 382N: Advanced Predictive Modeling</p>\n",
    "# <p style=\"text-align: center;\">Assignment 3</p>\n",
    "## <p style=\"text-align: center;\">Total points: 80 </p>\n",
    "## <p style=\"text-align: center;\">Due: Mon, October 24, by 11:59pm</p>\n",
    "\n",
    "\n",
    "Your homework should be written in a **Jupyter notebook**. Please submit **only one** ipynb file from each group, and include the names of all the group members. Also, please make sure your code runs and the graphics (and anything else) are displayed in your notebook before submitting."
   ]
  },
  {
   "cell_type": "markdown",
   "metadata": {},
   "source": [
    "# Question 1 - Stochastic Gradient Descent (10pts)\n",
    "\n",
    "1. Using stochastic gradient descent, derive the coefficent updates for all 4 coefficients of the model: $$ y = w_0 + w_1*x_1 + w_2*x_1^2 + w_3*x_2 $$ Hint: start from the cost function (Assume sum of squared error). If you write the math by hand, submit that as a separate file and make a reference to it in your notebook or include the image in your notebook.\n",
    "2. Write Python code for an SGD solution to the non-linear model $$ y = w_0 + w_1*x_1 + w_2*x_1^2 + w_3*x_2$$ Try to format similarly to scikit-learn's models. There should be a _fit_ function that takes parameters X, y, learning rate, and number of iterations, and a _predict_ function that takes an X value (optionally, an array of values). Use your new gradient descent regression to predict the data given in 'samples.csv', for 10 epochs, using learning rates: [.0001, .001, .01] . Plot MSE and the $w$ parameters as a function of epoch count."
   ]
  },
  {
   "cell_type": "markdown",
   "metadata": {},
   "source": [
    "### Answer\n",
    "\n",
    "#### Part 1\n",
    "\n",
    "We update our weight, $w_{j}$, using the following rule:\n",
    "$$w_{j} = w_{j} - \\eta\\Delta w_{j} $$\n",
    "\n",
    "where $\\eta$ is the learning rate, $\\Delta w_{j} = \\frac {\\delta E_{n}}{\\delta w_{j}}$ and $E_{n}$ is our cost function. \n",
    "\n",
    "The math below shows how $\\Delta w_{j}$ can be derived.\n",
    "\n",
    "---\n",
    "\n",
    "$Y$ is:\n",
    "\n",
    " \n",
    "$$ y = w_0 + w_1x_1 + w_2x_1^2 + w_3x_2$$\n",
    "\n",
    "\n",
    "Let $t_{n}$ be a test data point.\n",
    "\n",
    "We can rewrite our cost function, $E_{n}$ as:\n",
    "\n",
    "$$ E_{n} = (t_{n} - y_{n})^2 $$\n",
    "\n",
    "Our coefficient update, $\\Delta w$, is the partial derivative $\\frac {\\delta E_{n}}{\\delta w_{j}}$. Using the chain rule and including $\\eta$, we get:\n",
    "\n",
    "$$\\frac {\\delta E_{n}}{\\delta w_{0}} = -2\\eta* (t_{n} - y_{n}) $$\n",
    "\n",
    "$$\\frac {\\delta E_{n}}{\\delta w_{1}} = -2\\eta * x_{1}(t_{n} - y_{n}) $$\n",
    "\n",
    "$$\\frac {\\delta E_{n}}{\\delta w_{2}} = -2\\eta * x_{1}^2(t_{n} - y_{n}) $$\n",
    "\n",
    "$$\\frac {\\delta E_{n}}{\\delta w_{3}} = -2\\eta * x_{2}(t_{n} - y_{n}) $$\n",
    "\n",
    "Thus, our final weight updates are:\n",
    "\n",
    "$$ w_{0} = w_{0} + 2\\eta* (t_{n} - y_{n}) $$\n",
    "$$ w_{1} = w_{1} + 2\\eta * x_{1}(t_{n} - y_{n})$$\n",
    "$$ w_{2} = w_{2} + 2\\eta * x_{1}^2(t_{n} - y_{n}) $$\n",
    "$$ w_{3} = w_{3} + 2\\eta * x_{2}(t_{n} - y_{n}) $$\n"
   ]
  },
  {
   "cell_type": "markdown",
   "metadata": {},
   "source": [
    "#### Part 2\n",
    "\n",
    "The steps from building the ```StochasticGradient()``` class to making predictions and plotting the parameters as a function of epoch are below.\n",
    "\n",
    "**Load data**"
   ]
  },
  {
   "cell_type": "code",
   "execution_count": 90,
   "metadata": {
    "collapsed": false,
    "scrolled": true
   },
   "outputs": [],
   "source": [
    "import numpy as np\n",
    "import pandas as pd\n",
    "import matplotlib\n",
    "import matplotlib.pyplot as plt\n",
    "%matplotlib inline  \n",
    "from sklearn.utils import shuffle\n",
    "\n",
    "# Read in file\n",
    "data_q1 = pd.read_csv(\"samples.csv\",names=['index','x1','x2','target'],header=0)\n",
    "\n",
    "# Split up features and target\n",
    "features_q1 = data_q1[['x1','x2']]\n",
    "target_q1 = data_q1['target']\n",
    "\n",
    "# Make data into array\n",
    "X, y = np.array(features_q1), np.array(target_q1)"
   ]
  },
  {
   "cell_type": "markdown",
   "metadata": {},
   "source": [
    "**Build class for Stochastic Gradient descent**\n",
    "\n",
    "The ```StochasticGradient()``` class has functions for ```fit``` and ```predict.```"
   ]
  },
  {
   "cell_type": "code",
   "execution_count": 85,
   "metadata": {
    "collapsed": false,
    "scrolled": true
   },
   "outputs": [],
   "source": [
    "class StochasticGradient():\n",
    "    \n",
    "    \n",
    "    def __init__(self, learning, iterations, epoch):\n",
    "        \"\"\"The learning rate, number of iterations (e.g. data points used), and \n",
    "        epochs (e.g. number of times to repeat)\"\"\"\n",
    "        self.learning = learning\n",
    "        self.iterations = iterations\n",
    "        self.epoch = epoch\n",
    "\n",
    "    def fit(self, X, y):\n",
    "        \"\"\"The fit function takes X and y as arrays\"\"\"\n",
    "        \n",
    "        weights = np.array([.0005]*4)\n",
    "        \n",
    "        w0 = weights[0]\n",
    "        w1 = weights[1]\n",
    "        w2 = weights[2]\n",
    "        w3 = weights[3]\n",
    "        \n",
    "        # Randomize training data\n",
    "        train, target = shuffle(X,y)  \n",
    "\n",
    "        self.weights_epoch = []\n",
    "        \n",
    "        for j in range(self.epoch): \n",
    "            for i in range(self.iterations):\n",
    "                x1 = train[i][0]\n",
    "                x2 = train[i][1]\n",
    "                eta = self.learning\n",
    "                t = target[i]\n",
    "                y = w0 + (w1*x1) + (w2*x1**2) + (w3*x2)\n",
    "\n",
    "            # Make weight updates\n",
    "\n",
    "                w0 = w0 + 2*(t-y)*eta\n",
    "                w1 = w1 + 2*(t-y)*x1*eta\n",
    "                w2 = w2 + 2*(t-y)*(x1**2)*eta\n",
    "                w3 = w3 + 2*(t-y)*x2*eta\n",
    "\n",
    "                weights = [w0,w1,w2,w3]\n",
    "                \n",
    "            # Reshuffle data after each epoch\n",
    "            train, target = shuffle(train,target)\n",
    "            \n",
    "            # Store weights of every epoch into a list\n",
    "            self.weights_epoch.append((j+1,weights))\n",
    "\n",
    "        self.weights = weights\n",
    "            \n",
    "    def predict(self, X_test, weights = None):\n",
    "        \"\"\"The predict function takes in an array for X and optional weights. Default values\n",
    "        are the weights from fitting the model. To see the predicted values, use self.predictions\"\"\"\n",
    "        \n",
    "        # Define parameters to calculate hypothesis\n",
    "        if weights == None:\n",
    "            w0 = self.weights[0]\n",
    "            w1 = self.weights[1]\n",
    "            w2 = self.weights[2]\n",
    "            w3 = self.weights[3]\n",
    "        else:\n",
    "            w0 = weights[0]\n",
    "            w1 = weights[1]\n",
    "            w2 = weights[2]\n",
    "            w3 = weights[3]\n",
    "        \n",
    "        eta = self.learning\n",
    "        \n",
    "        test = X_test\n",
    "        \n",
    "        # Create list to store predictions\n",
    "        predictions = []\n",
    "        mse_store = []\n",
    "\n",
    "        # Store prediction of every point in list\n",
    "        for point in test:\n",
    "            x1 = float(point[0])\n",
    "            x2 = float(point[1])\n",
    "            yhat = w0 + w1*x1 + w2*x1**2 + w3*x2\n",
    "            \n",
    "            predictions.append(yhat)\n",
    "            \n",
    "        self.predictions = predictions\n",
    "\n",
    "            "
   ]
  },
  {
   "cell_type": "markdown",
   "metadata": {},
   "source": [
    "**Fit the models**\n",
    "\n",
    "Three models for the learning rates - ```.01,.001,.0001``` - are fitted. The predicted values are outputted as a DataFrame below."
   ]
  },
  {
   "cell_type": "code",
   "execution_count": 94,
   "metadata": {
    "collapsed": false,
    "scrolled": false
   },
   "outputs": [
    {
     "data": {
      "text/html": [
       "<div>\n",
       "<table border=\"1\" class=\"dataframe\">\n",
       "  <thead>\n",
       "    <tr style=\"text-align: right;\">\n",
       "      <th></th>\n",
       "      <th>.0001</th>\n",
       "      <th>.001</th>\n",
       "      <th>.01</th>\n",
       "      <th>Actual</th>\n",
       "    </tr>\n",
       "  </thead>\n",
       "  <tbody>\n",
       "    <tr>\n",
       "      <th>0</th>\n",
       "      <td>1.621635</td>\n",
       "      <td>0.967715</td>\n",
       "      <td>9.981870e+275</td>\n",
       "      <td>0.916551</td>\n",
       "    </tr>\n",
       "    <tr>\n",
       "      <th>1</th>\n",
       "      <td>-12.534666</td>\n",
       "      <td>-11.157160</td>\n",
       "      <td>1.401751e+276</td>\n",
       "      <td>-11.135640</td>\n",
       "    </tr>\n",
       "    <tr>\n",
       "      <th>2</th>\n",
       "      <td>-12.768187</td>\n",
       "      <td>-10.873946</td>\n",
       "      <td>1.548842e+276</td>\n",
       "      <td>-10.801274</td>\n",
       "    </tr>\n",
       "    <tr>\n",
       "      <th>3</th>\n",
       "      <td>1.517111</td>\n",
       "      <td>0.751082</td>\n",
       "      <td>7.912000e+275</td>\n",
       "      <td>0.752401</td>\n",
       "    </tr>\n",
       "    <tr>\n",
       "      <th>4</th>\n",
       "      <td>-0.635259</td>\n",
       "      <td>-1.424111</td>\n",
       "      <td>9.185467e+275</td>\n",
       "      <td>-1.507111</td>\n",
       "    </tr>\n",
       "    <tr>\n",
       "      <th>5</th>\n",
       "      <td>-14.427485</td>\n",
       "      <td>-14.127965</td>\n",
       "      <td>1.413893e+276</td>\n",
       "      <td>-14.368052</td>\n",
       "    </tr>\n",
       "    <tr>\n",
       "      <th>6</th>\n",
       "      <td>-14.141442</td>\n",
       "      <td>-14.537238</td>\n",
       "      <td>1.428208e+276</td>\n",
       "      <td>-14.926405</td>\n",
       "    </tr>\n",
       "    <tr>\n",
       "      <th>7</th>\n",
       "      <td>-6.933836</td>\n",
       "      <td>-6.807272</td>\n",
       "      <td>6.767354e+275</td>\n",
       "      <td>-6.696970</td>\n",
       "    </tr>\n",
       "    <tr>\n",
       "      <th>8</th>\n",
       "      <td>-8.460977</td>\n",
       "      <td>-9.116421</td>\n",
       "      <td>9.785937e+275</td>\n",
       "      <td>-9.308390</td>\n",
       "    </tr>\n",
       "    <tr>\n",
       "      <th>9</th>\n",
       "      <td>-4.671865</td>\n",
       "      <td>-5.489690</td>\n",
       "      <td>7.921418e+275</td>\n",
       "      <td>-5.590497</td>\n",
       "    </tr>\n",
       "    <tr>\n",
       "      <th>10</th>\n",
       "      <td>-9.656072</td>\n",
       "      <td>-8.685704</td>\n",
       "      <td>1.041723e+276</td>\n",
       "      <td>-8.573142</td>\n",
       "    </tr>\n",
       "    <tr>\n",
       "      <th>11</th>\n",
       "      <td>22.100491</td>\n",
       "      <td>22.269189</td>\n",
       "      <td>2.154200e+275</td>\n",
       "      <td>22.987737</td>\n",
       "    </tr>\n",
       "    <tr>\n",
       "      <th>12</th>\n",
       "      <td>-6.749889</td>\n",
       "      <td>-7.509545</td>\n",
       "      <td>9.069016e+275</td>\n",
       "      <td>-7.671620</td>\n",
       "    </tr>\n",
       "    <tr>\n",
       "      <th>13</th>\n",
       "      <td>-1.231915</td>\n",
       "      <td>-2.071032</td>\n",
       "      <td>8.131039e+275</td>\n",
       "      <td>-2.133810</td>\n",
       "    </tr>\n",
       "    <tr>\n",
       "      <th>14</th>\n",
       "      <td>-8.919941</td>\n",
       "      <td>-9.687119</td>\n",
       "      <td>1.149748e+276</td>\n",
       "      <td>-9.973964</td>\n",
       "    </tr>\n",
       "    <tr>\n",
       "      <th>15</th>\n",
       "      <td>-2.558279</td>\n",
       "      <td>-3.406982</td>\n",
       "      <td>8.589476e+275</td>\n",
       "      <td>-3.508493</td>\n",
       "    </tr>\n",
       "    <tr>\n",
       "      <th>16</th>\n",
       "      <td>-12.580046</td>\n",
       "      <td>-11.822934</td>\n",
       "      <td>1.287790e+276</td>\n",
       "      <td>-11.891167</td>\n",
       "    </tr>\n",
       "    <tr>\n",
       "      <th>17</th>\n",
       "      <td>-8.883399</td>\n",
       "      <td>-7.348246</td>\n",
       "      <td>1.086746e+276</td>\n",
       "      <td>-7.121162</td>\n",
       "    </tr>\n",
       "    <tr>\n",
       "      <th>18</th>\n",
       "      <td>-7.092733</td>\n",
       "      <td>-7.805746</td>\n",
       "      <td>8.876859e+275</td>\n",
       "      <td>-7.955699</td>\n",
       "    </tr>\n",
       "    <tr>\n",
       "      <th>19</th>\n",
       "      <td>-8.624635</td>\n",
       "      <td>-9.437257</td>\n",
       "      <td>1.238173e+276</td>\n",
       "      <td>-9.762700</td>\n",
       "    </tr>\n",
       "    <tr>\n",
       "      <th>20</th>\n",
       "      <td>-11.542827</td>\n",
       "      <td>-9.988176</td>\n",
       "      <td>1.346961e+276</td>\n",
       "      <td>-9.893825</td>\n",
       "    </tr>\n",
       "    <tr>\n",
       "      <th>21</th>\n",
       "      <td>5.280661</td>\n",
       "      <td>4.876148</td>\n",
       "      <td>1.050517e+276</td>\n",
       "      <td>4.912003</td>\n",
       "    </tr>\n",
       "    <tr>\n",
       "      <th>22</th>\n",
       "      <td>-15.832776</td>\n",
       "      <td>-15.495204</td>\n",
       "      <td>1.553031e+276</td>\n",
       "      <td>-15.800142</td>\n",
       "    </tr>\n",
       "    <tr>\n",
       "      <th>23</th>\n",
       "      <td>20.664698</td>\n",
       "      <td>20.721452</td>\n",
       "      <td>2.220853e+275</td>\n",
       "      <td>21.392629</td>\n",
       "    </tr>\n",
       "    <tr>\n",
       "      <th>24</th>\n",
       "      <td>-13.845971</td>\n",
       "      <td>-13.614782</td>\n",
       "      <td>1.353272e+276</td>\n",
       "      <td>-13.838072</td>\n",
       "    </tr>\n",
       "    <tr>\n",
       "      <th>25</th>\n",
       "      <td>-5.554342</td>\n",
       "      <td>-6.370188</td>\n",
       "      <td>1.228461e+276</td>\n",
       "      <td>-6.647642</td>\n",
       "    </tr>\n",
       "    <tr>\n",
       "      <th>26</th>\n",
       "      <td>-0.009411</td>\n",
       "      <td>-0.834827</td>\n",
       "      <td>7.659467e+275</td>\n",
       "      <td>-0.859025</td>\n",
       "    </tr>\n",
       "    <tr>\n",
       "      <th>27</th>\n",
       "      <td>-7.354897</td>\n",
       "      <td>-8.067015</td>\n",
       "      <td>9.138394e+275</td>\n",
       "      <td>-8.230460</td>\n",
       "    </tr>\n",
       "    <tr>\n",
       "      <th>28</th>\n",
       "      <td>-6.516548</td>\n",
       "      <td>-7.324552</td>\n",
       "      <td>1.331550e+276</td>\n",
       "      <td>-7.653225</td>\n",
       "    </tr>\n",
       "    <tr>\n",
       "      <th>29</th>\n",
       "      <td>-7.907099</td>\n",
       "      <td>-8.708916</td>\n",
       "      <td>1.460035e+276</td>\n",
       "      <td>-9.104995</td>\n",
       "    </tr>\n",
       "    <tr>\n",
       "      <th>30</th>\n",
       "      <td>-6.110885</td>\n",
       "      <td>-6.866407</td>\n",
       "      <td>8.339939e+275</td>\n",
       "      <td>-6.990808</td>\n",
       "    </tr>\n",
       "    <tr>\n",
       "      <th>31</th>\n",
       "      <td>-13.288377</td>\n",
       "      <td>-13.064288</td>\n",
       "      <td>1.298722e+276</td>\n",
       "      <td>-13.260393</td>\n",
       "    </tr>\n",
       "    <tr>\n",
       "      <th>32</th>\n",
       "      <td>-13.322668</td>\n",
       "      <td>-12.341380</td>\n",
       "      <td>1.397254e+276</td>\n",
       "      <td>-12.413999</td>\n",
       "    </tr>\n",
       "    <tr>\n",
       "      <th>33</th>\n",
       "      <td>-10.821384</td>\n",
       "      <td>-9.959748</td>\n",
       "      <td>1.134937e+276</td>\n",
       "      <td>-9.922464</td>\n",
       "    </tr>\n",
       "    <tr>\n",
       "      <th>34</th>\n",
       "      <td>-12.341453</td>\n",
       "      <td>-11.057867</td>\n",
       "      <td>1.362721e+276</td>\n",
       "      <td>-11.038809</td>\n",
       "    </tr>\n",
       "    <tr>\n",
       "      <th>35</th>\n",
       "      <td>-13.839775</td>\n",
       "      <td>-13.962519</td>\n",
       "      <td>1.354260e+276</td>\n",
       "      <td>-14.261370</td>\n",
       "    </tr>\n",
       "    <tr>\n",
       "      <th>36</th>\n",
       "      <td>-7.852741</td>\n",
       "      <td>-7.624499</td>\n",
       "      <td>7.709009e+275</td>\n",
       "      <td>-7.541467</td>\n",
       "    </tr>\n",
       "    <tr>\n",
       "      <th>37</th>\n",
       "      <td>-8.437679</td>\n",
       "      <td>-8.531032</td>\n",
       "      <td>8.240877e+275</td>\n",
       "      <td>-8.544985</td>\n",
       "    </tr>\n",
       "    <tr>\n",
       "      <th>38</th>\n",
       "      <td>-12.857871</td>\n",
       "      <td>-13.418786</td>\n",
       "      <td>1.363923e+276</td>\n",
       "      <td>-13.800070</td>\n",
       "    </tr>\n",
       "    <tr>\n",
       "      <th>39</th>\n",
       "      <td>0.246073</td>\n",
       "      <td>-0.625374</td>\n",
       "      <td>5.299117e+275</td>\n",
       "      <td>-0.566830</td>\n",
       "    </tr>\n",
       "  </tbody>\n",
       "</table>\n",
       "</div>"
      ],
      "text/plain": [
       "        .0001       .001            .01     Actual\n",
       "0    1.621635   0.967715  9.981870e+275   0.916551\n",
       "1  -12.534666 -11.157160  1.401751e+276 -11.135640\n",
       "2  -12.768187 -10.873946  1.548842e+276 -10.801274\n",
       "3    1.517111   0.751082  7.912000e+275   0.752401\n",
       "4   -0.635259  -1.424111  9.185467e+275  -1.507111\n",
       "5  -14.427485 -14.127965  1.413893e+276 -14.368052\n",
       "6  -14.141442 -14.537238  1.428208e+276 -14.926405\n",
       "7   -6.933836  -6.807272  6.767354e+275  -6.696970\n",
       "8   -8.460977  -9.116421  9.785937e+275  -9.308390\n",
       "9   -4.671865  -5.489690  7.921418e+275  -5.590497\n",
       "10  -9.656072  -8.685704  1.041723e+276  -8.573142\n",
       "11  22.100491  22.269189  2.154200e+275  22.987737\n",
       "12  -6.749889  -7.509545  9.069016e+275  -7.671620\n",
       "13  -1.231915  -2.071032  8.131039e+275  -2.133810\n",
       "14  -8.919941  -9.687119  1.149748e+276  -9.973964\n",
       "15  -2.558279  -3.406982  8.589476e+275  -3.508493\n",
       "16 -12.580046 -11.822934  1.287790e+276 -11.891167\n",
       "17  -8.883399  -7.348246  1.086746e+276  -7.121162\n",
       "18  -7.092733  -7.805746  8.876859e+275  -7.955699\n",
       "19  -8.624635  -9.437257  1.238173e+276  -9.762700\n",
       "20 -11.542827  -9.988176  1.346961e+276  -9.893825\n",
       "21   5.280661   4.876148  1.050517e+276   4.912003\n",
       "22 -15.832776 -15.495204  1.553031e+276 -15.800142\n",
       "23  20.664698  20.721452  2.220853e+275  21.392629\n",
       "24 -13.845971 -13.614782  1.353272e+276 -13.838072\n",
       "25  -5.554342  -6.370188  1.228461e+276  -6.647642\n",
       "26  -0.009411  -0.834827  7.659467e+275  -0.859025\n",
       "27  -7.354897  -8.067015  9.138394e+275  -8.230460\n",
       "28  -6.516548  -7.324552  1.331550e+276  -7.653225\n",
       "29  -7.907099  -8.708916  1.460035e+276  -9.104995\n",
       "30  -6.110885  -6.866407  8.339939e+275  -6.990808\n",
       "31 -13.288377 -13.064288  1.298722e+276 -13.260393\n",
       "32 -13.322668 -12.341380  1.397254e+276 -12.413999\n",
       "33 -10.821384  -9.959748  1.134937e+276  -9.922464\n",
       "34 -12.341453 -11.057867  1.362721e+276 -11.038809\n",
       "35 -13.839775 -13.962519  1.354260e+276 -14.261370\n",
       "36  -7.852741  -7.624499  7.709009e+275  -7.541467\n",
       "37  -8.437679  -8.531032  8.240877e+275  -8.544985\n",
       "38 -12.857871 -13.418786  1.363923e+276 -13.800070\n",
       "39   0.246073  -0.625374  5.299117e+275  -0.566830"
      ]
     },
     "execution_count": 94,
     "metadata": {},
     "output_type": "execute_result"
    }
   ],
   "source": [
    "# Fit model for each learning rate\n",
    "sgd_01 = StochasticGradient(learning = .01, iterations = 40, epoch = 10)\n",
    "sgd_01.fit(X, y)\n",
    "sgd_01.predict(X)\n",
    "\n",
    "sgd_001 = StochasticGradient(learning = .001, iterations = 40, epoch = 10)\n",
    "sgd_001.fit(X, y)\n",
    "sgd_001.predict(X)\n",
    "\n",
    "sgd_0001 = StochasticGradient(learning = .0001, iterations = 40, epoch = 10)\n",
    "sgd_0001.fit(X, y)\n",
    "sgd_0001.predict(X)\n",
    "\n",
    "predictions_q1 = {\n",
    "    \".01\":sgd_01.predictions,\n",
    "    \".001\":sgd_001.predictions,\n",
    "    \".0001\":sgd_0001.predictions,\n",
    "    \"Actual\":y\n",
    "}\n",
    "\n",
    "# Show prediction results\n",
    "\n",
    "pd.DataFrame(predictions_q1)\n"
   ]
  },
  {
   "cell_type": "markdown",
   "metadata": {},
   "source": [
    "**Prepare data for plotting**"
   ]
  },
  {
   "cell_type": "code",
   "execution_count": 87,
   "metadata": {
    "collapsed": false,
    "scrolled": true
   },
   "outputs": [],
   "source": [
    "# Create arrays for plots for each learning rate\n",
    "mse_epoch_01 = []\n",
    "w0_epoch_01 = []\n",
    "w1_epoch_01 = []\n",
    "w2_epoch_01 = []\n",
    "w3_epoch_01 = []\n",
    "\n",
    "mse_epoch_001 = []\n",
    "w0_epoch_001 = []\n",
    "w1_epoch_001 = []\n",
    "w2_epoch_001 = []\n",
    "w3_epoch_001 = []\n",
    "\n",
    "mse_epoch_0001 = []\n",
    "w0_epoch_0001 = []\n",
    "w1_epoch_0001 = []\n",
    "w2_epoch_0001 = []\n",
    "w3_epoch_0001 = []\n",
    "\n",
    "# Create indexes for epochs 1-10\n",
    "epoch_list = [x for x in range(1,11)]\n",
    "epoch_list = np.array(epoch_list)\n",
    "mse_list = [mse_epoch_01, mse_epoch_001, mse_epoch_0001]\n",
    "\n",
    "eta_list = [.01, .001, .0001]\n",
    "\n",
    "w0_list = [w0_epoch_01, w0_epoch_001, w0_epoch_0001]\n",
    "w1_list = [w1_epoch_01, w1_epoch_001, w1_epoch_0001]\n",
    "w2_list = [w2_epoch_01, w2_epoch_001, w2_epoch_0001]\n",
    "w3_list = [w3_epoch_01, w3_epoch_001, w3_epoch_0001]\n",
    "\n",
    "weights_loop = [w0_list, w1_list, w2_list, w3_list]\n",
    "\n",
    "# MSE - learning rates\n",
    "for i in range(len(mse_list)):\n",
    "#     for epoch, weights in sgd_01.weights_epoch: \n",
    "    for j in range(10):\n",
    "        sgd_plot = StochasticGradient(learning = eta_list[i], iterations = 40, epoch = j)\n",
    "        sgd_plot.fit(X,y)\n",
    "        sgd_plot.predict(X)\n",
    "        mse_plot = (sgd_plot.predictions - y)**2\n",
    "        \n",
    "        mse_list[i].append(np.mean(mse_plot))\n",
    "\n",
    "    mse_list[i] = np.array(mse_list[i])\n",
    "    \n",
    "# Weights\n",
    "for i in range(len(weights_loop)):\n",
    "    for e in range(len(eta_list)):\n",
    "        for j in range(10):\n",
    "            sgd_plot = StochasticGradient(learning = eta_list[e], iterations = 40, epoch = j)\n",
    "            sgd_plot.fit(X,y)\n",
    "            \n",
    "            weights_loop[i][e].append(sgd_plot.weights[i])"
   ]
  },
  {
   "cell_type": "markdown",
   "metadata": {},
   "source": [
    "**Create the plots**"
   ]
  },
  {
   "cell_type": "code",
   "execution_count": 88,
   "metadata": {
    "collapsed": false
   },
   "outputs": [
    {
     "data": {
      "text/plain": [
       "<matplotlib.figure.Figure at 0x11f291ed0>"
      ]
     },
     "metadata": {},
     "output_type": "display_data"
    },
    {
     "data": {
      "image/png": "[encoded data removed]",
      "text/plain": [
       "<matplotlib.figure.Figure at 0x11f291810>"
      ]
     },
     "metadata": {},
     "output_type": "display_data"
    },
    {
     "data": {
      "text/plain": [
       "<matplotlib.figure.Figure at 0x11de170d0>"
      ]
     },
     "metadata": {},
     "output_type": "display_data"
    },
    {
     "data": {
      "image/png": "[encoded data removed]",
      "text/plain": [
       "<matplotlib.figure.Figure at 0x121c6bdd0>"
      ]
     },
     "metadata": {},
     "output_type": "display_data"
    },
    {
     "data": {
      "text/plain": [
       "<matplotlib.figure.Figure at 0x121c6de90>"
      ]
     },
     "metadata": {},
     "output_type": "display_data"
    },
    {
     "data": {
      "image/png": "[encoded data removed]",
      "text/plain": [
       "<matplotlib.figure.Figure at 0x11e0c90d0>"
      ]
     },
     "metadata": {},
     "output_type": "display_data"
    },
    {
     "data": {
      "text/plain": [
       "<matplotlib.figure.Figure at 0x11e036c10>"
      ]
     },
     "metadata": {},
     "output_type": "display_data"
    },
    {
     "data": {
      "image/png": "[encoded data removed]",
      "text/plain": [
       "<matplotlib.figure.Figure at 0x121c32590>"
      ]
     },
     "metadata": {},
     "output_type": "display_data"
    },
    {
     "data": {
      "text/plain": [
       "<matplotlib.figure.Figure at 0x11f690c50>"
      ]
     },
     "metadata": {},
     "output_type": "display_data"
    },
    {
     "data": {
      "image/png": "[encoded data removed]",
      "text/plain": [
       "<matplotlib.figure.Figure at 0x11e5685d0>"
      ]
     },
     "metadata": {},
     "output_type": "display_data"
    }
   ],
   "source": [
    "# Create plots for MSE\n",
    "plt.figure(figsize=(12,4))\n",
    "\n",
    "f, (ax1, ax2, ax3) = plt.subplots(1, 3)\n",
    "f.suptitle(\"MSE\", fontsize = 13, y = 1.1)\n",
    "f.set_size_inches(13,3)\n",
    "\n",
    "ax1.plot(epoch_list, mse_epoch_01)\n",
    "ax1.set_title('Learning Rate = .01')\n",
    "ax1.set_xlabel('Epoch #')\n",
    "ax1.set_ylabel('MSE')\n",
    "ax1.set_xlim(1,10)\n",
    "\n",
    "ax2.plot(epoch_list, mse_epoch_001)\n",
    "ax2.set_title('Learning Rate = .001')\n",
    "ax2.set_xlabel('Epoch #')\n",
    "\n",
    "ax3.plot(epoch_list, mse_epoch_0001)\n",
    "ax3.set_title('Learning Rate = .0001')\n",
    "ax3.set_xlabel('Epoch #')\n",
    "\n",
    "plt.savefig('mse_q1.png')\n",
    "\n",
    "# Create plots for weights\n",
    "\n",
    "plot_title = [\"W0\",\"W1\",\"W2\",\"W3\"]\n",
    "\n",
    "# For each \n",
    "for i in range(4):\n",
    "    plt.figure(figsize=(12,4))\n",
    "\n",
    "    f, (ax1, ax2, ax3) = plt.subplots(1, 3)\n",
    "    f.suptitle(plot_title[i], fontsize = 13, y = 1.1)\n",
    "    f.set_size_inches(13,3)\n",
    "\n",
    "    ax1.plot(epoch_list, weights_loop[i][0])\n",
    "    ax1.set_title('Learning Rate = .01')\n",
    "    ax1.set_xlabel('Epoch #')\n",
    "    ax1.set_ylabel(plot_title[i])\n",
    "    ax1.set_xlim(1,10)\n",
    "\n",
    "    ax2.plot(epoch_list, weights_loop[i][1])\n",
    "    ax2.set_title('Learning Rate = .001')\n",
    "    ax2.set_xlabel('Epoch #')\n",
    "\n",
    "\n",
    "    ax3.plot(epoch_list, weights_loop[i][2])\n",
    "    ax3.set_title('Learning Rate = .0001')\n",
    "    ax3.set_xlabel('Epoch #')\n",
    "    \n",
    "    plt.savefig('{}.png'.format(plot_title[i]))\n",
    "    \n",
    "    \n",
    "\n",
    "# plt.savefig('weights.png')"
   ]
  },
  {
   "cell_type": "markdown",
   "metadata": {},
   "source": [
    "# Question 2: Gradient Descent (5 pts)\n",
    "\n",
    "Suppose we are trying to use gradient descent to minimize a cost function y = f(w) as shown in the figure below. This function is linearly decreasing between A and B, constant between B and C, quadratic between C and D and constant between D and E. Assume that we have 10000 data points in our training set. If we choose the starting point between B and C, will we be able to find the local minima? Explain your answer. If your answer is \"Yes\", can you give a bound on the number of iterations required to get to the local minima?\n",
    "\n",
    "<img src=\"sgd.png\">\n",
    "\n",
    "#### Answer\n",
    "\n",
    "If we use batch gradient descent and calculate weight updates using all 10,000 data points, we will not be able to find the local minima because $\\Delta w_{j}$ for all $j$ will be 0, and the weights wouldn't update. However, we may be able to find the local minima using stochastic gradient descent because random data points are used to calculate weight updates and we would be able to get close to the local minima if we find the optimal parameters for the learning rate, iterations and epoch."
   ]
  },
  {
   "cell_type": "markdown",
   "metadata": {},
   "source": [
    "# Question 3: Multi-layer Perceptron regressor (15 points)\n",
    "\n",
    "In this question, you will explore the application of Multi-layer Perceptron (MLP) regression using sklearn package in Python. We will use the same dataset used in HW2 Q5: Hitters.csv [here](https://rdrr.io/cran/ISLR/man/Hitters.html). \n",
    "\n",
    "Following code will load and split the data into training and test set using [train_test_split](http://scikit-learn.org/stable/modules/generated/sklearn.model_selection.train_test_split.html) with **random state 42** and **test_size = 0.33**:"
   ]
  },
  {
   "cell_type": "code",
   "execution_count": 7,
   "metadata": {
    "collapsed": false
   },
   "outputs": [
    {
     "name": "stdout",
     "output_type": "stream",
     "text": [
      "(263, 16)\n"
     ]
    }
   ],
   "source": [
    "import pandas as pd\n",
    "import numpy as np\n",
    "from sklearn.model_selection import (train_test_split,KFold)\n",
    "from sklearn.metrics import mean_squared_error\n",
    "from sklearn.neural_network import MLPRegressor\n",
    "from sklearn.preprocessing import StandardScaler\n",
    "import matplotlib.pyplot as plt\n",
    "%matplotlib inline\n",
    "\n",
    "data = pd.read_csv('Hitters.csv')\n",
    "label_name = 'Salary'\n",
    "y = data[label_name]\n",
    "X = data.drop(label_name,axis=1)\n",
    "print X.shape\n",
    "\n",
    "X_train, X_test, y_train, y_test = train_test_split(X,y,test_size = 0.33, random_state=42)"
   ]
  },
  {
   "cell_type": "markdown",
   "metadata": {},
   "source": [
    "One more thing to use in this problem is [StandardScaler](http://scikit-learn.org/stable/modules/generated/sklearn.preprocessing.StandardScaler.html). Instead of fitting a model on original data, use StandardScaler to make each feature centered ([Example](http://scikit-learn.org/stable/auto_examples/applications/plot_prediction_latency.html#sphx-glr-auto-examples-applications-plot-prediction-latency-py)). Whenever you have training and test data, fit a scaler on training data and use this scaler on test data. Here, scale only features (independent variables), not target variable y."
   ]
  },
  {
   "cell_type": "markdown",
   "metadata": {},
   "source": [
    "1) Use [sklearn.neural_nework.MLPRegressor](http://scikit-learn.org/stable/modules/generated/sklearn.neural_network.MLPRegressor.html#sklearn.neural_network.MLPRegressor) to do a 5-fold cross validation using sklearn's [KFold](http://scikit-learn.org/stable/modules/generated/sklearn.model_selection.KFold.html#sklearn.model_selection.KFold). The cross validation must be performed on the **training data**. Use following parameter settings for MLPRegressor:\n",
    "\n",
    "    activation = 'tanh', solver = 'sgd', learning_rate='constant', random_state=42,\n",
    "    batch_size=40, learning_rate_init = 0.001\n",
    "    \n",
    "Now, consider two different settings for the number of hidden units:\n",
    "    \n",
    "   (a) *hidden_layer_sizes = (2,)* (b) *hidden_layer_sizes = (15,)*\n",
    "    \n",
    "   Report the average Root Mean Squared Error (RMSE) value based on your 5-fold cross validation for each model: (a) and (b) (6pts)\n",
    "   \n",
    "   \n",
    "2) Now, using the same parameters used in part 1), train MLPRegressor models on whole training data and report RMSE score for both Train and Test set (Again, use StandardScaler). Which model works better, (a) or (b)? Briefly analyze the result in terms of the number of hidden units. (5pts)\n",
    "\n",
    "\n",
    "3) MLPRegressor has a built-in attribute *loss\\_curve\\_* which returns the loss at each iteration. For example, if your model is named as *my_model* you can call it as *my\\_model.loss\\_curve\\_* ([example](http://scikit-learn.org/stable/auto_examples/neural_networks/plot_mlp_training_curves.html#sphx-glr-auto-examples-neural-networks-plot-mlp-training-curves-py)). Plot two curves for model (a) and (b) in one figure, where *X-axis* is iteration number and *Y-axis* is squared root of *loss\\_curve\\_* value. (4pts)"
   ]
  },
  {
   "cell_type": "markdown",
   "metadata": {},
   "source": [
    "#### Answer\n",
    "\n",
    "1)\n",
    "\n",
    "```Average Train RMSE of 5-Fold CV, Hidden Layers = 2: 388.52\n",
    "Average Train RMSE of 5-Fold CV, Hidden Layers = 15: 308.04```\n",
    "\n",
    "2) The test RMSE for the model with 15 hidden layers was lower than that for the model with 2 hidden layers. Adding more hidden layers allowed the model to learn the complexity of the data set better.\n",
    "\n",
    "```\n",
    "Test RMSE, Hidden Layers = 2: 504.52\n",
    "Test RMSE, Hidden Layers = 15: 418.60\n",
    "```\n",
    "\n",
    "3) The plot of the square root of the loss curve can be found below.\n",
    "\n",
    "![alt text][q3]\n",
    "\n",
    "[q3]:https://github.com/billy-yuan/MIS382N-APM/blob/master/HW3/Graphs/sqrt_loss_q3.png?raw=true\n"
   ]
  },
  {
   "cell_type": "markdown",
   "metadata": {},
   "source": [
    "**Scale and center the data**"
   ]
  },
  {
   "cell_type": "code",
   "execution_count": 95,
   "metadata": {
    "collapsed": false
   },
   "outputs": [],
   "source": [
    "# Scale and center train data\n",
    "scale_train = StandardScaler()\n",
    "scale_train.fit(X_train)\n",
    "X_train_std = pd.DataFrame(scale_train.transform(X_train))\n",
    "\n",
    "# Scale and center test data\n",
    "scale_test = StandardScaler()\n",
    "scale_test.fit(X_test)\n",
    "X_test_std = pd.DataFrame(scale_train.transform(X_test))"
   ]
  },
  {
   "cell_type": "markdown",
   "metadata": {},
   "source": [
    "**Train models, split the data using KFold, and calculate training RMSE**"
   ]
  },
  {
   "cell_type": "code",
   "execution_count": 96,
   "metadata": {
    "collapsed": false
   },
   "outputs": [
    {
     "name": "stdout",
     "output_type": "stream",
     "text": [
      "Average Train RMSE of 5-Fold CV, Hidden Layers = 2: 388.52\n",
      "Average Train RMSE of 5-Fold CV, Hidden Layers = 15: 308.04\n"
     ]
    }
   ],
   "source": [
    "# Create RMSE function\n",
    "def avg_rmse_calc(x,y):\n",
    "    # x and y are arrays of equal length\n",
    "    return np.mean((x-y)**2)**0.5\n",
    "\n",
    "# Set parameters for neural network for hidden layer sizes of (2,) and (15,)\n",
    "mlp_2 = MLPRegressor(hidden_layer_sizes=(2,),activation = 'tanh', solver = 'sgd', \\\n",
    "                     learning_rate='constant', random_state=42,batch_size=40, learning_rate_init = 0.001)\n",
    "\n",
    "mlp_15 = MLPRegressor(hidden_layer_sizes=(15,),activation = 'tanh', solver = 'sgd', \\\n",
    "                      learning_rate='constant', random_state=42, batch_size=40, learning_rate_init = 0.001)\n",
    "\n",
    "# Create 5 folds of training data\n",
    "kf3 = KFold(n_splits=5, random_state=42)\n",
    "kf3.get_n_splits(X_train)\n",
    "\n",
    "# Create 2 lists to store the average rmse of each fold for each model\n",
    "rmse_2 = []\n",
    "rmse_15 = []\n",
    "\n",
    "# Fit models\n",
    "for train, test in kf3.split(X_train_std):\n",
    "    ### fit and get rmse of hidden layer = 2\n",
    "    mlp_2.fit(X_train_std.iloc[train], y_train.iloc[train])\n",
    "    \n",
    "    yhat_2 = mlp_2.predict(X_train_std.iloc[test])\n",
    "    y_actual_2 = y_train.iloc[test]\n",
    "    \n",
    "    # append rmse values into list\n",
    "    rmse_2.append(avg_rmse_calc(yhat_2, y_actual_2))\n",
    "    \n",
    "    ### fit and get rmse of hidden layer = 15\n",
    "    \n",
    "    mlp_15.fit(X_train_std.iloc[train], y_train.iloc[train])\n",
    "    \n",
    "    yhat_15 = mlp_15.predict(X_train_std.iloc[test])\n",
    "    y_actual_15 = y_train.iloc[test]\n",
    "    \n",
    "    rmse_15.append(avg_rmse_calc(yhat_15, y_actual_15))\n",
    "\n",
    "print \"Average Train RMSE of 5-Fold CV, Hidden Layers = 2: {:.2f}\".format(np.mean(rmse_2))\n",
    "print \"Average Train RMSE of 5-Fold CV, Hidden Layers = 15: {:.2f}\".format(np.mean(rmse_15))\n"
   ]
  },
  {
   "cell_type": "markdown",
   "metadata": {},
   "source": [
    "**Calculate test RMSE**"
   ]
  },
  {
   "cell_type": "code",
   "execution_count": 97,
   "metadata": {
    "collapsed": false
   },
   "outputs": [
    {
     "name": "stdout",
     "output_type": "stream",
     "text": [
      "Test RMSE, Hidden Layers = 2: 504.52\n",
      "Test RMSE, Hidden Layers = 15: 418.60\n"
     ]
    }
   ],
   "source": [
    "# Fit entire training data into model\n",
    "mlp_2.fit(X_train_std, y_train)\n",
    "mlp_15.fit(X_train_std, y_train)\n",
    "\n",
    "# Calculate Test RMSE\n",
    "# mlp_2.predict(X_test)\n",
    "print \"Test RMSE, Hidden Layers = 2: {:.2f}\".format(avg_rmse_calc(y_test,mlp_2.predict(X_test_std)))\n",
    "print \"Test RMSE, Hidden Layers = 15: {:.2f}\".format(avg_rmse_calc(y_test,mlp_15.predict(X_test_std)))"
   ]
  },
  {
   "cell_type": "markdown",
   "metadata": {},
   "source": [
    "**Plot loss curves (uncomment to view)**"
   ]
  },
  {
   "cell_type": "code",
   "execution_count": 105,
   "metadata": {
    "collapsed": false
   },
   "outputs": [],
   "source": [
    "# fig, (ax1, ax2) = plt.subplots(1,2)\n",
    "\n",
    "# fig.set_size_inches(12,5)\n",
    "# ax1.set_title(\"Loss Curve, Hidden Layer = 2\")\n",
    "# ax1.plot(np.sqrt(mlp_2.loss_curve_))\n",
    "# ax1.set_xlabel(\"Iteration\")\n",
    "# ax1.set_ylabel(\"Loss\")\n",
    "\n",
    "# ax2.set_title(\"Loss Curve, Hidden Layer = 15\")\n",
    "# ax2.plot(np.sqrt(mlp_15.loss_curve_))\n",
    "# ax2.set_xlabel(\"Iteration\")\n",
    "\n",
    "# fig.savefig('loss_q3.png')"
   ]
  },
  {
   "cell_type": "markdown",
   "metadata": {},
   "source": [
    "# Question 4 - Bayesian Classifiers (10 pts)\n",
    "\n",
    "Download the Smarket dataset from Canvas. This contains about four years worth of daily prices for one stock. The goal is to predict whether or not the stock price will go up or down, and the features are the stock prices of the last five days.  \n",
    "The code below loads the dataset and all necessary sklearn modules (not that you can't use more if you feel like it). Look up any module on the scikit-learn website for a full description.\n",
    "\n",
    "1. The last 50 points will be the test dataset. For training, use the 1000 points prior to these 50 test points.\n",
    "2. Train Linear Discriminant Analysis, Quadratic Discriminant Analysis, and (Gaussian) Naive Bayes. Extract the probability of the stock price going up for each row in the test set.\n",
    "3. Plot the receiver operating characteristic (ROC) curve of each model, using the extracted probabilities and the true values for the test set. (3 pts)\n",
    "4. Report the area under the ROC curve (AUC) for each model. (2 pts)\n",
    "6. Justify the performance of each model, relative to the others. (1 pts)\n",
    "7. Repeat steps 1-6, only using the prior 100 points for training. Explain the changes in model performance. (4 pts)"
   ]
  },
  {
   "cell_type": "code",
   "execution_count": 48,
   "metadata": {
    "collapsed": true
   },
   "outputs": [],
   "source": [
    "import pandas as pd\n",
    "from sklearn.model_selection import train_test_split\n",
    "from sklearn.metrics import roc_curve, roc_auc_score\n",
    "from sklearn.naive_bayes import GaussianNB\n",
    "from sklearn.discriminant_analysis import LinearDiscriminantAnalysis as LDA\n",
    "from sklearn.discriminant_analysis import QuadraticDiscriminantAnalysis as QDA\n",
    "data = pd.read_csv('Smarket.csv', usecols=['Lag1','Lag2','Lag3','Lag4','Lag5','Direction'])"
   ]
  },
  {
   "cell_type": "markdown",
   "metadata": {},
   "source": [
    "#### Answer\n",
    "\n",
    "1. Refer to the code below.\n",
    "2. Refer to the code below.\n",
    "3. The ROC curve and the area can be found in the plot below. The area under the curve for each model is stated in the plot's legend. \n",
    "![alt text][q4_1000]\n",
    "4. Using 1000 training points, the areas are:\n",
    "```\n",
    "LDA: 0.520\n",
    "QDA: 0.628\n",
    "Naive Bayes: 0.522\n",
    "```\n",
    "5. The QDA performed the best because the \"separator\" between the classes for \"Up\" and \"Down\" isn't perfectly linear. Below is a plot of Lag1 and Lag2, and the colors are for each class. The green is for \"Up\" and the red is for \"Down.\" Observing the scatter plot between Lag1 and Lag2 in 2 dimensions, we cannot observe any \"clustering\" between the two classes. Assuming this is the case for all 5 dimensions, LDA would not perform much better than flipping a coin. Naive Bayes also struggles because the likelihood values used to estimate the posteriors do not provide much more information. As a result, the Naive Bayes essentially just predicts the priors.\n",
    "![alt text][q4_lag]\n",
    "6. The performance of all 3 models got worse, and the area under the ROC curve decreased as well. This is not surprising because we are training these models with fewer data points.\n",
    "![alt text][q4_100]\n",
    "\n",
    "[q4_1000]:https://github.com/billy-yuan/MIS382N-APM/blob/master/HW3/Graphs/roc_1000_q4.png?raw=true\n",
    "[q4_lag]:https://github.com/billy-yuan/MIS382N-APM/blob/master/HW3/Graphs/lag1_vs_lag2_q4.png?raw=true\n",
    "[q4_100]:https://github.com/billy-yuan/MIS382N-APM/blob/master/HW3/Graphs/roc_100_q4.png?raw=true"
   ]
  },
  {
   "cell_type": "markdown",
   "metadata": {},
   "source": [
    "**Train models**"
   ]
  },
  {
   "cell_type": "code",
   "execution_count": 78,
   "metadata": {
    "collapsed": false
   },
   "outputs": [],
   "source": [
    "# Create binary target\n",
    "data['target'] = data['Direction'].map(lambda x: 1 if (x == 'Up') else 0)\n",
    "\n",
    "# Create train and test sets\n",
    "X_q4 = data.drop(['Direction', 'target'], axis=1)\n",
    "Y_q4 = data['target']\n",
    "\n",
    "X_train_q4 = X_q4.iloc[-1050:-50,:]\n",
    "X_test_q4 = X_q4.iloc[-50:,]\n",
    "\n",
    "y_train_q4 = Y_q4.iloc[-1050:-50]\n",
    "y_test_q4 = Y_q4.iloc[-50:]\n",
    "\n",
    "# Train LDA\n",
    "lda = LDA()\n",
    "lda.fit(X_train_q4,y_train_q4 )\n",
    "yhat_lda = lda.predict(X_test_q4)\n",
    "\n",
    "# Train QDA\n",
    "qda = QDA()\n",
    "qda.fit(X_train_q4,y_train_q4 )\n",
    "yhat_qda = qda.predict(X_test_q4)\n",
    "\n",
    "# Train Gaussian NB\n",
    "gb = GaussianNB()\n",
    "gb.fit(X_train_q4, y_train_q4)\n",
    "yhat_gb = gb.predict(X_test_q4)"
   ]
  },
  {
   "cell_type": "markdown",
   "metadata": {},
   "source": [
    "**Plot ROC curves for the models using 1000 training points**"
   ]
  },
  {
   "cell_type": "code",
   "execution_count": 106,
   "metadata": {
    "collapsed": false
   },
   "outputs": [
    {
     "data": {
      "text/plain": [
       "<matplotlib.text.Text at 0x11e5f3b10>"
      ]
     },
     "execution_count": 106,
     "metadata": {},
     "output_type": "execute_result"
    },
    {
     "data": {
      "image/png": "[encoded data removed]",
      "text/plain": [
       "<matplotlib.figure.Figure at 0x11e71bc10>"
      ]
     },
     "metadata": {},
     "output_type": "display_data"
    }
   ],
   "source": [
    "from sklearn import metrics\n",
    "\n",
    "# Store probabilities of positive class (Up) in arrays\n",
    "lda_prob = np.array([item[1] for item in lda.predict_proba(X_test_q4)])\n",
    "qda_prob = np.array([item[1] for item in qda.predict_proba(X_test_q4)])\n",
    "gb_prob = np.array([item[1] for item in gb.predict_proba(X_test_q4)])\n",
    "\n",
    "fpr_lda, tpr_lda, thresholds = metrics.roc_curve(y_test_q4, lda_prob, pos_label=1)\n",
    "fpr_qda, tpr_qda, thresholds = metrics.roc_curve(y_test_q4, qda_prob, pos_label=1)\n",
    "fpr_gb, tpr_gb, thresholds = metrics.roc_curve(y_test_q4, gb_prob, pos_label=1)\n",
    "\n",
    "# Calculate area under ROC curve\n",
    "clf_q4 = [lda_prob, qda_prob, gb_prob]\n",
    "roc_area = []\n",
    "for clf in clf_q4:\n",
    "    area = metrics.roc_auc_score(y_test_q4, clf)\n",
    "    roc_area.append(area)\n",
    "\n",
    "# Plots\n",
    "plt.figure(figsize=(8,6))\n",
    "plt.subplot(111)\n",
    "plt.xlabel('False Positive Rate', fontsize=12)\n",
    "plt.ylabel('True Positive Rate', fontsize=12)\n",
    "\n",
    "labels_q4 = ['LDA','QDA','Naive Bayes']\n",
    "fpr_list = [fpr_lda, fpr_qda, fpr_gb]\n",
    "tpr_list = [tpr_lda, tpr_qda, tpr_gb]\n",
    "color_q4 = ['red','blue','purple']\n",
    "\n",
    "plt.plot([0,1],[0,1], linestyle='--', color='black')\n",
    "for i in range(len(labels_q4)):\n",
    "    plt.plot(fpr_list[i], tpr_list[i], color = color_q4[i], \\\n",
    "            label=\"{} (area = {:.3f})\".format(labels_q4[i], roc_area[i]))\n",
    "\n",
    "\n",
    "plt.legend(loc='lower right')\n",
    "plt.title('ROC Curves, 1000 Training Points', fontsize = 16)\n",
    "\n",
    "# plt.savefig('roc_1000_q4.png')"
   ]
  },
  {
   "cell_type": "markdown",
   "metadata": {},
   "source": [
    "**Plot the ROC curves for the models using 100 data points**"
   ]
  },
  {
   "cell_type": "code",
   "execution_count": 15,
   "metadata": {
    "collapsed": true
   },
   "outputs": [],
   "source": [
    "# Repeat the same steps above using first 100 points\n",
    "\n",
    "# Create training set using 100 points prior. Test remains the same\n",
    "X_train_q4_100 = X_q4.iloc[-1150:-1050,:]\n",
    "y_train_q4_100 = Y_q4.iloc[-1150:-1050]\n",
    "\n",
    "\n",
    "# Train LDA\n",
    "lda_100 = LDA()\n",
    "lda_100.fit(X_train_q4_100,y_train_q4_100)\n",
    "yhat_lda_100 = lda.predict(X_test_q4)\n",
    "\n",
    "# Train QDA\n",
    "qda_100 = QDA()\n",
    "qda_100.fit(X_train_q4_100,y_train_q4_100)\n",
    "yhat_qda_100 = qda.predict(X_test_q4)\n",
    "\n",
    "# Train Gaussian NB\n",
    "gb_100 = GaussianNB()\n",
    "gb_100.fit(X_train_q4_100, y_train_q4_100)\n",
    "yhat_gb_100 = gb_100.predict(X_test_q4)"
   ]
  },
  {
   "cell_type": "code",
   "execution_count": 81,
   "metadata": {
    "collapsed": false,
    "scrolled": false
   },
   "outputs": [
    {
     "data": {
      "image/png": "[encoded data removed]",
      "text/plain": [
       "<matplotlib.figure.Figure at 0x1205464d0>"
      ]
     },
     "metadata": {},
     "output_type": "display_data"
    }
   ],
   "source": [
    "# Store probabilities of positive class (Up) in arrays\n",
    "lda_prob_100 = np.array([item[1] for item in lda_100.predict_proba(X_test_q4)])\n",
    "qda_prob_100 = np.array([item[1] for item in qda_100.predict_proba(X_test_q4)])\n",
    "gb_prob_100 = np.array([item[1] for item in gb_100.predict_proba(X_test_q4)])\n",
    "\n",
    "fpr_lda, tpr_lda, thresholds = metrics.roc_curve(y_test_q4, lda_prob_100, pos_label=1)\n",
    "fpr_qda, tpr_qda, thresholds = metrics.roc_curve(y_test_q4, qda_prob_100, pos_label=1)\n",
    "fpr_gb, tpr_gb, thresholds = metrics.roc_curve(y_test_q4, gb_prob_100, pos_label=1)\n",
    "\n",
    "# Calculate area under ROC curve\n",
    "clf_q4_100 = [lda_prob_100, qda_prob_100, gb_prob_100]\n",
    "roc_area = [] # Store area under ROC curve in list\n",
    "for clf in clf_q4_100:\n",
    "    area = metrics.roc_auc_score(y_test_q4, clf)\n",
    "    roc_area.append(area)\n",
    "\n",
    "# Plots\n",
    "plt.figure(figsize=(8,6))\n",
    "plt.subplot(111)\n",
    "plt.xlabel('False Positive Rate', fontsize=12)\n",
    "plt.ylabel('True Positive Rate', fontsize=12)\n",
    "\n",
    "labels_q4 = ['LDA','QDA','Naive Bayes']\n",
    "fpr_list = [fpr_lda, fpr_qda, fpr_gb]\n",
    "tpr_list = [tpr_lda, tpr_qda, tpr_gb]\n",
    "color_q4 = ['red','blue','purple']\n",
    "\n",
    "plt.plot([0,1],[0,1], linestyle='--', color='black')\n",
    "for i in range(len(labels_q4)):\n",
    "    plt.plot(fpr_list[i], tpr_list[i], color = color_q4[i], \\\n",
    "             label=\"{} (area = {:.3f})\".format(labels_q4[i], roc_area[i]))\n",
    "\n",
    "\n",
    "plt.legend(loc='lower right')\n",
    "plt.title('ROC Curves, 100 Training Points', fontsize = 16)\n",
    "\n",
    "plt.savefig('roc_100_q4.png')"
   ]
  },
  {
   "cell_type": "markdown",
   "metadata": {},
   "source": [
    "**Misc**"
   ]
  },
  {
   "cell_type": "code",
   "execution_count": 107,
   "metadata": {
    "collapsed": false
   },
   "outputs": [],
   "source": [
    "# # This code is to create the plot used in the explanation for part 5.\n",
    "\n",
    "# plt.figure(figsize=(8,6))\n",
    "# x1_q4 = data['Lag1']\n",
    "# x2_q4 = data['Lag2']\n",
    "\n",
    "# up = [141/255., 219/255., 135/255.]\n",
    "# down = [198/255., 31/255., 31/255.]\n",
    "\n",
    "# classes = data['Direction']\n",
    "# classes_color = []\n",
    "# for item in classes:\n",
    "#     if item == 'Up':\n",
    "#         classes_color.append(up)\n",
    "#     else:\n",
    "#         classes_color.append(down)\n",
    "\n",
    "# plt.scatter(x1_q4, x2_q4, color=classes_color)\n",
    "# plt.xlabel('Lag1')\n",
    "# plt.ylabel('Lag2')\n",
    "# plt.title('Lag1 vs Lag2')\n",
    "\n",
    "# ax = plt.subplot(111)\n",
    "# ax.spines[\"top\"].set_visible(False)    \n",
    "# ax.spines[\"bottom\"].set_visible(True)    \n",
    "# ax.spines[\"right\"].set_visible(False)    \n",
    "# ax.spines[\"left\"].set_visible(True) \n",
    "\n",
    "# ax.get_xaxis().tick_bottom()    \n",
    "# ax.get_yaxis().tick_left() \n",
    "\n",
    "# plt.savefig('lag1_vs_lag2_q4.png')"
   ]
  },
  {
   "cell_type": "markdown",
   "metadata": {},
   "source": [
    "# Question 5 - Logistic Regression (15pts)\n",
    "\n",
    "In this question we will be predicting mile per gallon (mpg) for Auto data set. ('Auto.csv' in Canvas)\n",
    "1. Convert mpg to a binary variable mpg01 which is 1 if had an mpg is greater than median mpg and zero otherwise\n",
    "2. Split the data into training and test. Use 42 as random seed and use 1/3rd of the data for testing. Our y variable is mpg01 and X matrix includes all the other variables except mpg01.\n",
    "3. Train a logistic regression with almost no regularization (pass l2 (ridge) to penalty and 1,000,000 to the C parameter which is the inverse of regularization strength lambda. This essentially does l2 regularization but applies very little weight to the penalty term) and report the [confusion matrix](http://scikit-learn.org/stable/modules/generated/sklearn.metrics.confusion_matrix.html) on the test data. Also report the accuracy for the \"mpg01 = 0\" class, the \"mpg01 = 1\" class, and the average per-class accuracy on the test data. Average per-class accuracy is described in this [post](http://rasbt.github.io/mlxtend/user_guide/evaluate/scoring/). You can use your confusion matrix to calculate this.\n",
    "4. Repeat step 3 except use l2 penalty with Cs of [0.001,0.01, 0.1, 1, 10 ,100, 1000]. You will want to use k-fold cross validation to select the best parameter. To evaluate which parameter is best, maximize the average per-class accuracy. To help with this task, check out [GridSearchCV](http://scikit-learn.org/stable/modules/generated/sklearn.model_selection.GridSearchCV.html#sklearn.model_selection.GridSearchCV) and how to make your own [custom scorer](http://scikit-learn.org/stable/modules/model_evaluation.html).\n",
    "5. Repeat question 4 except use l1 instead of l2 as the penalty type, use Cs of  [0.001, 0.01, ..., 1000]\n",
    "6. Which model produces the best average per-class accuracy? Why do you think this is the case? How do the models handle the different classes, and why is this so?"
   ]
  },
  {
   "cell_type": "markdown",
   "metadata": {},
   "source": [
    "Following code will load and clean the dataset and load some useful functions"
   ]
  },
  {
   "cell_type": "code",
   "execution_count": 2,
   "metadata": {
    "collapsed": false
   },
   "outputs": [
    {
     "data": {
      "text/html": [
       "<div>\n",
       "<table border=\"1\" class=\"dataframe\">\n",
       "  <thead>\n",
       "    <tr style=\"text-align: right;\">\n",
       "      <th></th>\n",
       "      <th>mpg</th>\n",
       "      <th>cylinders</th>\n",
       "      <th>displacement</th>\n",
       "      <th>horsepower</th>\n",
       "      <th>weight</th>\n",
       "      <th>acceleration</th>\n",
       "      <th>year</th>\n",
       "      <th>origin</th>\n",
       "    </tr>\n",
       "  </thead>\n",
       "  <tbody>\n",
       "    <tr>\n",
       "      <th>0</th>\n",
       "      <td>18.0</td>\n",
       "      <td>8</td>\n",
       "      <td>307.0</td>\n",
       "      <td>130.0</td>\n",
       "      <td>3504</td>\n",
       "      <td>12.0</td>\n",
       "      <td>70</td>\n",
       "      <td>1</td>\n",
       "    </tr>\n",
       "    <tr>\n",
       "      <th>1</th>\n",
       "      <td>15.0</td>\n",
       "      <td>8</td>\n",
       "      <td>350.0</td>\n",
       "      <td>165.0</td>\n",
       "      <td>3693</td>\n",
       "      <td>11.5</td>\n",
       "      <td>70</td>\n",
       "      <td>1</td>\n",
       "    </tr>\n",
       "    <tr>\n",
       "      <th>2</th>\n",
       "      <td>18.0</td>\n",
       "      <td>8</td>\n",
       "      <td>318.0</td>\n",
       "      <td>150.0</td>\n",
       "      <td>3436</td>\n",
       "      <td>11.0</td>\n",
       "      <td>70</td>\n",
       "      <td>1</td>\n",
       "    </tr>\n",
       "    <tr>\n",
       "      <th>3</th>\n",
       "      <td>16.0</td>\n",
       "      <td>8</td>\n",
       "      <td>304.0</td>\n",
       "      <td>150.0</td>\n",
       "      <td>3433</td>\n",
       "      <td>12.0</td>\n",
       "      <td>70</td>\n",
       "      <td>1</td>\n",
       "    </tr>\n",
       "    <tr>\n",
       "      <th>4</th>\n",
       "      <td>17.0</td>\n",
       "      <td>8</td>\n",
       "      <td>302.0</td>\n",
       "      <td>140.0</td>\n",
       "      <td>3449</td>\n",
       "      <td>10.5</td>\n",
       "      <td>70</td>\n",
       "      <td>1</td>\n",
       "    </tr>\n",
       "  </tbody>\n",
       "</table>\n",
       "</div>"
      ],
      "text/plain": [
       "    mpg  cylinders  displacement  horsepower  weight  acceleration  year  \\\n",
       "0  18.0          8         307.0       130.0    3504          12.0    70   \n",
       "1  15.0          8         350.0       165.0    3693          11.5    70   \n",
       "2  18.0          8         318.0       150.0    3436          11.0    70   \n",
       "3  16.0          8         304.0       150.0    3433          12.0    70   \n",
       "4  17.0          8         302.0       140.0    3449          10.5    70   \n",
       "\n",
       "   origin  \n",
       "0       1  \n",
       "1       1  \n",
       "2       1  \n",
       "3       1  \n",
       "4       1  "
      ]
     },
     "execution_count": 2,
     "metadata": {},
     "output_type": "execute_result"
    }
   ],
   "source": [
    "import pandas as pd\n",
    "import numpy as np\n",
    "\n",
    "from sklearn import cross_validation\n",
    "# from sklearn import model_selection # Use model_selection instead of cross_validation in sklearn version >=0.18\n",
    "from sklearn.linear_model import LogisticRegression\n",
    "from sklearn.metrics import mean_squared_error, confusion_matrix\n",
    "from sklearn.grid_search import GridSearchCV\n",
    "\n",
    "Auto = pd.read_csv('Auto.csv', na_values='?').drop('name',axis = 1).dropna()\n",
    "Auto.head(5)"
   ]
  },
  {
   "cell_type": "code",
   "execution_count": 3,
   "metadata": {
    "collapsed": true
   },
   "outputs": [],
   "source": [
    "#1\n",
    "mpg_median = Auto['mpg'].median()\n",
    "Auto['mpg01'] = 1\n",
    "Auto.loc[Auto.mpg <= mpg_median,'mpg01'] = 0"
   ]
  },
  {
   "cell_type": "code",
   "execution_count": 6,
   "metadata": {
    "collapsed": false
   },
   "outputs": [],
   "source": [
    "#2\n",
    "from patsy import dmatrices\n",
    "from sklearn.cross_validation import train_test_split\n",
    "\n",
    "Y, X = dmatrices('mpg01 ~ 0+cylinders+displacement+horsepower+weight+acceleration+year+origin',\n",
    "                 Auto,return_type=\"dataframe\")\n",
    "\n",
    "X_train, X_test, Y_train, Y_test = train_test_split(X, Y, test_size=1.0/3, random_state=42)"
   ]
  },
  {
   "cell_type": "code",
   "execution_count": 8,
   "metadata": {
    "collapsed": false
   },
   "outputs": [
    {
     "name": "stdout",
     "output_type": "stream",
     "text": [
      "[[55 15]\n",
      " [ 2 59]]\n",
      "mpg01 = 0 accuracy: 0.8\n",
      "mpg01 = 1 accuracy: 0.96\n",
      "average per-class accuracy: 0.87\n"
     ]
    }
   ],
   "source": [
    "#3\n",
    "mpg_logistic = LogisticRegression(penalty = 'l2',C = 1000000)\n",
    "mpg_logistic.fit(X_train,Y_train)\n",
    "y_pred_logistric = mpg_logistic.predict(X_test)\n",
    "cm = confusion_matrix(Y_test,y_pred_logistric)\n",
    "tn = float(cm[1][1])\n",
    "tp = float(cm[0][0])\n",
    "fn = float(cm[0][1])\n",
    "fp = float(cm[1][0])\n",
    "print cm\n",
    "print 'mpg01 = 0 accuracy:', round(tn/(tn+fn),2)\n",
    "print 'mpg01 = 1 accuracy:', round(tp/(tp+fp),2)\n",
    "print 'average per-class accuracy:', round((tp+tn)/len(Y_test),2)"
   ]
  },
  {
   "cell_type": "code",
   "execution_count": 9,
   "metadata": {
    "collapsed": false
   },
   "outputs": [
    {
     "name": "stdout",
     "output_type": "stream",
     "text": [
      "{'C': 0.01}\n",
      "0.920153256705\n"
     ]
    }
   ],
   "source": [
    "#4\n",
    "from sklearn.metrics import fbeta_score, make_scorer\n",
    "\n",
    "#create customized scorer\n",
    "def per_class_accuracy(ground_truth, prediction):\n",
    "    cm = confusion_matrix(ground_truth,prediction)\n",
    "    tn = float(cm[1][1])\n",
    "    tp = float(cm[0][0])\n",
    "    return round((tp+tn)/len(ground_truth),2)\n",
    "\n",
    "accuracy_score = make_scorer(per_class_accuracy, greater_is_better=True)\n",
    "\n",
    "#cross validate\n",
    "parameters = {'C':[0.001,0.01,0.1, 1, 10 ,100, 1000]}\n",
    "clf = GridSearchCV(mpg_logistic, parameters, cv = 5, scoring= accuracy_score)\n",
    "clf.fit(X_train,Y_train.mpg01.values)\n",
    "print clf.best_params_\n",
    "print clf.best_score_"
   ]
  },
  {
   "cell_type": "code",
   "execution_count": 10,
   "metadata": {
    "collapsed": false
   },
   "outputs": [
    {
     "name": "stdout",
     "output_type": "stream",
     "text": [
      "{'C': 10}\n",
      "0.924137931034\n"
     ]
    }
   ],
   "source": [
    "#5\n",
    "mpg_logistic_l1 = LogisticRegression(penalty = 'l1',C = 1000000)\n",
    "clf_l1 = GridSearchCV(mpg_logistic_l1, parameters, cv = 5, scoring= accuracy_score)\n",
    "clf_l1.fit(X_train,Y_train.mpg01.values)\n",
    "print clf_l1.best_params_\n",
    "print clf_l1.best_score_"
   ]
  },
  {
   "cell_type": "code",
   "execution_count": 11,
   "metadata": {
    "collapsed": false
   },
   "outputs": [
    {
     "name": "stdout",
     "output_type": "stream",
     "text": [
      "[[56 14]\n",
      " [ 1 60]]\n"
     ]
    }
   ],
   "source": [
    "#6\n",
    "best_mpg = LogisticRegression(penalty = 'l1',C = 10)\n",
    "best_mpg.fit(X_train,Y_train)\n",
    "y_best_mpg = best_mpg.predict(X_test)\n",
    "cm = confusion_matrix(Y_test,y_best_mpg)\n",
    "print cm"
   ]
  },
  {
   "cell_type": "markdown",
   "metadata": {},
   "source": [
    "The best model is the one with l1 penalty and C = 10 since it has the highest accuracy score. This is because l1 and C of 10 make the coefficients shrink faster, leaving only the important variables. A high C can drive down both true positives and true negatives, because when the penalty is low the model tends to overfit the training set."
   ]
  },
  {
   "cell_type": "markdown",
   "metadata": {
    "collapsed": true
   },
   "source": [
    "# Question 6: House Prices (kaggle competition) (25 pts)\n",
    "\n",
    "In this problem, we are going to explore a kaggle competition: [House Prices](https://www.kaggle.com/c/house-prices-advanced-regression-techniques). Your goal is to obtain the best score you can in this competition. This is an ongoing competition, and you have the opportunity to win the prize money! \n",
    "\n",
    "The first step is to make a Kaggle account. Then find the House Prices competition and read the competition details and the description of the dataset. You may find this [article](https://ww2.amstat.org/publications/jse/v19n3/decock.pdf) useful.\n",
    "\n",
    "Your work should meet the following requirements:\n",
    "\n",
    "1. Data Preprocessing. \n",
    " * Conduct some data preprocessing. (Hint: see if there is any skewed features and consider applying suitable transformation techniques to make them more \"normal\").\n",
    " * Impute the missing values (if any).\n",
    "2. Predictive Models. \n",
    " * You have to create at least three models: simple linear regression, Lasso and Ridge regression and multilayer perceptron. You may consider creating an ensemble of these models as well (optional). For Lasso and Ridge regression, optimize the alphas using cross validation. You may try other predictive models to get better scores (optional).\n",
    "3. Evaluation: submit your model to kaggle submission site and report the public score.\n",
    "\n",
    "Briefly describe your work on each of these steps. Explain (very briefly) what approaches you tried, what worked and what did not work. Mention your team's kaggle name and include a screen shot of your public submission score. Finally, try your best to win this competition!"
   ]
  },
  {
   "cell_type": "code",
   "execution_count": 18,
   "metadata": {
    "collapsed": true
   },
   "outputs": [],
   "source": [
    "houseData = pd.read_csv(\"Kaggle/train.csv\")"
   ]
  },
  {
   "cell_type": "code",
   "execution_count": 19,
   "metadata": {
    "collapsed": false,
    "scrolled": true
   },
   "outputs": [
    {
     "data": {
      "text/plain": [
       "20     0.367123\n",
       "60     0.204795\n",
       "50     0.098630\n",
       "120    0.059589\n",
       "30     0.047260\n",
       "160    0.043151\n",
       "70     0.041096\n",
       "80     0.039726\n",
       "90     0.035616\n",
       "190    0.020548\n",
       "85     0.013699\n",
       "75     0.010959\n",
       "45     0.008219\n",
       "180    0.006849\n",
       "40     0.002740\n",
       "Name: MSSubClass, dtype: float64"
      ]
     },
     "execution_count": 19,
     "metadata": {},
     "output_type": "execute_result"
    }
   ],
   "source": [
    "# Most of the houses are either type 20 or 60\n",
    "houseData['MSSubClass'].value_counts() / sum(houseData['MSSubClass'].value_counts())"
   ]
  },
  {
   "cell_type": "code",
   "execution_count": 20,
   "metadata": {
    "collapsed": false
   },
   "outputs": [
    {
     "data": {
      "text/html": [
       "<div>\n",
       "<table border=\"1\" class=\"dataframe\">\n",
       "  <thead>\n",
       "    <tr style=\"text-align: right;\">\n",
       "      <th></th>\n",
       "      <th>SalePrice</th>\n",
       "    </tr>\n",
       "  </thead>\n",
       "  <tbody>\n",
       "    <tr>\n",
       "      <th>count</th>\n",
       "      <td>1460.000000</td>\n",
       "    </tr>\n",
       "    <tr>\n",
       "      <th>mean</th>\n",
       "      <td>180921.195890</td>\n",
       "    </tr>\n",
       "    <tr>\n",
       "      <th>std</th>\n",
       "      <td>79442.502883</td>\n",
       "    </tr>\n",
       "    <tr>\n",
       "      <th>min</th>\n",
       "      <td>34900.000000</td>\n",
       "    </tr>\n",
       "    <tr>\n",
       "      <th>25%</th>\n",
       "      <td>129975.000000</td>\n",
       "    </tr>\n",
       "    <tr>\n",
       "      <th>50%</th>\n",
       "      <td>163000.000000</td>\n",
       "    </tr>\n",
       "    <tr>\n",
       "      <th>75%</th>\n",
       "      <td>214000.000000</td>\n",
       "    </tr>\n",
       "    <tr>\n",
       "      <th>max</th>\n",
       "      <td>755000.000000</td>\n",
       "    </tr>\n",
       "  </tbody>\n",
       "</table>\n",
       "</div>"
      ],
      "text/plain": [
       "           SalePrice\n",
       "count    1460.000000\n",
       "mean   180921.195890\n",
       "std     79442.502883\n",
       "min     34900.000000\n",
       "25%    129975.000000\n",
       "50%    163000.000000\n",
       "75%    214000.000000\n",
       "max    755000.000000"
      ]
     },
     "execution_count": 20,
     "metadata": {},
     "output_type": "execute_result"
    }
   ],
   "source": [
    "houseData[['SalePrice']].describe()"
   ]
  },
  {
   "cell_type": "code",
   "execution_count": 21,
   "metadata": {
    "collapsed": false
   },
   "outputs": [
    {
     "data": {
      "text/plain": [
       "RL         1151\n",
       "RM          218\n",
       "FV           65\n",
       "RH           16\n",
       "C (all)      10\n",
       "Name: MSZoning, dtype: int64"
      ]
     },
     "execution_count": 21,
     "metadata": {},
     "output_type": "execute_result"
    }
   ],
   "source": [
    "houseData['MSZoning'].value_counts() \n",
    "\n"
   ]
  },
  {
   "cell_type": "code",
   "execution_count": null,
   "metadata": {
    "collapsed": true
   },
   "outputs": [],
   "source": []
  }
 ],
 "metadata": {
  "anaconda-cloud": {},
  "kernelspec": {
   "display_name": "Python [Root]",
   "language": "python",
   "name": "Python [Root]"
  },
  "language_info": {
   "codemirror_mode": {
    "name": "ipython",
    "version": 2
   },
   "file_extension": ".py",
   "mimetype": "text/x-python",
   "name": "python",
   "nbconvert_exporter": "python",
   "pygments_lexer": "ipython2",
   "version": "2.7.12"
  }
 },
 "nbformat": 4,
 "nbformat_minor": 0
}
