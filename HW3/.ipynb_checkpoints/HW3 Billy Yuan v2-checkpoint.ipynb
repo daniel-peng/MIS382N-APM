{
 "cells": [
  {
   "cell_type": "markdown",
   "metadata": {},
   "source": [
    "# <p style=\"text-align: center;\">MIS 382N: Advanced Predictive Modeling</p>\n",
    "# <p style=\"text-align: center;\">Assignment 3</p>\n",
    "## <p style=\"text-align: center;\">Total points: 80 </p>\n",
    "## <p style=\"text-align: center;\">Due: Mon, October 24, by 11:59pm</p>\n",
    "\n",
    "\n",
    "Your homework should be written in a **Jupyter notebook**. Please submit **only one** ipynb file from each group, and include the names of all the group members. Also, please make sure your code runs and the graphics (and anything else) are displayed in your notebook before submitting."
   ]
  },
  {
   "cell_type": "markdown",
   "metadata": {},
   "source": [
    "# Question 1 - Stochastic Gradient Descent (10pts)\n",
    "\n",
    "1. Using stochastic gradient descent, derive the coefficent updates for all 4 coefficients of the model: $$ y = w_0 + w_1*x_1 + w_2*x_1^2 + w_3*x_2 $$ Hint: start from the cost function (Assume sum of squared error). If you write the math by hand, submit that as a separate file and make a reference to it in your notebook or include the image in your notebook.\n",
    "2. Write Python code for an SGD solution to the non-linear model $$ y = w_0 + w_1*x_1 + w_2*x_1^2 + w_3*x_2$$ Try to format similarly to scikit-learn's models. There should be a _fit_ function that takes parameters X, y, learning rate, and number of iterations, and a _predict_ function that takes an X value (optionally, an array of values). Use your new gradient descent regression to predict the data given in 'samples.csv', for 10 epochs, using learning rates: [.0001, .001, .01] . Plot MSE and the $w$ parameters as a function of epoch count."
   ]
  },
  {
   "cell_type": "markdown",
   "metadata": {},
   "source": [
    "### Answer\n",
    "\n",
    "#### Part 1\n",
    "\n",
    "We update our weight, $w_{j}$, using the following rule:\n",
    "$$w_{j} = w_{j} - \\eta\\Delta w_{j} $$\n",
    "\n",
    "where $\\eta$ is the learning rate, $\\Delta w_{j} = \\frac {\\delta E_{n}}{\\delta w_{j}}$ and $E_{n}$ is our cost function. \n",
    "\n",
    "The math below shows how $\\Delta w_{j}$ can be derived.\n",
    "\n",
    "---\n",
    "\n",
    "$Y$ is:\n",
    "\n",
    " \n",
    "$$ y = w_0 + w_1x_1 + w_2x_1^2 + w_3x_2$$\n",
    "\n",
    "\n",
    "Let $t_{n}$ be a test data point.\n",
    "\n",
    "We can rewrite our cost function, $E_{n}$ as:\n",
    "\n",
    "$$ E_{n} = (t_{n} - y_{n})^2 $$\n",
    "\n",
    "Our coefficient update, $\\Delta w$, is the partial derivative $\\frac {\\delta E_{n}}{\\delta w_{j}}$. Using the chain rule and including $\\eta$, we get:\n",
    "\n",
    "$$\\frac {\\delta E_{n}}{\\delta w_{0}} = -2\\eta* (t_{n} - y_{n}) $$\n",
    "\n",
    "$$\\frac {\\delta E_{n}}{\\delta w_{1}} = -2\\eta * x_{1}(t_{n} - y_{n}) $$\n",
    "\n",
    "$$\\frac {\\delta E_{n}}{\\delta w_{2}} = -2\\eta * x_{1}^2(t_{n} - y_{n}) $$\n",
    "\n",
    "$$\\frac {\\delta E_{n}}{\\delta w_{3}} = -2\\eta * x_{2}(t_{n} - y_{n}) $$\n",
    "\n",
    "Thus, our final weight updates are:\n",
    "\n",
    "$$ w_{0} = w_{0} + 2\\eta* (t_{n} - y_{n}) $$\n",
    "$$ w_{1} = w_{1} + 2\\eta * x_{1}(t_{n} - y_{n})$$\n",
    "$$ w_{2} = w_{2} + 2\\eta * x_{1}^2(t_{n} - y_{n}) $$\n",
    "$$ w_{3} = w_{3} + 2\\eta * x_{2}(t_{n} - y_{n}) $$\n"
   ]
  },
  {
   "cell_type": "markdown",
   "metadata": {},
   "source": [
    "#### Part 2\n",
    "\n",
    "The steps from building the ```StochasticGradient()``` class to making predictions and plotting the parameters as a function of epoch are below.\n",
    "\n",
    "**Load data**"
   ]
  },
  {
   "cell_type": "code",
   "execution_count": 1,
   "metadata": {
    "collapsed": false,
    "scrolled": true
   },
   "outputs": [],
   "source": [
    "import numpy as np\n",
    "import pandas as pd\n",
    "import matplotlib\n",
    "import matplotlib.pyplot as plt\n",
    "%matplotlib inline  \n",
    "from sklearn.utils import shuffle\n",
    "\n",
    "# Read in file\n",
    "data_q1 = pd.read_csv(\"samples.csv\",names=['index','x1','x2','target'],header=0)\n",
    "\n",
    "# Split up features and target\n",
    "features_q1 = data_q1[['x1','x2']]\n",
    "target_q1 = data_q1['target']\n",
    "\n",
    "# Make data into array\n",
    "X, y = np.array(features_q1), np.array(target_q1)"
   ]
  },
  {
   "cell_type": "markdown",
   "metadata": {},
   "source": [
    "**Build class for Stochastic Gradient descent**\n",
    "\n",
    "The ```StochasticGradient()``` class has functions for ```fit``` and ```predict.```"
   ]
  },
  {
   "cell_type": "code",
   "execution_count": 2,
   "metadata": {
    "collapsed": false,
    "scrolled": true
   },
   "outputs": [],
   "source": [
    "class StochasticGradient():\n",
    "    \n",
    "    \n",
    "    def __init__(self, learning, iterations, epoch):\n",
    "        \"\"\"The learning rate, number of iterations (e.g. data points used), and \n",
    "        epochs (e.g. number of times to repeat)\"\"\"\n",
    "        self.learning = learning\n",
    "        self.iterations = iterations\n",
    "        self.epoch = epoch\n",
    "\n",
    "    def fit(self, X, y):\n",
    "        \"\"\"The fit function takes X and y as arrays\"\"\"\n",
    "        \n",
    "        weights = np.array([.0005]*4)\n",
    "        \n",
    "        w0 = weights[0]\n",
    "        w1 = weights[1]\n",
    "        w2 = weights[2]\n",
    "        w3 = weights[3]\n",
    "        \n",
    "        # Randomize training data\n",
    "        train, target = shuffle(X,y)  \n",
    "\n",
    "        self.weights_epoch = []\n",
    "        \n",
    "        for j in range(self.epoch): \n",
    "            for i in range(self.iterations):\n",
    "                x1 = train[i][0]\n",
    "                x2 = train[i][1]\n",
    "                eta = self.learning\n",
    "                t = target[i]\n",
    "                y = w0 + (w1*x1) + (w2*x1**2) + (w3*x2)\n",
    "\n",
    "            # Make weight updates\n",
    "\n",
    "                w0 = w0 + 2*(t-y)*eta\n",
    "                w1 = w1 + 2*(t-y)*x1*eta\n",
    "                w2 = w2 + 2*(t-y)*(x1**2)*eta\n",
    "                w3 = w3 + 2*(t-y)*x2*eta\n",
    "\n",
    "                weights = [w0,w1,w2,w3]\n",
    "                \n",
    "            # Reshuffle data after each epoch\n",
    "            train, target = shuffle(train,target)\n",
    "            \n",
    "            # Store weights of every epoch into a list\n",
    "            self.weights_epoch.append((j+1,weights))\n",
    "\n",
    "        self.weights = weights\n",
    "            \n",
    "    def predict(self, X_test, weights = None):\n",
    "        \"\"\"The predict function takes in an array for X and optional weights. Default values\n",
    "        are the weights from fitting the model. To see the predicted values, use self.predictions\"\"\"\n",
    "        \n",
    "        # Define parameters to calculate hypothesis\n",
    "        if weights == None:\n",
    "            w0 = self.weights[0]\n",
    "            w1 = self.weights[1]\n",
    "            w2 = self.weights[2]\n",
    "            w3 = self.weights[3]\n",
    "        else:\n",
    "            w0 = weights[0]\n",
    "            w1 = weights[1]\n",
    "            w2 = weights[2]\n",
    "            w3 = weights[3]\n",
    "        \n",
    "        eta = self.learning\n",
    "        \n",
    "        test = X_test\n",
    "        \n",
    "        # Create list to store predictions\n",
    "        predictions = []\n",
    "        mse_store = []\n",
    "\n",
    "        # Store prediction of every point in list\n",
    "        for point in test:\n",
    "            x1 = float(point[0])\n",
    "            x2 = float(point[1])\n",
    "            yhat = w0 + w1*x1 + w2*x1**2 + w3*x2\n",
    "            \n",
    "            predictions.append(yhat)\n",
    "            \n",
    "        self.predictions = predictions\n",
    "\n",
    "            "
   ]
  },
  {
   "cell_type": "markdown",
   "metadata": {},
   "source": [
    "**Fit the models**\n",
    "\n",
    "Three models for the learning rates - ```.01,.001,.0001``` - are fitted. The predicted values are outputted as a DataFrame below."
   ]
  },
  {
   "cell_type": "code",
   "execution_count": 3,
   "metadata": {
    "collapsed": false,
    "scrolled": false
   },
   "outputs": [
    {
     "data": {
      "text/html": [
       "<div>\n",
       "<table border=\"1\" class=\"dataframe\">\n",
       "  <thead>\n",
       "    <tr style=\"text-align: right;\">\n",
       "      <th></th>\n",
       "      <th>.0001</th>\n",
       "      <th>.001</th>\n",
       "      <th>.01</th>\n",
       "      <th>Actual</th>\n",
       "    </tr>\n",
       "  </thead>\n",
       "  <tbody>\n",
       "    <tr>\n",
       "      <th>0</th>\n",
       "      <td>1.335221</td>\n",
       "      <td>2.302960</td>\n",
       "      <td>-3.641604e+266</td>\n",
       "      <td>0.916551</td>\n",
       "    </tr>\n",
       "    <tr>\n",
       "      <th>1</th>\n",
       "      <td>-12.675427</td>\n",
       "      <td>-11.755757</td>\n",
       "      <td>-2.602448e+266</td>\n",
       "      <td>-11.135640</td>\n",
       "    </tr>\n",
       "    <tr>\n",
       "      <th>2</th>\n",
       "      <td>-12.934534</td>\n",
       "      <td>-11.387624</td>\n",
       "      <td>-3.018252e+266</td>\n",
       "      <td>-10.801274</td>\n",
       "    </tr>\n",
       "    <tr>\n",
       "      <th>3</th>\n",
       "      <td>1.282681</td>\n",
       "      <td>1.862468</td>\n",
       "      <td>-2.942671e+266</td>\n",
       "      <td>0.752401</td>\n",
       "    </tr>\n",
       "    <tr>\n",
       "      <th>4</th>\n",
       "      <td>-0.869200</td>\n",
       "      <td>-0.519089</td>\n",
       "      <td>-3.029356e+266</td>\n",
       "      <td>-1.507111</td>\n",
       "    </tr>\n",
       "    <tr>\n",
       "      <th>5</th>\n",
       "      <td>-14.558793</td>\n",
       "      <td>-14.949199</td>\n",
       "      <td>-2.423595e+266</td>\n",
       "      <td>-14.368052</td>\n",
       "    </tr>\n",
       "    <tr>\n",
       "      <th>6</th>\n",
       "      <td>-14.291308</td>\n",
       "      <td>-15.257797</td>\n",
       "      <td>-2.567870e+266</td>\n",
       "      <td>-14.926405</td>\n",
       "    </tr>\n",
       "    <tr>\n",
       "      <th>7</th>\n",
       "      <td>-6.996746</td>\n",
       "      <td>-7.198909</td>\n",
       "      <td>-1.160072e+266</td>\n",
       "      <td>-6.696970</td>\n",
       "    </tr>\n",
       "    <tr>\n",
       "      <th>8</th>\n",
       "      <td>-8.588430</td>\n",
       "      <td>-9.390936</td>\n",
       "      <td>-1.983883e+266</td>\n",
       "      <td>-9.308390</td>\n",
       "    </tr>\n",
       "    <tr>\n",
       "      <th>9</th>\n",
       "      <td>-4.812758</td>\n",
       "      <td>-5.350029</td>\n",
       "      <td>-1.972148e+266</td>\n",
       "      <td>-5.590497</td>\n",
       "    </tr>\n",
       "    <tr>\n",
       "      <th>10</th>\n",
       "      <td>-9.756402</td>\n",
       "      <td>-9.178739</td>\n",
       "      <td>-1.885764e+266</td>\n",
       "      <td>-8.573142</td>\n",
       "    </tr>\n",
       "    <tr>\n",
       "      <th>11</th>\n",
       "      <td>21.710707</td>\n",
       "      <td>25.975703</td>\n",
       "      <td>-4.203279e+266</td>\n",
       "      <td>22.987737</td>\n",
       "    </tr>\n",
       "    <tr>\n",
       "      <th>12</th>\n",
       "      <td>-6.887029</td>\n",
       "      <td>-7.582288</td>\n",
       "      <td>-2.022595e+266</td>\n",
       "      <td>-7.671620</td>\n",
       "    </tr>\n",
       "    <tr>\n",
       "      <th>13</th>\n",
       "      <td>-1.430967</td>\n",
       "      <td>-1.366121</td>\n",
       "      <td>-2.586976e+266</td>\n",
       "      <td>-2.133810</td>\n",
       "    </tr>\n",
       "    <tr>\n",
       "      <th>14</th>\n",
       "      <td>-9.085158</td>\n",
       "      <td>-9.850522</td>\n",
       "      <td>-2.490771e+266</td>\n",
       "      <td>-9.973964</td>\n",
       "    </tr>\n",
       "    <tr>\n",
       "      <th>15</th>\n",
       "      <td>-2.748749</td>\n",
       "      <td>-2.863233</td>\n",
       "      <td>-2.531174e+266</td>\n",
       "      <td>-3.508493</td>\n",
       "    </tr>\n",
       "    <tr>\n",
       "      <th>16</th>\n",
       "      <td>-12.700877</td>\n",
       "      <td>-12.510094</td>\n",
       "      <td>-2.260801e+266</td>\n",
       "      <td>-11.891167</td>\n",
       "    </tr>\n",
       "    <tr>\n",
       "      <th>17</th>\n",
       "      <td>-8.998269</td>\n",
       "      <td>-7.706050</td>\n",
       "      <td>-2.116347e+266</td>\n",
       "      <td>-7.121162</td>\n",
       "    </tr>\n",
       "    <tr>\n",
       "      <th>18</th>\n",
       "      <td>-7.219088</td>\n",
       "      <td>-7.955139</td>\n",
       "      <td>-1.900882e+266</td>\n",
       "      <td>-7.955699</td>\n",
       "    </tr>\n",
       "    <tr>\n",
       "      <th>19</th>\n",
       "      <td>-8.817311</td>\n",
       "      <td>-9.460036</td>\n",
       "      <td>-2.835834e+266</td>\n",
       "      <td>-9.762700</td>\n",
       "    </tr>\n",
       "    <tr>\n",
       "      <th>20</th>\n",
       "      <td>-11.682257</td>\n",
       "      <td>-10.497427</td>\n",
       "      <td>-2.563193e+266</td>\n",
       "      <td>-9.893825</td>\n",
       "    </tr>\n",
       "    <tr>\n",
       "      <th>21</th>\n",
       "      <td>4.928967</td>\n",
       "      <td>6.827727</td>\n",
       "      <td>-4.375719e+266</td>\n",
       "      <td>4.912003</td>\n",
       "    </tr>\n",
       "    <tr>\n",
       "      <th>22</th>\n",
       "      <td>-15.977051</td>\n",
       "      <td>-16.396404</td>\n",
       "      <td>-2.663124e+266</td>\n",
       "      <td>-15.800142</td>\n",
       "    </tr>\n",
       "    <tr>\n",
       "      <th>23</th>\n",
       "      <td>20.293470</td>\n",
       "      <td>24.215059</td>\n",
       "      <td>-4.007015e+266</td>\n",
       "      <td>21.392629</td>\n",
       "    </tr>\n",
       "    <tr>\n",
       "      <th>24</th>\n",
       "      <td>-13.971947</td>\n",
       "      <td>-14.402991</td>\n",
       "      <td>-2.318195e+266</td>\n",
       "      <td>-13.838072</td>\n",
       "    </tr>\n",
       "    <tr>\n",
       "      <th>25</th>\n",
       "      <td>-5.791534</td>\n",
       "      <td>-5.918764</td>\n",
       "      <td>-3.288587e+266</td>\n",
       "      <td>-6.647642</td>\n",
       "    </tr>\n",
       "    <tr>\n",
       "      <th>26</th>\n",
       "      <td>-0.215065</td>\n",
       "      <td>0.013272</td>\n",
       "      <td>-2.621687e+266</td>\n",
       "      <td>-0.859025</td>\n",
       "    </tr>\n",
       "    <tr>\n",
       "      <th>27</th>\n",
       "      <td>-7.483815</td>\n",
       "      <td>-8.230758</td>\n",
       "      <td>-1.946681e+266</td>\n",
       "      <td>-8.230460</td>\n",
       "    </tr>\n",
       "    <tr>\n",
       "      <th>28</th>\n",
       "      <td>-6.764864</td>\n",
       "      <td>-6.918727</td>\n",
       "      <td>-3.480039e+266</td>\n",
       "      <td>-7.653225</td>\n",
       "    </tr>\n",
       "    <tr>\n",
       "      <th>29</th>\n",
       "      <td>-8.166411</td>\n",
       "      <td>-8.389874</td>\n",
       "      <td>-3.688702e+266</td>\n",
       "      <td>-9.104995</td>\n",
       "    </tr>\n",
       "    <tr>\n",
       "      <th>30</th>\n",
       "      <td>-6.239376</td>\n",
       "      <td>-6.914011</td>\n",
       "      <td>-1.879927e+266</td>\n",
       "      <td>-6.990808</td>\n",
       "    </tr>\n",
       "    <tr>\n",
       "      <th>31</th>\n",
       "      <td>-13.409251</td>\n",
       "      <td>-13.820558</td>\n",
       "      <td>-2.224757e+266</td>\n",
       "      <td>-13.260393</td>\n",
       "    </tr>\n",
       "    <tr>\n",
       "      <th>32</th>\n",
       "      <td>-13.456289</td>\n",
       "      <td>-13.045620</td>\n",
       "      <td>-2.492236e+266</td>\n",
       "      <td>-12.413999</td>\n",
       "    </tr>\n",
       "    <tr>\n",
       "      <th>33</th>\n",
       "      <td>-10.929025</td>\n",
       "      <td>-10.533772</td>\n",
       "      <td>-2.020791e+266</td>\n",
       "      <td>-9.922464</td>\n",
       "    </tr>\n",
       "    <tr>\n",
       "      <th>34</th>\n",
       "      <td>-12.476774</td>\n",
       "      <td>-11.660837</td>\n",
       "      <td>-2.509658e+266</td>\n",
       "      <td>-11.038809</td>\n",
       "    </tr>\n",
       "    <tr>\n",
       "      <th>35</th>\n",
       "      <td>-13.971483</td>\n",
       "      <td>-14.727970</td>\n",
       "      <td>-2.348600e+266</td>\n",
       "      <td>-14.261370</td>\n",
       "    </tr>\n",
       "    <tr>\n",
       "      <th>36</th>\n",
       "      <td>-7.923763</td>\n",
       "      <td>-8.069637</td>\n",
       "      <td>-1.321656e+266</td>\n",
       "      <td>-7.541467</td>\n",
       "    </tr>\n",
       "    <tr>\n",
       "      <th>37</th>\n",
       "      <td>-8.518045</td>\n",
       "      <td>-8.994549</td>\n",
       "      <td>-1.430493e+266</td>\n",
       "      <td>-8.544985</td>\n",
       "    </tr>\n",
       "    <tr>\n",
       "      <th>38</th>\n",
       "      <td>-13.013683</td>\n",
       "      <td>-13.993746</td>\n",
       "      <td>-2.568272e+266</td>\n",
       "      <td>-13.800070</td>\n",
       "    </tr>\n",
       "    <tr>\n",
       "      <th>39</th>\n",
       "      <td>0.095220</td>\n",
       "      <td>0.021722</td>\n",
       "      <td>-1.877806e+266</td>\n",
       "      <td>-0.566830</td>\n",
       "    </tr>\n",
       "  </tbody>\n",
       "</table>\n",
       "</div>"
      ],
      "text/plain": [
       "        .0001       .001            .01     Actual\n",
       "0    1.335221   2.302960 -3.641604e+266   0.916551\n",
       "1  -12.675427 -11.755757 -2.602448e+266 -11.135640\n",
       "2  -12.934534 -11.387624 -3.018252e+266 -10.801274\n",
       "3    1.282681   1.862468 -2.942671e+266   0.752401\n",
       "4   -0.869200  -0.519089 -3.029356e+266  -1.507111\n",
       "5  -14.558793 -14.949199 -2.423595e+266 -14.368052\n",
       "6  -14.291308 -15.257797 -2.567870e+266 -14.926405\n",
       "7   -6.996746  -7.198909 -1.160072e+266  -6.696970\n",
       "8   -8.588430  -9.390936 -1.983883e+266  -9.308390\n",
       "9   -4.812758  -5.350029 -1.972148e+266  -5.590497\n",
       "10  -9.756402  -9.178739 -1.885764e+266  -8.573142\n",
       "11  21.710707  25.975703 -4.203279e+266  22.987737\n",
       "12  -6.887029  -7.582288 -2.022595e+266  -7.671620\n",
       "13  -1.430967  -1.366121 -2.586976e+266  -2.133810\n",
       "14  -9.085158  -9.850522 -2.490771e+266  -9.973964\n",
       "15  -2.748749  -2.863233 -2.531174e+266  -3.508493\n",
       "16 -12.700877 -12.510094 -2.260801e+266 -11.891167\n",
       "17  -8.998269  -7.706050 -2.116347e+266  -7.121162\n",
       "18  -7.219088  -7.955139 -1.900882e+266  -7.955699\n",
       "19  -8.817311  -9.460036 -2.835834e+266  -9.762700\n",
       "20 -11.682257 -10.497427 -2.563193e+266  -9.893825\n",
       "21   4.928967   6.827727 -4.375719e+266   4.912003\n",
       "22 -15.977051 -16.396404 -2.663124e+266 -15.800142\n",
       "23  20.293470  24.215059 -4.007015e+266  21.392629\n",
       "24 -13.971947 -14.402991 -2.318195e+266 -13.838072\n",
       "25  -5.791534  -5.918764 -3.288587e+266  -6.647642\n",
       "26  -0.215065   0.013272 -2.621687e+266  -0.859025\n",
       "27  -7.483815  -8.230758 -1.946681e+266  -8.230460\n",
       "28  -6.764864  -6.918727 -3.480039e+266  -7.653225\n",
       "29  -8.166411  -8.389874 -3.688702e+266  -9.104995\n",
       "30  -6.239376  -6.914011 -1.879927e+266  -6.990808\n",
       "31 -13.409251 -13.820558 -2.224757e+266 -13.260393\n",
       "32 -13.456289 -13.045620 -2.492236e+266 -12.413999\n",
       "33 -10.929025 -10.533772 -2.020791e+266  -9.922464\n",
       "34 -12.476774 -11.660837 -2.509658e+266 -11.038809\n",
       "35 -13.971483 -14.727970 -2.348600e+266 -14.261370\n",
       "36  -7.923763  -8.069637 -1.321656e+266  -7.541467\n",
       "37  -8.518045  -8.994549 -1.430493e+266  -8.544985\n",
       "38 -13.013683 -13.993746 -2.568272e+266 -13.800070\n",
       "39   0.095220   0.021722 -1.877806e+266  -0.566830"
      ]
     },
     "execution_count": 3,
     "metadata": {},
     "output_type": "execute_result"
    }
   ],
   "source": [
    "# Fit model for each learning rate\n",
    "sgd_01 = StochasticGradient(learning = .01, iterations = 40, epoch = 10)\n",
    "sgd_01.fit(X, y)\n",
    "sgd_01.predict(X)\n",
    "\n",
    "sgd_001 = StochasticGradient(learning = .001, iterations = 40, epoch = 10)\n",
    "sgd_001.fit(X, y)\n",
    "sgd_001.predict(X)\n",
    "\n",
    "sgd_0001 = StochasticGradient(learning = .0001, iterations = 40, epoch = 10)\n",
    "sgd_0001.fit(X, y)\n",
    "sgd_0001.predict(X)\n",
    "\n",
    "predictions_q1 = {\n",
    "    \".01\":sgd_01.predictions,\n",
    "    \".001\":sgd_001.predictions,\n",
    "    \".0001\":sgd_0001.predictions,\n",
    "    \"Actual\":y\n",
    "}\n",
    "\n",
    "# Show prediction results\n",
    "\n",
    "pd.DataFrame(predictions_q1)\n"
   ]
  },
  {
   "cell_type": "markdown",
   "metadata": {},
   "source": [
    "**Prepare data for plotting**"
   ]
  },
  {
   "cell_type": "code",
   "execution_count": 4,
   "metadata": {
    "collapsed": false,
    "scrolled": true
   },
   "outputs": [],
   "source": [
    "# Create arrays for plots for each learning rate\n",
    "mse_epoch_01 = []\n",
    "w0_epoch_01 = []\n",
    "w1_epoch_01 = []\n",
    "w2_epoch_01 = []\n",
    "w3_epoch_01 = []\n",
    "\n",
    "mse_epoch_001 = []\n",
    "w0_epoch_001 = []\n",
    "w1_epoch_001 = []\n",
    "w2_epoch_001 = []\n",
    "w3_epoch_001 = []\n",
    "\n",
    "mse_epoch_0001 = []\n",
    "w0_epoch_0001 = []\n",
    "w1_epoch_0001 = []\n",
    "w2_epoch_0001 = []\n",
    "w3_epoch_0001 = []\n",
    "\n",
    "# Create indexes for epochs 1-10\n",
    "epoch_list = [x for x in range(1,11)]\n",
    "epoch_list = np.array(epoch_list)\n",
    "mse_list = [mse_epoch_01, mse_epoch_001, mse_epoch_0001]\n",
    "\n",
    "eta_list = [.01, .001, .0001]\n",
    "\n",
    "w0_list = [w0_epoch_01, w0_epoch_001, w0_epoch_0001]\n",
    "w1_list = [w1_epoch_01, w1_epoch_001, w1_epoch_0001]\n",
    "w2_list = [w2_epoch_01, w2_epoch_001, w2_epoch_0001]\n",
    "w3_list = [w3_epoch_01, w3_epoch_001, w3_epoch_0001]\n",
    "\n",
    "weights_loop = [w0_list, w1_list, w2_list, w3_list]\n",
    "\n",
    "# MSE - learning rates\n",
    "for i in range(len(mse_list)):\n",
    "#     for epoch, weights in sgd_01.weights_epoch: \n",
    "    for j in range(10):\n",
    "        sgd_plot = StochasticGradient(learning = eta_list[i], iterations = 40, epoch = j)\n",
    "        sgd_plot.fit(X,y)\n",
    "        sgd_plot.predict(X)\n",
    "        mse_plot = (sgd_plot.predictions - y)**2\n",
    "        \n",
    "        mse_list[i].append(np.mean(mse_plot))\n",
    "\n",
    "    mse_list[i] = np.array(mse_list[i])\n",
    "    \n",
    "# Weights\n",
    "for i in range(len(weights_loop)):\n",
    "    for e in range(len(eta_list)):\n",
    "        for j in range(10):\n",
    "            sgd_plot = StochasticGradient(learning = eta_list[e], iterations = 40, epoch = j)\n",
    "            sgd_plot.fit(X,y)\n",
    "            \n",
    "            weights_loop[i][e].append(sgd_plot.weights[i])"
   ]
  },
  {
   "cell_type": "markdown",
   "metadata": {},
   "source": [
    "**Create the plots**"
   ]
  },
  {
   "cell_type": "code",
   "execution_count": 5,
   "metadata": {
    "collapsed": false
   },
   "outputs": [
    {
     "data": {
      "text/plain": [
       "<matplotlib.figure.Figure at 0x118eaebd0>"
      ]
     },
     "metadata": {},
     "output_type": "display_data"
    },
    {
     "data": {
      "image/png": "[encoded data removed]",
      "text/plain": [
       "<matplotlib.figure.Figure at 0x118eaec10>"
      ]
     },
     "metadata": {},
     "output_type": "display_data"
    },
    {
     "data": {
      "text/plain": [
       "<matplotlib.figure.Figure at 0x11b1b14d0>"
      ]
     },
     "metadata": {},
     "output_type": "display_data"
    },
    {
     "data": {
      "image/png": "[encoded data removed]",
      "text/plain": [
       "<matplotlib.figure.Figure at 0x11b6f6090>"
      ]
     },
     "metadata": {},
     "output_type": "display_data"
    },
    {
     "data": {
      "text/plain": [
       "<matplotlib.figure.Figure at 0x11b95c150>"
      ]
     },
     "metadata": {},
     "output_type": "display_data"
    },
    {
     "data": {
      "image/png": "[encoded data removed]",
      "text/plain": [
       "<matplotlib.figure.Figure at 0x11bb32d50>"
      ]
     },
     "metadata": {},
     "output_type": "display_data"
    },
    {
     "data": {
      "text/plain": [
       "<matplotlib.figure.Figure at 0x11bda15d0>"
      ]
     },
     "metadata": {},
     "output_type": "display_data"
    },
    {
     "data": {
      "image/png": "[encoded data removed]",
      "text/plain": [
       "<matplotlib.figure.Figure at 0x11bfa1110>"
      ]
     },
     "metadata": {},
     "output_type": "display_data"
    },
    {
     "data": {
      "text/plain": [
       "<matplotlib.figure.Figure at 0x11c3b5ed0>"
      ]
     },
     "metadata": {},
     "output_type": "display_data"
    },
    {
     "data": {
      "image/png": "[encoded data removed]",
      "text/plain": [
       "<matplotlib.figure.Figure at 0x11c4f5290>"
      ]
     },
     "metadata": {},
     "output_type": "display_data"
    }
   ],
   "source": [
    "# Create plots for MSE\n",
    "plt.figure(figsize=(12,4))\n",
    "\n",
    "f, (ax1, ax2, ax3) = plt.subplots(1, 3)\n",
    "f.suptitle(\"MSE\", fontsize = 13, y = 1.1)\n",
    "f.set_size_inches(13,3)\n",
    "\n",
    "ax1.plot(epoch_list, mse_epoch_01)\n",
    "ax1.set_title('Learning Rate = .01')\n",
    "ax1.set_xlabel('Epoch #')\n",
    "ax1.set_ylabel('MSE')\n",
    "ax1.set_xlim(1,10)\n",
    "\n",
    "ax2.plot(epoch_list, mse_epoch_001)\n",
    "ax2.set_title('Learning Rate = .001')\n",
    "ax2.set_xlabel('Epoch #')\n",
    "\n",
    "ax3.plot(epoch_list, mse_epoch_0001)\n",
    "ax3.set_title('Learning Rate = .0001')\n",
    "ax3.set_xlabel('Epoch #')\n",
    "\n",
    "plt.savefig('mse_q1.png')\n",
    "\n",
    "# Create plots for weights\n",
    "\n",
    "plot_title = [\"W0\",\"W1\",\"W2\",\"W3\"]\n",
    "\n",
    "# For each \n",
    "for i in range(4):\n",
    "    plt.figure(figsize=(12,4))\n",
    "\n",
    "    f, (ax1, ax2, ax3) = plt.subplots(1, 3)\n",
    "    f.suptitle(plot_title[i], fontsize = 13, y = 1.1)\n",
    "    f.set_size_inches(13,3)\n",
    "\n",
    "    ax1.plot(epoch_list, weights_loop[i][0])\n",
    "    ax1.set_title('Learning Rate = .01')\n",
    "    ax1.set_xlabel('Epoch #')\n",
    "    ax1.set_ylabel(plot_title[i])\n",
    "    ax1.set_xlim(1,10)\n",
    "\n",
    "    ax2.plot(epoch_list, weights_loop[i][1])\n",
    "    ax2.set_title('Learning Rate = .001')\n",
    "    ax2.set_xlabel('Epoch #')\n",
    "\n",
    "\n",
    "    ax3.plot(epoch_list, weights_loop[i][2])\n",
    "    ax3.set_title('Learning Rate = .0001')\n",
    "    ax3.set_xlabel('Epoch #')\n",
    "    \n",
    "    plt.savefig('{}.png'.format(plot_title[i]))\n",
    "    \n",
    "    \n",
    "\n",
    "# plt.savefig('weights.png')"
   ]
  },
  {
   "cell_type": "markdown",
   "metadata": {},
   "source": [
    "# Question 2: Gradient Descent (5 pts)\n",
    "\n",
    "Suppose we are trying to use gradient descent to minimize a cost function y = f(w) as shown in the figure below. This function is linearly decreasing between A and B, constant between B and C, quadratic between C and D and constant between D and E. Assume that we have 10000 data points in our training set. If we choose the starting point between B and C, will we be able to find the local minima? Explain your answer. If your answer is \"Yes\", can you give a bound on the number of iterations required to get to the local minima?\n",
    "\n",
    "<img src=\"sgd.png\">\n",
    "\n",
    "#### Answer\n",
    "\n",
    "If we use batch gradient descent and calculate weight updates using all 10,000 data points, we will not be able to find the local minima because $\\Delta w_{j}$ for all $j$ will be 0, and the weights wouldn't update. However, we may be able to find the local minima using stochastic gradient descent because random data points are used to calculate weight updates and we would be able to get close to the local minima if we find the optimal parameters for the learning rate, iterations and epoch."
   ]
  },
  {
   "cell_type": "markdown",
   "metadata": {},
   "source": [
    "# Question 3: Multi-layer Perceptron regressor (15 points)\n",
    "\n",
    "In this question, you will explore the application of Multi-layer Perceptron (MLP) regression using sklearn package in Python. We will use the same dataset used in HW2 Q5: Hitters.csv [here](https://rdrr.io/cran/ISLR/man/Hitters.html). \n",
    "\n",
    "Following code will load and split the data into training and test set using [train_test_split](http://scikit-learn.org/stable/modules/generated/sklearn.model_selection.train_test_split.html) with **random state 42** and **test_size = 0.33**:"
   ]
  },
  {
   "cell_type": "code",
   "execution_count": 6,
   "metadata": {
    "collapsed": false
   },
   "outputs": [
    {
     "name": "stdout",
     "output_type": "stream",
     "text": [
      "(263, 16)\n"
     ]
    }
   ],
   "source": [
    "import pandas as pd\n",
    "import numpy as np\n",
    "from sklearn.model_selection import (train_test_split,KFold)\n",
    "from sklearn.metrics import mean_squared_error\n",
    "from sklearn.neural_network import MLPRegressor\n",
    "from sklearn.preprocessing import StandardScaler\n",
    "import matplotlib.pyplot as plt\n",
    "%matplotlib inline\n",
    "\n",
    "data = pd.read_csv('Hitters.csv')\n",
    "label_name = 'Salary'\n",
    "y = data[label_name]\n",
    "X = data.drop(label_name,axis=1)\n",
    "print X.shape\n",
    "\n",
    "X_train, X_test, y_train, y_test = train_test_split(X,y,test_size = 0.33, random_state=42)"
   ]
  },
  {
   "cell_type": "markdown",
   "metadata": {},
   "source": [
    "One more thing to use in this problem is [StandardScaler](http://scikit-learn.org/stable/modules/generated/sklearn.preprocessing.StandardScaler.html). Instead of fitting a model on original data, use StandardScaler to make each feature centered ([Example](http://scikit-learn.org/stable/auto_examples/applications/plot_prediction_latency.html#sphx-glr-auto-examples-applications-plot-prediction-latency-py)). Whenever you have training and test data, fit a scaler on training data and use this scaler on test data. Here, scale only features (independent variables), not target variable y."
   ]
  },
  {
   "cell_type": "markdown",
   "metadata": {},
   "source": [
    "1) Use [sklearn.neural_nework.MLPRegressor](http://scikit-learn.org/stable/modules/generated/sklearn.neural_network.MLPRegressor.html#sklearn.neural_network.MLPRegressor) to do a 5-fold cross validation using sklearn's [KFold](http://scikit-learn.org/stable/modules/generated/sklearn.model_selection.KFold.html#sklearn.model_selection.KFold). The cross validation must be performed on the **training data**. Use following parameter settings for MLPRegressor:\n",
    "\n",
    "    activation = 'tanh', solver = 'sgd', learning_rate='constant', random_state=42,\n",
    "    batch_size=40, learning_rate_init = 0.001\n",
    "    \n",
    "Now, consider two different settings for the number of hidden units:\n",
    "    \n",
    "   (a) *hidden_layer_sizes = (2,)* (b) *hidden_layer_sizes = (15,)*\n",
    "    \n",
    "   Report the average Root Mean Squared Error (RMSE) value based on your 5-fold cross validation for each model: (a) and (b) (6pts)\n",
    "   \n",
    "   \n",
    "2) Now, using the same parameters used in part 1), train MLPRegressor models on whole training data and report RMSE score for both Train and Test set (Again, use StandardScaler). Which model works better, (a) or (b)? Briefly analyze the result in terms of the number of hidden units. (5pts)\n",
    "\n",
    "\n",
    "3) MLPRegressor has a built-in attribute *loss\\_curve\\_* which returns the loss at each iteration. For example, if your model is named as *my_model* you can call it as *my\\_model.loss\\_curve\\_* ([example](http://scikit-learn.org/stable/auto_examples/neural_networks/plot_mlp_training_curves.html#sphx-glr-auto-examples-neural-networks-plot-mlp-training-curves-py)). Plot two curves for model (a) and (b) in one figure, where *X-axis* is iteration number and *Y-axis* is squared root of *loss\\_curve\\_* value. (4pts)"
   ]
  },
  {
   "cell_type": "markdown",
   "metadata": {},
   "source": [
    "#### Answer\n",
    "\n",
    "1)\n",
    "\n",
    "```Average Train RMSE of 5-Fold CV, Hidden Layers = 2: 388.52\n",
    "Average Train RMSE of 5-Fold CV, Hidden Layers = 15: 308.04```\n",
    "\n",
    "2) The test RMSE for the model with 15 hidden layers was lower than that for the model with 2 hidden layers. Adding more hidden layers allowed the model to learn the complexity of the data set better.\n",
    "\n",
    "```\n",
    "Test RMSE, Hidden Layers = 2: 504.52\n",
    "Test RMSE, Hidden Layers = 15: 418.60\n",
    "```\n",
    "\n",
    "3) The plot of the square root of the loss curve can be found below.\n",
    "\n",
    "![alt text][q3]\n",
    "\n",
    "[q3]:https://github.com/billy-yuan/MIS382N-APM/blob/master/HW3/Graphs/sqrt_loss_q3.png?raw=true\n"
   ]
  },
  {
   "cell_type": "markdown",
   "metadata": {},
   "source": [
    "**Scale and center the data**"
   ]
  },
  {
   "cell_type": "code",
   "execution_count": 7,
   "metadata": {
    "collapsed": false
   },
   "outputs": [],
   "source": [
    "# Scale and center train data\n",
    "scale_train = StandardScaler()\n",
    "scale_train.fit(X_train)\n",
    "X_train_std = pd.DataFrame(scale_train.transform(X_train))\n",
    "\n",
    "# Scale and center test data\n",
    "scale_test = StandardScaler()\n",
    "scale_test.fit(X_test)\n",
    "X_test_std = pd.DataFrame(scale_train.transform(X_test))"
   ]
  },
  {
   "cell_type": "markdown",
   "metadata": {},
   "source": [
    "**Train models, split the data using KFold, and calculate training RMSE**"
   ]
  },
  {
   "cell_type": "code",
   "execution_count": 8,
   "metadata": {
    "collapsed": false
   },
   "outputs": [
    {
     "name": "stdout",
     "output_type": "stream",
     "text": [
      "Average Train RMSE of 5-Fold CV, Hidden Layers = 2: 388.52\n",
      "Average Train RMSE of 5-Fold CV, Hidden Layers = 15: 308.04\n"
     ]
    }
   ],
   "source": [
    "# Create RMSE function\n",
    "def avg_rmse_calc(x,y):\n",
    "    # x and y are arrays of equal length\n",
    "    return np.mean((x-y)**2)**0.5\n",
    "\n",
    "# Set parameters for neural network for hidden layer sizes of (2,) and (15,)\n",
    "mlp_2 = MLPRegressor(hidden_layer_sizes=(2,),activation = 'tanh', solver = 'sgd', \\\n",
    "                     learning_rate='constant', random_state=42,batch_size=40, learning_rate_init = 0.001)\n",
    "\n",
    "mlp_15 = MLPRegressor(hidden_layer_sizes=(15,),activation = 'tanh', solver = 'sgd', \\\n",
    "                      learning_rate='constant', random_state=42, batch_size=40, learning_rate_init = 0.001)\n",
    "\n",
    "# Create 5 folds of training data\n",
    "kf3 = KFold(n_splits=5, random_state=42)\n",
    "kf3.get_n_splits(X_train)\n",
    "\n",
    "# Create 2 lists to store the average rmse of each fold for each model\n",
    "rmse_2 = []\n",
    "rmse_15 = []\n",
    "\n",
    "# Fit models\n",
    "for train, test in kf3.split(X_train_std):\n",
    "    ### fit and get rmse of hidden layer = 2\n",
    "    mlp_2.fit(X_train_std.iloc[train], y_train.iloc[train])\n",
    "    \n",
    "    yhat_2 = mlp_2.predict(X_train_std.iloc[test])\n",
    "    y_actual_2 = y_train.iloc[test]\n",
    "    \n",
    "    # append rmse values into list\n",
    "    rmse_2.append(avg_rmse_calc(yhat_2, y_actual_2))\n",
    "    \n",
    "    ### fit and get rmse of hidden layer = 15\n",
    "    \n",
    "    mlp_15.fit(X_train_std.iloc[train], y_train.iloc[train])\n",
    "    \n",
    "    yhat_15 = mlp_15.predict(X_train_std.iloc[test])\n",
    "    y_actual_15 = y_train.iloc[test]\n",
    "    \n",
    "    rmse_15.append(avg_rmse_calc(yhat_15, y_actual_15))\n",
    "\n",
    "print \"Average Train RMSE of 5-Fold CV, Hidden Layers = 2: {:.2f}\".format(np.mean(rmse_2))\n",
    "print \"Average Train RMSE of 5-Fold CV, Hidden Layers = 15: {:.2f}\".format(np.mean(rmse_15))\n"
   ]
  },
  {
   "cell_type": "markdown",
   "metadata": {},
   "source": [
    "**Calculate test RMSE**"
   ]
  },
  {
   "cell_type": "code",
   "execution_count": 9,
   "metadata": {
    "collapsed": false
   },
   "outputs": [
    {
     "name": "stdout",
     "output_type": "stream",
     "text": [
      "Test RMSE, Hidden Layers = 2: 504.52\n",
      "Test RMSE, Hidden Layers = 15: 418.60\n"
     ]
    }
   ],
   "source": [
    "# Fit entire training data into model\n",
    "mlp_2.fit(X_train_std, y_train)\n",
    "mlp_15.fit(X_train_std, y_train)\n",
    "\n",
    "# Calculate Test RMSE\n",
    "# mlp_2.predict(X_test)\n",
    "print \"Test RMSE, Hidden Layers = 2: {:.2f}\".format(avg_rmse_calc(y_test,mlp_2.predict(X_test_std)))\n",
    "print \"Test RMSE, Hidden Layers = 15: {:.2f}\".format(avg_rmse_calc(y_test,mlp_15.predict(X_test_std)))"
   ]
  },
  {
   "cell_type": "markdown",
   "metadata": {},
   "source": [
    "**Plot loss curves (uncomment to view)**"
   ]
  },
  {
   "cell_type": "code",
   "execution_count": 10,
   "metadata": {
    "collapsed": false
   },
   "outputs": [],
   "source": [
    "# fig, (ax1, ax2) = plt.subplots(1,2)\n",
    "\n",
    "# fig.set_size_inches(12,5)\n",
    "# ax1.set_title(\"Loss Curve, Hidden Layer = 2\")\n",
    "# ax1.plot(np.sqrt(mlp_2.loss_curve_))\n",
    "# ax1.set_xlabel(\"Iteration\")\n",
    "# ax1.set_ylabel(\"Loss\")\n",
    "\n",
    "# ax2.set_title(\"Loss Curve, Hidden Layer = 15\")\n",
    "# ax2.plot(np.sqrt(mlp_15.loss_curve_))\n",
    "# ax2.set_xlabel(\"Iteration\")\n",
    "\n",
    "# fig.savefig('loss_q3.png')"
   ]
  },
  {
   "cell_type": "markdown",
   "metadata": {},
   "source": [
    "# Question 4 - Bayesian Classifiers (10 pts)\n",
    "\n",
    "Download the Smarket dataset from Canvas. This contains about four years worth of daily prices for one stock. The goal is to predict whether or not the stock price will go up or down, and the features are the stock prices of the last five days.  \n",
    "The code below loads the dataset and all necessary sklearn modules (not that you can't use more if you feel like it). Look up any module on the scikit-learn website for a full description.\n",
    "\n",
    "1. The last 50 points will be the test dataset. For training, use the 1000 points prior to these 50 test points.\n",
    "2. Train Linear Discriminant Analysis, Quadratic Discriminant Analysis, and (Gaussian) Naive Bayes. Extract the probability of the stock price going up for each row in the test set.\n",
    "3. Plot the receiver operating characteristic (ROC) curve of each model, using the extracted probabilities and the true values for the test set. (3 pts)\n",
    "4. Report the area under the ROC curve (AUC) for each model. (2 pts)\n",
    "6. Justify the performance of each model, relative to the others. (1 pts)\n",
    "7. Repeat steps 1-6, only using the prior 100 points for training. Explain the changes in model performance. (4 pts)"
   ]
  },
  {
   "cell_type": "code",
   "execution_count": 11,
   "metadata": {
    "collapsed": true
   },
   "outputs": [],
   "source": [
    "import pandas as pd\n",
    "from sklearn.model_selection import train_test_split\n",
    "from sklearn.metrics import roc_curve, roc_auc_score\n",
    "from sklearn.naive_bayes import GaussianNB\n",
    "from sklearn.discriminant_analysis import LinearDiscriminantAnalysis as LDA\n",
    "from sklearn.discriminant_analysis import QuadraticDiscriminantAnalysis as QDA\n",
    "data = pd.read_csv('Smarket.csv', usecols=['Lag1','Lag2','Lag3','Lag4','Lag5','Direction'])"
   ]
  },
  {
   "cell_type": "markdown",
   "metadata": {},
   "source": [
    "#### Answer\n",
    "\n",
    "1. Refer to the code below.\n",
    "2. Refer to the code below.\n",
    "3. The ROC curve and the area can be found in the plot below. The area under the curve for each model is stated in the plot's legend. \n",
    "![alt text][q4_1000]\n",
    "4. Using 1000 training points, the areas are:\n",
    "```\n",
    "LDA: 0.520\n",
    "QDA: 0.628\n",
    "Naive Bayes: 0.522\n",
    "```\n",
    "5. The QDA performed the best because the \"separator\" between the classes for \"Up\" and \"Down\" isn't perfectly linear. Below is a plot of Lag1 and Lag2, and the colors are for each class. The green is for \"Up\" and the red is for \"Down.\" Observing the scatter plot between Lag1 and Lag2 in 2 dimensions, we cannot observe any \"clustering\" between the two classes. Assuming this is the case for all 5 dimensions, LDA would not perform much better than flipping a coin. Naive Bayes also struggles because the likelihood values used to estimate the posteriors do not provide much more information. As a result, the Naive Bayes essentially just predicts the priors.\n",
    "![alt text][q4_lag]\n",
    "6. The performance of all 3 models got worse, and the area under the ROC curve decreased as well. This is not surprising because we are training these models with fewer data points.\n",
    "![alt text][q4_100]\n",
    "\n",
    "[q4_1000]:https://github.com/billy-yuan/MIS382N-APM/blob/master/HW3/Graphs/roc_1000_q4.png?raw=true\n",
    "[q4_lag]:https://github.com/billy-yuan/MIS382N-APM/blob/master/HW3/Graphs/lag1_vs_lag2_q4.png?raw=true\n",
    "[q4_100]:https://github.com/billy-yuan/MIS382N-APM/blob/master/HW3/Graphs/roc_100_q4.png?raw=true"
   ]
  },
  {
   "cell_type": "markdown",
   "metadata": {},
   "source": [
    "**Train models**"
   ]
  },
  {
   "cell_type": "code",
   "execution_count": 12,
   "metadata": {
    "collapsed": false
   },
   "outputs": [],
   "source": [
    "# Create binary target\n",
    "data['target'] = data['Direction'].map(lambda x: 1 if (x == 'Up') else 0)\n",
    "\n",
    "# Create train and test sets\n",
    "X_q4 = data.drop(['Direction', 'target'], axis=1)\n",
    "Y_q4 = data['target']\n",
    "\n",
    "X_train_q4 = X_q4.iloc[-1050:-50,:]\n",
    "X_test_q4 = X_q4.iloc[-50:,]\n",
    "\n",
    "y_train_q4 = Y_q4.iloc[-1050:-50]\n",
    "y_test_q4 = Y_q4.iloc[-50:]\n",
    "\n",
    "# Train LDA\n",
    "lda = LDA()\n",
    "lda.fit(X_train_q4,y_train_q4 )\n",
    "yhat_lda = lda.predict(X_test_q4)\n",
    "\n",
    "# Train QDA\n",
    "qda = QDA()\n",
    "qda.fit(X_train_q4,y_train_q4 )\n",
    "yhat_qda = qda.predict(X_test_q4)\n",
    "\n",
    "# Train Gaussian NB\n",
    "gb = GaussianNB()\n",
    "gb.fit(X_train_q4, y_train_q4)\n",
    "yhat_gb = gb.predict(X_test_q4)"
   ]
  },
  {
   "cell_type": "markdown",
   "metadata": {},
   "source": [
    "**Plot ROC curves for the models using 1000 training points**"
   ]
  },
  {
   "cell_type": "code",
   "execution_count": 13,
   "metadata": {
    "collapsed": false
   },
   "outputs": [
    {
     "data": {
      "text/plain": [
       "<matplotlib.text.Text at 0x11dc36c50>"
      ]
     },
     "execution_count": 13,
     "metadata": {},
     "output_type": "execute_result"
    },
    {
     "data": {
      "image/png": "[encoded data removed]",
      "text/plain": [
       "<matplotlib.figure.Figure at 0x118e86d90>"
      ]
     },
     "metadata": {},
     "output_type": "display_data"
    }
   ],
   "source": [
    "from sklearn import metrics\n",
    "\n",
    "# Store probabilities of positive class (Up) in arrays\n",
    "lda_prob = np.array([item[1] for item in lda.predict_proba(X_test_q4)])\n",
    "qda_prob = np.array([item[1] for item in qda.predict_proba(X_test_q4)])\n",
    "gb_prob = np.array([item[1] for item in gb.predict_proba(X_test_q4)])\n",
    "\n",
    "fpr_lda, tpr_lda, thresholds = metrics.roc_curve(y_test_q4, lda_prob, pos_label=1)\n",
    "fpr_qda, tpr_qda, thresholds = metrics.roc_curve(y_test_q4, qda_prob, pos_label=1)\n",
    "fpr_gb, tpr_gb, thresholds = metrics.roc_curve(y_test_q4, gb_prob, pos_label=1)\n",
    "\n",
    "# Calculate area under ROC curve\n",
    "clf_q4 = [lda_prob, qda_prob, gb_prob]\n",
    "roc_area = []\n",
    "for clf in clf_q4:\n",
    "    area = metrics.roc_auc_score(y_test_q4, clf)\n",
    "    roc_area.append(area)\n",
    "\n",
    "# Plots\n",
    "plt.figure(figsize=(8,6))\n",
    "plt.subplot(111)\n",
    "plt.xlabel('False Positive Rate', fontsize=12)\n",
    "plt.ylabel('True Positive Rate', fontsize=12)\n",
    "\n",
    "labels_q4 = ['LDA','QDA','Naive Bayes']\n",
    "fpr_list = [fpr_lda, fpr_qda, fpr_gb]\n",
    "tpr_list = [tpr_lda, tpr_qda, tpr_gb]\n",
    "color_q4 = ['red','blue','purple']\n",
    "\n",
    "plt.plot([0,1],[0,1], linestyle='--', color='black')\n",
    "for i in range(len(labels_q4)):\n",
    "    plt.plot(fpr_list[i], tpr_list[i], color = color_q4[i], \\\n",
    "            label=\"{} (area = {:.3f})\".format(labels_q4[i], roc_area[i]))\n",
    "\n",
    "\n",
    "plt.legend(loc='lower right')\n",
    "plt.title('ROC Curves, 1000 Training Points', fontsize = 16)\n",
    "\n",
    "# plt.savefig('roc_1000_q4.png')"
   ]
  },
  {
   "cell_type": "markdown",
   "metadata": {},
   "source": [
    "**Plot the ROC curves for the models using 100 data points**"
   ]
  },
  {
   "cell_type": "code",
   "execution_count": 14,
   "metadata": {
    "collapsed": true
   },
   "outputs": [],
   "source": [
    "# Repeat the same steps above using first 100 points\n",
    "\n",
    "# Create training set using 100 points prior. Test remains the same\n",
    "X_train_q4_100 = X_q4.iloc[-1150:-1050,:]\n",
    "y_train_q4_100 = Y_q4.iloc[-1150:-1050]\n",
    "\n",
    "\n",
    "# Train LDA\n",
    "lda_100 = LDA()\n",
    "lda_100.fit(X_train_q4_100,y_train_q4_100)\n",
    "yhat_lda_100 = lda.predict(X_test_q4)\n",
    "\n",
    "# Train QDA\n",
    "qda_100 = QDA()\n",
    "qda_100.fit(X_train_q4_100,y_train_q4_100)\n",
    "yhat_qda_100 = qda.predict(X_test_q4)\n",
    "\n",
    "# Train Gaussian NB\n",
    "gb_100 = GaussianNB()\n",
    "gb_100.fit(X_train_q4_100, y_train_q4_100)\n",
    "yhat_gb_100 = gb_100.predict(X_test_q4)"
   ]
  },
  {
   "cell_type": "code",
   "execution_count": 15,
   "metadata": {
    "collapsed": false,
    "scrolled": false
   },
   "outputs": [
    {
     "data": {
      "image/png": "[encoded data removed]",
      "text/plain": [
       "<matplotlib.figure.Figure at 0x11da13210>"
      ]
     },
     "metadata": {},
     "output_type": "display_data"
    }
   ],
   "source": [
    "# Store probabilities of positive class (Up) in arrays\n",
    "lda_prob_100 = np.array([item[1] for item in lda_100.predict_proba(X_test_q4)])\n",
    "qda_prob_100 = np.array([item[1] for item in qda_100.predict_proba(X_test_q4)])\n",
    "gb_prob_100 = np.array([item[1] for item in gb_100.predict_proba(X_test_q4)])\n",
    "\n",
    "fpr_lda, tpr_lda, thresholds = metrics.roc_curve(y_test_q4, lda_prob_100, pos_label=1)\n",
    "fpr_qda, tpr_qda, thresholds = metrics.roc_curve(y_test_q4, qda_prob_100, pos_label=1)\n",
    "fpr_gb, tpr_gb, thresholds = metrics.roc_curve(y_test_q4, gb_prob_100, pos_label=1)\n",
    "\n",
    "# Calculate area under ROC curve\n",
    "clf_q4_100 = [lda_prob_100, qda_prob_100, gb_prob_100]\n",
    "roc_area = [] # Store area under ROC curve in list\n",
    "for clf in clf_q4_100:\n",
    "    area = metrics.roc_auc_score(y_test_q4, clf)\n",
    "    roc_area.append(area)\n",
    "\n",
    "# Plots\n",
    "plt.figure(figsize=(8,6))\n",
    "plt.subplot(111)\n",
    "plt.xlabel('False Positive Rate', fontsize=12)\n",
    "plt.ylabel('True Positive Rate', fontsize=12)\n",
    "\n",
    "labels_q4 = ['LDA','QDA','Naive Bayes']\n",
    "fpr_list = [fpr_lda, fpr_qda, fpr_gb]\n",
    "tpr_list = [tpr_lda, tpr_qda, tpr_gb]\n",
    "color_q4 = ['red','blue','purple']\n",
    "\n",
    "plt.plot([0,1],[0,1], linestyle='--', color='black')\n",
    "for i in range(len(labels_q4)):\n",
    "    plt.plot(fpr_list[i], tpr_list[i], color = color_q4[i], \\\n",
    "             label=\"{} (area = {:.3f})\".format(labels_q4[i], roc_area[i]))\n",
    "\n",
    "\n",
    "plt.legend(loc='lower right')\n",
    "plt.title('ROC Curves, 100 Training Points', fontsize = 16)\n",
    "\n",
    "plt.savefig('roc_100_q4.png')"
   ]
  },
  {
   "cell_type": "markdown",
   "metadata": {},
   "source": [
    "**Misc**"
   ]
  },
  {
   "cell_type": "code",
   "execution_count": 16,
   "metadata": {
    "collapsed": false
   },
   "outputs": [],
   "source": [
    "# # This code is to create the plot used in the explanation for part 5.\n",
    "\n",
    "# plt.figure(figsize=(8,6))\n",
    "# x1_q4 = data['Lag1']\n",
    "# x2_q4 = data['Lag2']\n",
    "\n",
    "# up = [141/255., 219/255., 135/255.]\n",
    "# down = [198/255., 31/255., 31/255.]\n",
    "\n",
    "# classes = data['Direction']\n",
    "# classes_color = []\n",
    "# for item in classes:\n",
    "#     if item == 'Up':\n",
    "#         classes_color.append(up)\n",
    "#     else:\n",
    "#         classes_color.append(down)\n",
    "\n",
    "# plt.scatter(x1_q4, x2_q4, color=classes_color)\n",
    "# plt.xlabel('Lag1')\n",
    "# plt.ylabel('Lag2')\n",
    "# plt.title('Lag1 vs Lag2')\n",
    "\n",
    "# ax = plt.subplot(111)\n",
    "# ax.spines[\"top\"].set_visible(False)    \n",
    "# ax.spines[\"bottom\"].set_visible(True)    \n",
    "# ax.spines[\"right\"].set_visible(False)    \n",
    "# ax.spines[\"left\"].set_visible(True) \n",
    "\n",
    "# ax.get_xaxis().tick_bottom()    \n",
    "# ax.get_yaxis().tick_left() \n",
    "\n",
    "# plt.savefig('lag1_vs_lag2_q4.png')"
   ]
  },
  {
   "cell_type": "markdown",
   "metadata": {},
   "source": [
    "# Question 5 - Logistic Regression (15pts)\n",
    "\n",
    "In this question we will be predicting mile per gallon (mpg) for Auto data set. ('Auto.csv' in Canvas)\n",
    "1. Convert mpg to a binary variable mpg01 which is 1 if had an mpg is greater than median mpg and zero otherwise\n",
    "2. Split the data into training and test. Use 42 as random seed and use 1/3rd of the data for testing. Our y variable is mpg01 and X matrix includes all the other variables except mpg01.\n",
    "3. Train a logistic regression with almost no regularization (pass l2 (ridge) to penalty and 1,000,000 to the C parameter which is the inverse of regularization strength lambda. This essentially does l2 regularization but applies very little weight to the penalty term) and report the [confusion matrix](http://scikit-learn.org/stable/modules/generated/sklearn.metrics.confusion_matrix.html) on the test data. Also report the accuracy for the \"mpg01 = 0\" class, the \"mpg01 = 1\" class, and the average per-class accuracy on the test data. Average per-class accuracy is described in this [post](http://rasbt.github.io/mlxtend/user_guide/evaluate/scoring/). You can use your confusion matrix to calculate this.\n",
    "4. Repeat step 3 except use l2 penalty with Cs of [0.001,0.01, 0.1, 1, 10 ,100, 1000]. You will want to use k-fold cross validation to select the best parameter. To evaluate which parameter is best, maximize the average per-class accuracy. To help with this task, check out [GridSearchCV](http://scikit-learn.org/stable/modules/generated/sklearn.model_selection.GridSearchCV.html#sklearn.model_selection.GridSearchCV) and how to make your own [custom scorer](http://scikit-learn.org/stable/modules/model_evaluation.html).\n",
    "5. Repeat question 4 except use l1 instead of l2 as the penalty type, use Cs of  [0.001, 0.01, ..., 1000]\n",
    "6. Which model produces the best average per-class accuracy? Why do you think this is the case? How do the models handle the different classes, and why is this so?"
   ]
  },
  {
   "cell_type": "markdown",
   "metadata": {},
   "source": [
    "Following code will load and clean the dataset and load some useful functions"
   ]
  },
  {
   "cell_type": "code",
   "execution_count": 17,
   "metadata": {
    "collapsed": false
   },
   "outputs": [
    {
     "name": "stderr",
     "output_type": "stream",
     "text": [
      "/Applications/anaconda/lib/python2.7/site-packages/sklearn/cross_validation.py:44: DeprecationWarning: This module was deprecated in version 0.18 in favor of the model_selection module into which all the refactored classes and functions are moved. Also note that the interface of the new CV iterators are different from that of this module. This module will be removed in 0.20.\n",
      "  \"This module will be removed in 0.20.\", DeprecationWarning)\n",
      "/Applications/anaconda/lib/python2.7/site-packages/sklearn/grid_search.py:43: DeprecationWarning: This module was deprecated in version 0.18 in favor of the model_selection module into which all the refactored classes and functions are moved. This module will be removed in 0.20.\n",
      "  DeprecationWarning)\n"
     ]
    },
    {
     "data": {
      "text/html": [
       "<div>\n",
       "<table border=\"1\" class=\"dataframe\">\n",
       "  <thead>\n",
       "    <tr style=\"text-align: right;\">\n",
       "      <th></th>\n",
       "      <th>mpg</th>\n",
       "      <th>cylinders</th>\n",
       "      <th>displacement</th>\n",
       "      <th>horsepower</th>\n",
       "      <th>weight</th>\n",
       "      <th>acceleration</th>\n",
       "      <th>year</th>\n",
       "      <th>origin</th>\n",
       "    </tr>\n",
       "  </thead>\n",
       "  <tbody>\n",
       "    <tr>\n",
       "      <th>0</th>\n",
       "      <td>18.0</td>\n",
       "      <td>8</td>\n",
       "      <td>307.0</td>\n",
       "      <td>130.0</td>\n",
       "      <td>3504</td>\n",
       "      <td>12.0</td>\n",
       "      <td>70</td>\n",
       "      <td>1</td>\n",
       "    </tr>\n",
       "    <tr>\n",
       "      <th>1</th>\n",
       "      <td>15.0</td>\n",
       "      <td>8</td>\n",
       "      <td>350.0</td>\n",
       "      <td>165.0</td>\n",
       "      <td>3693</td>\n",
       "      <td>11.5</td>\n",
       "      <td>70</td>\n",
       "      <td>1</td>\n",
       "    </tr>\n",
       "    <tr>\n",
       "      <th>2</th>\n",
       "      <td>18.0</td>\n",
       "      <td>8</td>\n",
       "      <td>318.0</td>\n",
       "      <td>150.0</td>\n",
       "      <td>3436</td>\n",
       "      <td>11.0</td>\n",
       "      <td>70</td>\n",
       "      <td>1</td>\n",
       "    </tr>\n",
       "    <tr>\n",
       "      <th>3</th>\n",
       "      <td>16.0</td>\n",
       "      <td>8</td>\n",
       "      <td>304.0</td>\n",
       "      <td>150.0</td>\n",
       "      <td>3433</td>\n",
       "      <td>12.0</td>\n",
       "      <td>70</td>\n",
       "      <td>1</td>\n",
       "    </tr>\n",
       "    <tr>\n",
       "      <th>4</th>\n",
       "      <td>17.0</td>\n",
       "      <td>8</td>\n",
       "      <td>302.0</td>\n",
       "      <td>140.0</td>\n",
       "      <td>3449</td>\n",
       "      <td>10.5</td>\n",
       "      <td>70</td>\n",
       "      <td>1</td>\n",
       "    </tr>\n",
       "  </tbody>\n",
       "</table>\n",
       "</div>"
      ],
      "text/plain": [
       "    mpg  cylinders  displacement  horsepower  weight  acceleration  year  \\\n",
       "0  18.0          8         307.0       130.0    3504          12.0    70   \n",
       "1  15.0          8         350.0       165.0    3693          11.5    70   \n",
       "2  18.0          8         318.0       150.0    3436          11.0    70   \n",
       "3  16.0          8         304.0       150.0    3433          12.0    70   \n",
       "4  17.0          8         302.0       140.0    3449          10.5    70   \n",
       "\n",
       "   origin  \n",
       "0       1  \n",
       "1       1  \n",
       "2       1  \n",
       "3       1  \n",
       "4       1  "
      ]
     },
     "execution_count": 17,
     "metadata": {},
     "output_type": "execute_result"
    }
   ],
   "source": [
    "import pandas as pd\n",
    "import numpy as np\n",
    "\n",
    "from sklearn import cross_validation\n",
    "# from sklearn import model_selection # Use model_selection instead of cross_validation in sklearn version >=0.18\n",
    "from sklearn.linear_model import LogisticRegression\n",
    "from sklearn.metrics import mean_squared_error, confusion_matrix\n",
    "from sklearn.grid_search import GridSearchCV\n",
    "\n",
    "Auto = pd.read_csv('Auto.csv', na_values='?').drop('name',axis = 1).dropna()\n",
    "Auto.head(5)"
   ]
  },
  {
   "cell_type": "code",
   "execution_count": 18,
   "metadata": {
    "collapsed": true
   },
   "outputs": [],
   "source": [
    "#1\n",
    "mpg_median = Auto['mpg'].median()\n",
    "Auto['mpg01'] = 1\n",
    "Auto.loc[Auto.mpg <= mpg_median,'mpg01'] = 0"
   ]
  },
  {
   "cell_type": "code",
   "execution_count": 19,
   "metadata": {
    "collapsed": false
   },
   "outputs": [],
   "source": [
    "#2\n",
    "from patsy import dmatrices\n",
    "from sklearn.cross_validation import train_test_split\n",
    "\n",
    "Y, X = dmatrices('mpg01 ~ 0+cylinders+displacement+horsepower+weight+acceleration+year+origin',\n",
    "                 Auto,return_type=\"dataframe\")\n",
    "\n",
    "X_train, X_test, Y_train, Y_test = train_test_split(X, Y, test_size=1.0/3, random_state=42)"
   ]
  },
  {
   "cell_type": "code",
   "execution_count": 20,
   "metadata": {
    "collapsed": false
   },
   "outputs": [
    {
     "name": "stdout",
     "output_type": "stream",
     "text": [
      "[[55 15]\n",
      " [ 2 59]]\n",
      "mpg01 = 0 accuracy: 0.8\n",
      "mpg01 = 1 accuracy: 0.96\n",
      "average per-class accuracy: 0.87\n"
     ]
    },
    {
     "name": "stderr",
     "output_type": "stream",
     "text": [
      "/Applications/anaconda/lib/python2.7/site-packages/sklearn/utils/validation.py:526: DataConversionWarning: A column-vector y was passed when a 1d array was expected. Please change the shape of y to (n_samples, ), for example using ravel().\n",
      "  y = column_or_1d(y, warn=True)\n"
     ]
    }
   ],
   "source": [
    "#3\n",
    "mpg_logistic = LogisticRegression(penalty = 'l2',C = 1000000)\n",
    "mpg_logistic.fit(X_train,Y_train)\n",
    "y_pred_logistric = mpg_logistic.predict(X_test)\n",
    "cm = confusion_matrix(Y_test,y_pred_logistric)\n",
    "tn = float(cm[1][1])\n",
    "tp = float(cm[0][0])\n",
    "fn = float(cm[0][1])\n",
    "fp = float(cm[1][0])\n",
    "print cm\n",
    "print 'mpg01 = 0 accuracy:', round(tn/(tn+fn),2)\n",
    "print 'mpg01 = 1 accuracy:', round(tp/(tp+fp),2)\n",
    "print 'average per-class accuracy:', round((tp+tn)/len(Y_test),2)"
   ]
  },
  {
   "cell_type": "code",
   "execution_count": 21,
   "metadata": {
    "collapsed": false
   },
   "outputs": [
    {
     "name": "stdout",
     "output_type": "stream",
     "text": [
      "{'C': 0.01}\n",
      "0.920153256705\n"
     ]
    }
   ],
   "source": [
    "#4\n",
    "from sklearn.metrics import fbeta_score, make_scorer\n",
    "\n",
    "#create customized scorer\n",
    "def per_class_accuracy(ground_truth, prediction):\n",
    "    cm = confusion_matrix(ground_truth,prediction)\n",
    "    tn = float(cm[1][1])\n",
    "    tp = float(cm[0][0])\n",
    "    return round((tp+tn)/len(ground_truth),2)\n",
    "\n",
    "accuracy_score = make_scorer(per_class_accuracy, greater_is_better=True)\n",
    "\n",
    "#cross validate\n",
    "parameters = {'C':[0.001,0.01,0.1, 1, 10 ,100, 1000]}\n",
    "clf = GridSearchCV(mpg_logistic, parameters, cv = 5, scoring= accuracy_score)\n",
    "clf.fit(X_train,Y_train.mpg01.values)\n",
    "print clf.best_params_\n",
    "print clf.best_score_"
   ]
  },
  {
   "cell_type": "code",
   "execution_count": 22,
   "metadata": {
    "collapsed": false
   },
   "outputs": [
    {
     "name": "stdout",
     "output_type": "stream",
     "text": [
      "{'C': 10}\n",
      "0.924137931034\n"
     ]
    }
   ],
   "source": [
    "#5\n",
    "mpg_logistic_l1 = LogisticRegression(penalty = 'l1',C = 1000000)\n",
    "clf_l1 = GridSearchCV(mpg_logistic_l1, parameters, cv = 5, scoring= accuracy_score)\n",
    "clf_l1.fit(X_train,Y_train.mpg01.values)\n",
    "print clf_l1.best_params_\n",
    "print clf_l1.best_score_"
   ]
  },
  {
   "cell_type": "code",
   "execution_count": 23,
   "metadata": {
    "collapsed": false
   },
   "outputs": [
    {
     "name": "stdout",
     "output_type": "stream",
     "text": [
      "[[56 14]\n",
      " [ 1 60]]\n"
     ]
    }
   ],
   "source": [
    "#6\n",
    "best_mpg = LogisticRegression(penalty = 'l1',C = 10)\n",
    "best_mpg.fit(X_train,Y_train)\n",
    "y_best_mpg = best_mpg.predict(X_test)\n",
    "cm = confusion_matrix(Y_test,y_best_mpg)\n",
    "print cm"
   ]
  },
  {
   "cell_type": "markdown",
   "metadata": {},
   "source": [
    "The best model is the one with l1 penalty and C = 10 since it has the highest accuracy score. This is because l1 and C of 10 make the coefficients shrink faster, leaving only the important variables. A high C can drive down both true positives and true negatives, because when the penalty is low the model tends to overfit the training set."
   ]
  },
  {
   "cell_type": "markdown",
   "metadata": {
    "collapsed": true
   },
   "source": [
    "# Question 6: House Prices (kaggle competition) (25 pts)\n",
    "\n",
    "In this problem, we are going to explore a kaggle competition: [House Prices](https://www.kaggle.com/c/house-prices-advanced-regression-techniques). Your goal is to obtain the best score you can in this competition. This is an ongoing competition, and you have the opportunity to win the prize money! \n",
    "\n",
    "The first step is to make a Kaggle account. Then find the House Prices competition and read the competition details and the description of the dataset. You may find this [article](https://ww2.amstat.org/publications/jse/v19n3/decock.pdf) useful.\n",
    "\n",
    "Your work should meet the following requirements:\n",
    "\n",
    "1. Data Preprocessing. \n",
    " * Conduct some data preprocessing. (Hint: see if there is any skewed features and consider applying suitable transformation techniques to make them more \"normal\").\n",
    " * Impute the missing values (if any).\n",
    "2. Predictive Models. \n",
    " * You have to create at least three models: simple linear regression, Lasso and Ridge regression and multilayer perceptron. You may consider creating an ensemble of these models as well (optional). For Lasso and Ridge regression, optimize the alphas using cross validation. You may try other predictive models to get better scores (optional).\n",
    "3. Evaluation: submit your model to kaggle submission site and report the public score.\n",
    "\n",
    "Briefly describe your work on each of these steps. Explain (very briefly) what approaches you tried, what worked and what did not work. Mention your team's kaggle name and include a screen shot of your public submission score. Finally, try your best to win this competition!"
   ]
  },
  {
   "cell_type": "code",
   "execution_count": 491,
   "metadata": {
    "collapsed": false
   },
   "outputs": [
    {
     "data": {
      "text/plain": [
       "(1460, 81)"
      ]
     },
     "execution_count": 491,
     "metadata": {},
     "output_type": "execute_result"
    }
   ],
   "source": [
    "houseData = pd.read_csv(\"Kaggle/train.csv\")\n",
    "houseData.shape"
   ]
  },
  {
   "cell_type": "markdown",
   "metadata": {},
   "source": [
    "**Clean Data - replace NaN and reduce number of categories for each feature**"
   ]
  },
  {
   "cell_type": "code",
   "execution_count": 500,
   "metadata": {
    "collapsed": true
   },
   "outputs": [],
   "source": [
    "# Re-label MSSubClass into 3 categories based on SalePrice range and value counts\n",
    "def mssub_label(x):\n",
    "    if x == 20:\n",
    "        return '1S-NEWER'\n",
    "    elif x == 60:\n",
    "        return '2S-NEWER'\n",
    "    elif x == 50:\n",
    "        return '1.5S-FINISHED'\n",
    "    elif x == 120:\n",
    "        return '1S-PUD'\n",
    "    else:\n",
    "        return 'Other'\n",
    "\n",
    "houseData['MSSubClass'] = houseData['MSSubClass'].map(mssub_label)\n",
    "\n",
    "# Impute missing values in Lot Frontage with mean\n",
    "lot_frontage_mean = houseData['LotFrontage'].mean()\n",
    "houseData['LotFrontage'] = houseData['LotFrontage'].map(lambda x: lot_frontage_mean if (np.isnan(x)) else x)\n",
    "\n"
   ]
  },
  {
   "cell_type": "code",
   "execution_count": 501,
   "metadata": {
    "collapsed": false
   },
   "outputs": [],
   "source": [
    "# Impute nan function for categorical variables\n",
    "def impute_nan(feature_list, impute_value):\n",
    "    for feature in feature_list:\n",
    "        houseData[feature] = houseData[feature].map(lambda x: impute_value if type(x) != str else x)\n",
    "        \n",
    "# Alley\n",
    "impute_nan(['Alley'], 'No Alley')\n",
    "\n",
    "# Basement\n",
    "basement_features = ['BsmtQual', 'BsmtCond', 'BsmtExposure', 'BsmtFinType1', 'BsmtFinType2']\n",
    "impute_nan(basement_features, 'No Basement')\n",
    "\n",
    "# Veneer\n",
    "veneer_features = ['MasVnrType']\n",
    "impute_nan(veneer_features, 'No Veneer')\n",
    "houseData['MasVnrArea'] = houseData['MasVnrArea'].map(lambda x: 0 if (np.isnan(x)) else x)\n",
    "\n",
    "# Electrical - impute with most common type\n",
    "impute_nan(['Electrical'], 'SBrkr')\n",
    "\n",
    "# Fireplace\n",
    "impute_nan(['FireplaceQu'], 'No Fireplace')\n",
    "\n",
    "# Garage - fill missing year with 0. May have to include year and garage binary as interaction if garage is important\n",
    "impute_nan(['GarageType', 'GarageFinish', 'GarageQual', 'GarageCond'], 'No Garage')\n",
    "houseData['GarageYrBlt'] = houseData['GarageYrBlt'].map(lambda x: 0 if np.isnan(x) else int(x))\n",
    "\n",
    "# Pool QC\n",
    "impute_nan(['PoolQC'], 'No Pool')\n",
    "\n",
    "# Fence\n",
    "impute_nan(['Fence'], 'No Fence')\n",
    "\n",
    "# Misc Features\n",
    "impute_nan(['MiscFeature'], 'None')\n"
   ]
  },
  {
   "cell_type": "markdown",
   "metadata": {},
   "source": [
    "**Check NaN count for all features**"
   ]
  },
  {
   "cell_type": "code",
   "execution_count": 502,
   "metadata": {
    "collapsed": false,
    "scrolled": true
   },
   "outputs": [
    {
     "name": "stdout",
     "output_type": "stream",
     "text": [
      "The data has no nulls!\n"
     ]
    }
   ],
   "source": [
    "def nan_count():\n",
    "    features_q6 = predictors.columns.values\n",
    "    \n",
    "    i = 0\n",
    "    \n",
    "    for feature in features_q6:\n",
    "        num_null = houseData[feature].isnull().sum()\n",
    "        if num_null > 0:\n",
    "            print feature, num_null\n",
    "            i += 1\n",
    "    if i == 0:\n",
    "        print \"The data has no nulls!\"\n",
    "\n",
    "nan_count()"
   ]
  },
  {
   "cell_type": "markdown",
   "metadata": {},
   "source": [
    "**Create new columns for categorical variables**"
   ]
  },
  {
   "cell_type": "code",
   "execution_count": 503,
   "metadata": {
    "collapsed": true
   },
   "outputs": [],
   "source": [
    "predictors = houseData.drop(['Id','SalePrice'], axis=1)\n",
    "response = houseData['SalePrice']\n",
    "predictors_dum = pd.get_dummies(predictors)"
   ]
  },
  {
   "cell_type": "markdown",
   "metadata": {},
   "source": [
    "**Check and deal with outliers**"
   ]
  },
  {
   "cell_type": "markdown",
   "metadata": {},
   "source": [
    "**Reduce number of features**"
   ]
  },
  {
   "cell_type": "code",
   "execution_count": 26,
   "metadata": {
    "collapsed": false
   },
   "outputs": [
    {
     "data": {
      "text/html": [
       "<div>\n",
       "<table border=\"1\" class=\"dataframe\">\n",
       "  <thead>\n",
       "    <tr style=\"text-align: right;\">\n",
       "      <th></th>\n",
       "      <th>SalePrice</th>\n",
       "    </tr>\n",
       "  </thead>\n",
       "  <tbody>\n",
       "    <tr>\n",
       "      <th>count</th>\n",
       "      <td>1460.000000</td>\n",
       "    </tr>\n",
       "    <tr>\n",
       "      <th>mean</th>\n",
       "      <td>180921.195890</td>\n",
       "    </tr>\n",
       "    <tr>\n",
       "      <th>std</th>\n",
       "      <td>79442.502883</td>\n",
       "    </tr>\n",
       "    <tr>\n",
       "      <th>min</th>\n",
       "      <td>34900.000000</td>\n",
       "    </tr>\n",
       "    <tr>\n",
       "      <th>25%</th>\n",
       "      <td>129975.000000</td>\n",
       "    </tr>\n",
       "    <tr>\n",
       "      <th>50%</th>\n",
       "      <td>163000.000000</td>\n",
       "    </tr>\n",
       "    <tr>\n",
       "      <th>75%</th>\n",
       "      <td>214000.000000</td>\n",
       "    </tr>\n",
       "    <tr>\n",
       "      <th>max</th>\n",
       "      <td>755000.000000</td>\n",
       "    </tr>\n",
       "  </tbody>\n",
       "</table>\n",
       "</div>"
      ],
      "text/plain": [
       "           SalePrice\n",
       "count    1460.000000\n",
       "mean   180921.195890\n",
       "std     79442.502883\n",
       "min     34900.000000\n",
       "25%    129975.000000\n",
       "50%    163000.000000\n",
       "75%    214000.000000\n",
       "max    755000.000000"
      ]
     },
     "execution_count": 26,
     "metadata": {},
     "output_type": "execute_result"
    }
   ],
   "source": [
    "houseData[['SalePrice']].describe()"
   ]
  },
  {
   "cell_type": "markdown",
   "metadata": {},
   "source": [
    "Ridge/Lasso"
   ]
  },
  {
   "cell_type": "code",
   "execution_count": 504,
   "metadata": {
    "collapsed": true
   },
   "outputs": [],
   "source": [
    "from sklearn.cross_validation import train_test_split\n",
    "from patsy import dmatrices\n",
    "from sklearn.linear_model import Lasso,LassoCV,Ridge, LinearRegression\n",
    "from sklearn.model_selection import KFold\n",
    "from sklearn.ensemble import RandomForestRegressor\n",
    "from sklearn import preprocessing\n",
    "import warnings \n",
    "warnings.filterwarnings('ignore')"
   ]
  },
  {
   "cell_type": "code",
   "execution_count": 506,
   "metadata": {
    "collapsed": false
   },
   "outputs": [],
   "source": [
    "X_train, X_test, Y_train, Y_test = train_test_split(predictors_dum, response, test_size=0.3, random_state=42)\n",
    "\n",
    "\n",
    "rf = RandomForestRegressor(min_samples_leaf=5)\n",
    "rf.fit(predictors_dum, response)\n",
    "\n",
    "# np.array(X_train.T)\n",
    "rf_feature_weights = []\n",
    "for index, col in enumerate(predictors_dum.columns.values):\n",
    "    rf_feature_weights.append((col, rf.feature_importances_[index]))\n",
    "\n"
   ]
  },
  {
   "cell_type": "code",
   "execution_count": 508,
   "metadata": {
    "collapsed": false
   },
   "outputs": [
    {
     "data": {
      "text/plain": [
       "[('OverallQual', 0.63664189156956075),\n",
       " ('GrLivArea', 0.13266445320884498),\n",
       " ('BsmtFinSF1', 0.032781161152337472),\n",
       " ('TotalBsmtSF', 0.031823323539753826),\n",
       " ('1stFlrSF', 0.016964721055210668),\n",
       " ('FullBath', 0.016017708070838157),\n",
       " ('GarageCars', 0.015859515911789791),\n",
       " ('LotArea', 0.014870616675078486),\n",
       " ('GarageArea', 0.011938933897465224),\n",
       " ('YearBuilt', 0.0053000583235977283),\n",
       " ('BedroomAbvGr', 0.0052444206009467529),\n",
       " ('YearRemodAdd', 0.004930147123195389),\n",
       " ('KitchenQual_Ex', 0.0038407732568151399),\n",
       " ('KitchenQual_TA', 0.0036218475969638795),\n",
       " ('2ndFlrSF', 0.0035829340964195896),\n",
       " ('OverallCond', 0.0034191981605635633),\n",
       " ('GarageType_Attchd', 0.0034084770897984452),\n",
       " ('GarageYrBlt', 0.0033250400688553923),\n",
       " ('CentralAir_N', 0.0030933091544261319),\n",
       " ('ExterQual_TA', 0.0030408752486287272),\n",
       " ('CentralAir_Y', 0.0028412054239422327),\n",
       " ('MasVnrArea', 0.0027222892367524355),\n",
       " ('TotRmsAbvGrd', 0.0025880693699005552),\n",
       " ('OpenPorchSF', 0.0024983658874808468),\n",
       " ('LotFrontage', 0.0022826116471556857),\n",
       " ('BsmtUnfSF', 0.0021661635946524068),\n",
       " ('Fireplaces', 0.002128626979154983),\n",
       " ('BsmtExposure_Gd', 0.0017667126400973021),\n",
       " ('Neighborhood_NridgHt', 0.0017491855593210672),\n",
       " ('BsmtExposure_No', 0.0017466908126440618),\n",
       " ('WoodDeckSF', 0.0016238531637658229),\n",
       " ('KitchenAbvGr', 0.0013701646909639227),\n",
       " ('MSZoning_RM', 0.0012591349759918907),\n",
       " ('KitchenQual_Gd', 0.0011397161673754731),\n",
       " ('FireplaceQu_No Fireplace', 0.0010841972665477501),\n",
       " ('BsmtQual_Gd', 0.00094146973089328611),\n",
       " ('GarageType_Detchd', 0.00092411399825116961),\n",
       " ('GarageFinish_Unf', 0.00092159145856939018),\n",
       " ('MoSold', 0.00090643833761315724),\n",
       " ('GarageFinish_Fin', 0.00085490183105867341),\n",
       " ('SaleType_WD', 0.00083086384292137847),\n",
       " ('BsmtFullBath', 0.00078673977949633505),\n",
       " ('HeatingQC_Ex', 0.00074268674005186397),\n",
       " ('ExterQual_Gd', 0.00073514418070028229),\n",
       " ('HalfBath', 0.00071491222149961059),\n",
       " ('MSZoning_RL', 0.00066747158074307276),\n",
       " ('BldgType_1Fam', 0.00065705029401205348),\n",
       " ('YrSold', 0.00057203617682356224),\n",
       " ('BsmtFinSF2', 0.0005538796521053302),\n",
       " ('GarageFinish_RFn', 0.00054944136324290853),\n",
       " ('Exterior1st_VinylSd', 0.00054336213242856804),\n",
       " ('FireplaceQu_Gd', 0.00046449575235081835),\n",
       " ('LotShape_IR1', 0.00044882217340781511),\n",
       " ('GarageType_BuiltIn', 0.00042669695051858139),\n",
       " ('LotShape_Reg', 0.00040228158246647408),\n",
       " ('HouseStyle_1Story', 0.00034748203877945402),\n",
       " ('Exterior2nd_VinylSd', 0.00031452993848921611),\n",
       " ('SaleCondition_Abnorml', 0.00025858392338452553),\n",
       " ('Functional_Typ', 0.00025402549235440519),\n",
       " ('BsmtFinType1_ALQ', 0.00025186894739446988),\n",
       " ('BsmtExposure_Av', 0.00023772307194742806),\n",
       " ('Foundation_CBlock', 0.00017304972959166829),\n",
       " ('HouseStyle_2Story', 0.00016193984963437181),\n",
       " ('SaleCondition_Normal', 0.00015085420031464282),\n",
       " ('Neighborhood_Crawfor', 0.00015036531383019552),\n",
       " ('MasVnrType_BrkFace', 0.00014886111276246196),\n",
       " ('BsmtFinType1_GLQ', 0.00014103362337948723),\n",
       " ('BsmtFinType1_No Basement', 0.00014040542554614159),\n",
       " ('EnclosedPorch', 0.00013216155316553079),\n",
       " ('Neighborhood_NAmes', 0.00012959220128826534),\n",
       " ('RoofStyle_Gable', 0.00012761062841350299),\n",
       " ('LandSlope_Mod', 0.0001192312270083882),\n",
       " ('PavedDrive_Y', 0.00011492078502092776),\n",
       " ('LotConfig_Inside', 0.00011374688057359521),\n",
       " ('BsmtFinType1_Unf', 0.00010981354891264293),\n",
       " ('Fence_No Fence', 0.00010397892017094388),\n",
       " ('Exterior1st_Wd Sdng', 9.2042838317297373e-05),\n",
       " ('Foundation_PConc', 8.2413142673488297e-05),\n",
       " ('LandContour_Bnk', 7.9980522579608821e-05),\n",
       " ('BsmtFinType1_BLQ', 6.6755351709824371e-05),\n",
       " ('Exterior2nd_MetalSd', 6.6103899587525471e-05),\n",
       " ('HeatingQC_TA', 6.2634949602299094e-05),\n",
       " ('FireplaceQu_TA', 6.238183590171022e-05),\n",
       " ('Condition1_Norm', 5.9798033722962979e-05),\n",
       " ('MasVnrType_Stone', 5.9185528909956763e-05),\n",
       " ('BsmtQual_TA', 5.0625300293859417e-05),\n",
       " ('Exterior2nd_Plywood', 5.0423037737532285e-05),\n",
       " ('GarageQual_No Garage', 4.7055216540705359e-05),\n",
       " ('Condition1_Feedr', 4.6136812277365487e-05),\n",
       " ('Exterior2nd_Wd Sdng', 4.5669370282355571e-05),\n",
       " ('Neighborhood_Edwards', 4.5319424268826998e-05),\n",
       " ('PavedDrive_N', 3.7011059460231608e-05),\n",
       " ('Exterior1st_HdBoard', 3.4293340432992226e-05),\n",
       " ('ExterCond_Gd', 3.2719707758889598e-05),\n",
       " ('SaleType_New', 3.2631315818631548e-05),\n",
       " ('MiscFeature_None', 3.0163592594829323e-05),\n",
       " ('RoofStyle_Hip', 2.4721504478810156e-05),\n",
       " ('BsmtCond_TA', 2.4336578927547786e-05),\n",
       " ('MasVnrType_None', 2.3197775483899726e-05),\n",
       " ('Neighborhood_NWAmes', 2.1374456025169184e-05),\n",
       " ('Neighborhood_MeadowV', 1.9819788172764238e-05),\n",
       " ('HouseStyle_1.5Fin', 1.7840124816456411e-05),\n",
       " ('Foundation_BrkTil', 1.595554402519509e-05),\n",
       " ('ExterCond_TA', 1.5874047956975316e-05),\n",
       " ('Exterior1st_MetalSd', 1.5596792633114733e-05),\n",
       " ('Exterior2nd_HdBoard', 1.4874038410635807e-05),\n",
       " ('KitchenQual_Fa', 1.4675335946146384e-05),\n",
       " ('SaleCondition_Partial', 1.0900494461898933e-05),\n",
       " ('Neighborhood_CollgCr', 1.069495304788192e-05),\n",
       " ('GarageQual_TA', 9.858292140049249e-06),\n",
       " ('Neighborhood_BrkSide', 8.0555102288723512e-06),\n",
       " ('LotConfig_Corner', 5.0048636676436194e-06),\n",
       " ('HeatingQC_Gd', 1.3042111529909838e-06),\n",
       " ('LowQualFinSF', 0.0),\n",
       " ('BsmtHalfBath', 0.0),\n",
       " ('3SsnPorch', 0.0),\n",
       " ('ScreenPorch', 0.0),\n",
       " ('PoolArea', 0.0),\n",
       " ('MiscVal', 0.0),\n",
       " ('MSSubClass_Other', 0.0),\n",
       " ('MSZoning_C (all)', 0.0),\n",
       " ('MSZoning_FV', 0.0),\n",
       " ('MSZoning_RH', 0.0),\n",
       " ('Street_Grvl', 0.0),\n",
       " ('Street_Pave', 0.0),\n",
       " ('Alley_Grvl', 0.0),\n",
       " ('Alley_No Alley', 0.0),\n",
       " ('Alley_Pave', 0.0),\n",
       " ('LotShape_IR2', 0.0),\n",
       " ('LotShape_IR3', 0.0),\n",
       " ('LandContour_HLS', 0.0),\n",
       " ('LandContour_Low', 0.0),\n",
       " ('LandContour_Lvl', 0.0),\n",
       " ('Utilities_AllPub', 0.0),\n",
       " ('Utilities_NoSeWa', 0.0),\n",
       " ('LotConfig_CulDSac', 0.0),\n",
       " ('LotConfig_FR2', 0.0),\n",
       " ('LotConfig_FR3', 0.0),\n",
       " ('LandSlope_Gtl', 0.0),\n",
       " ('LandSlope_Sev', 0.0),\n",
       " ('Neighborhood_Blmngtn', 0.0),\n",
       " ('Neighborhood_Blueste', 0.0),\n",
       " ('Neighborhood_BrDale', 0.0),\n",
       " ('Neighborhood_ClearCr', 0.0),\n",
       " ('Neighborhood_Gilbert', 0.0),\n",
       " ('Neighborhood_IDOTRR', 0.0),\n",
       " ('Neighborhood_Mitchel', 0.0),\n",
       " ('Neighborhood_NPkVill', 0.0),\n",
       " ('Neighborhood_NoRidge', 0.0),\n",
       " ('Neighborhood_OldTown', 0.0),\n",
       " ('Neighborhood_SWISU', 0.0),\n",
       " ('Neighborhood_Sawyer', 0.0),\n",
       " ('Neighborhood_SawyerW', 0.0),\n",
       " ('Neighborhood_Somerst', 0.0),\n",
       " ('Neighborhood_StoneBr', 0.0),\n",
       " ('Neighborhood_Timber', 0.0),\n",
       " ('Neighborhood_Veenker', 0.0),\n",
       " ('Condition1_Artery', 0.0),\n",
       " ('Condition1_PosA', 0.0),\n",
       " ('Condition1_PosN', 0.0),\n",
       " ('Condition1_RRAe', 0.0),\n",
       " ('Condition1_RRAn', 0.0),\n",
       " ('Condition1_RRNe', 0.0),\n",
       " ('Condition1_RRNn', 0.0),\n",
       " ('Condition2_Artery', 0.0),\n",
       " ('Condition2_Feedr', 0.0),\n",
       " ('Condition2_Norm', 0.0),\n",
       " ('Condition2_PosA', 0.0),\n",
       " ('Condition2_PosN', 0.0),\n",
       " ('Condition2_RRAe', 0.0),\n",
       " ('Condition2_RRAn', 0.0),\n",
       " ('Condition2_RRNn', 0.0),\n",
       " ('BldgType_2fmCon', 0.0),\n",
       " ('BldgType_Duplex', 0.0),\n",
       " ('BldgType_Twnhs', 0.0),\n",
       " ('BldgType_TwnhsE', 0.0),\n",
       " ('HouseStyle_1.5Unf', 0.0),\n",
       " ('HouseStyle_2.5Fin', 0.0),\n",
       " ('HouseStyle_2.5Unf', 0.0),\n",
       " ('HouseStyle_SFoyer', 0.0),\n",
       " ('HouseStyle_SLvl', 0.0),\n",
       " ('RoofStyle_Flat', 0.0),\n",
       " ('RoofStyle_Gambrel', 0.0),\n",
       " ('RoofStyle_Mansard', 0.0),\n",
       " ('RoofStyle_Shed', 0.0),\n",
       " ('RoofMatl_ClyTile', 0.0),\n",
       " ('RoofMatl_CompShg', 0.0),\n",
       " ('RoofMatl_Membran', 0.0),\n",
       " ('RoofMatl_Metal', 0.0),\n",
       " ('RoofMatl_Roll', 0.0),\n",
       " ('RoofMatl_Tar&Grv', 0.0),\n",
       " ('RoofMatl_WdShake', 0.0),\n",
       " ('RoofMatl_WdShngl', 0.0),\n",
       " ('Exterior1st_AsbShng', 0.0),\n",
       " ('Exterior1st_AsphShn', 0.0),\n",
       " ('Exterior1st_BrkComm', 0.0),\n",
       " ('Exterior1st_BrkFace', 0.0),\n",
       " ('Exterior1st_CBlock', 0.0),\n",
       " ('Exterior1st_CemntBd', 0.0),\n",
       " ('Exterior1st_ImStucc', 0.0),\n",
       " ('Exterior1st_Plywood', 0.0),\n",
       " ('Exterior1st_Stone', 0.0),\n",
       " ('Exterior1st_Stucco', 0.0),\n",
       " ('Exterior1st_WdShing', 0.0),\n",
       " ('Exterior2nd_AsbShng', 0.0),\n",
       " ('Exterior2nd_AsphShn', 0.0),\n",
       " ('Exterior2nd_Brk Cmn', 0.0),\n",
       " ('Exterior2nd_BrkFace', 0.0),\n",
       " ('Exterior2nd_CBlock', 0.0),\n",
       " ('Exterior2nd_CmentBd', 0.0),\n",
       " ('Exterior2nd_ImStucc', 0.0),\n",
       " ('Exterior2nd_Other', 0.0),\n",
       " ('Exterior2nd_Stone', 0.0),\n",
       " ('Exterior2nd_Stucco', 0.0),\n",
       " ('Exterior2nd_Wd Shng', 0.0),\n",
       " ('MasVnrType_BrkCmn', 0.0),\n",
       " ('MasVnrType_No Veneer', 0.0),\n",
       " ('ExterQual_Ex', 0.0),\n",
       " ('ExterQual_Fa', 0.0),\n",
       " ('ExterCond_Ex', 0.0),\n",
       " ('ExterCond_Fa', 0.0),\n",
       " ('ExterCond_Po', 0.0),\n",
       " ('Foundation_Slab', 0.0),\n",
       " ('Foundation_Stone', 0.0),\n",
       " ('Foundation_Wood', 0.0),\n",
       " ('BsmtQual_Ex', 0.0),\n",
       " ('BsmtQual_Fa', 0.0),\n",
       " ('BsmtQual_No Basement', 0.0),\n",
       " ('BsmtCond_Fa', 0.0),\n",
       " ('BsmtCond_Gd', 0.0),\n",
       " ('BsmtCond_No Basement', 0.0),\n",
       " ('BsmtCond_Po', 0.0),\n",
       " ('BsmtExposure_Mn', 0.0),\n",
       " ('BsmtExposure_No Basement', 0.0),\n",
       " ('BsmtFinType1_LwQ', 0.0),\n",
       " ('BsmtFinType1_Rec', 0.0),\n",
       " ('BsmtFinType2_ALQ', 0.0),\n",
       " ('BsmtFinType2_BLQ', 0.0),\n",
       " ('BsmtFinType2_GLQ', 0.0),\n",
       " ('BsmtFinType2_LwQ', 0.0),\n",
       " ('BsmtFinType2_No Basement', 0.0),\n",
       " ('BsmtFinType2_Rec', 0.0),\n",
       " ('BsmtFinType2_Unf', 0.0),\n",
       " ('Heating_Floor', 0.0),\n",
       " ('Heating_GasA', 0.0),\n",
       " ('Heating_GasW', 0.0),\n",
       " ('Heating_Grav', 0.0),\n",
       " ('Heating_OthW', 0.0),\n",
       " ('Heating_Wall', 0.0),\n",
       " ('HeatingQC_Fa', 0.0),\n",
       " ('HeatingQC_Po', 0.0),\n",
       " ('Electrical_FuseA', 0.0),\n",
       " ('Electrical_FuseF', 0.0),\n",
       " ('Electrical_FuseP', 0.0),\n",
       " ('Electrical_Mix', 0.0),\n",
       " ('Electrical_SBrkr', 0.0),\n",
       " ('Functional_Maj1', 0.0),\n",
       " ('Functional_Maj2', 0.0),\n",
       " ('Functional_Min1', 0.0),\n",
       " ('Functional_Min2', 0.0),\n",
       " ('Functional_Mod', 0.0),\n",
       " ('Functional_Sev', 0.0),\n",
       " ('FireplaceQu_Ex', 0.0),\n",
       " ('FireplaceQu_Fa', 0.0),\n",
       " ('FireplaceQu_Po', 0.0),\n",
       " ('GarageType_2Types', 0.0),\n",
       " ('GarageType_Basment', 0.0),\n",
       " ('GarageType_CarPort', 0.0),\n",
       " ('GarageType_No Garage', 0.0),\n",
       " ('GarageFinish_No Garage', 0.0),\n",
       " ('GarageQual_Ex', 0.0),\n",
       " ('GarageQual_Fa', 0.0),\n",
       " ('GarageQual_Gd', 0.0),\n",
       " ('GarageQual_Po', 0.0),\n",
       " ('GarageCond_Ex', 0.0),\n",
       " ('GarageCond_Fa', 0.0),\n",
       " ('GarageCond_Gd', 0.0),\n",
       " ('GarageCond_No Garage', 0.0),\n",
       " ('GarageCond_Po', 0.0),\n",
       " ('GarageCond_TA', 0.0),\n",
       " ('PavedDrive_P', 0.0),\n",
       " ('PoolQC_Ex', 0.0),\n",
       " ('PoolQC_Fa', 0.0),\n",
       " ('PoolQC_Gd', 0.0),\n",
       " ('PoolQC_No Pool', 0.0),\n",
       " ('Fence_GdPrv', 0.0),\n",
       " ('Fence_GdWo', 0.0),\n",
       " ('Fence_MnPrv', 0.0),\n",
       " ('Fence_MnWw', 0.0),\n",
       " ('MiscFeature_Gar2', 0.0),\n",
       " ('MiscFeature_Othr', 0.0),\n",
       " ('MiscFeature_Shed', 0.0),\n",
       " ('MiscFeature_TenC', 0.0),\n",
       " ('SaleType_COD', 0.0),\n",
       " ('SaleType_CWD', 0.0),\n",
       " ('SaleType_Con', 0.0),\n",
       " ('SaleType_ConLD', 0.0),\n",
       " ('SaleType_ConLI', 0.0),\n",
       " ('SaleType_ConLw', 0.0),\n",
       " ('SaleType_Oth', 0.0),\n",
       " ('SaleCondition_AdjLand', 0.0),\n",
       " ('SaleCondition_Alloca', 0.0),\n",
       " ('SaleCondition_Family', 0.0)]"
      ]
     },
     "execution_count": 508,
     "metadata": {},
     "output_type": "execute_result"
    }
   ],
   "source": [
    "sorted(rf_feature_weights, key = lambda x: x[1], reverse = True)"
   ]
  },
  {
   "cell_type": "code",
   "execution_count": null,
   "metadata": {
    "collapsed": true
   },
   "outputs": [],
   "source": []
  },
  {
   "cell_type": "markdown",
   "metadata": {},
   "source": [
    "### Columns"
   ]
  },
  {
   "cell_type": "code",
   "execution_count": 98,
   "metadata": {
    "collapsed": false,
    "scrolled": false
   },
   "outputs": [
    {
     "name": "stdout",
     "output_type": "stream",
     "text": [
      "    MSSubClass MSZoning  LotFrontage  LotArea Street Alley LotShape  \\\n",
      "0           60       RL         65.0     8450   Pave   NaN      Reg   \n",
      "1           20       RL         80.0     9600   Pave   NaN      Reg   \n",
      "2           60       RL         68.0    11250   Pave   NaN      IR1   \n",
      "3           70       RL         60.0     9550   Pave   NaN      IR1   \n",
      "4           60       RL         84.0    14260   Pave   NaN      IR1   \n",
      "5           50       RL         85.0    14115   Pave   NaN      IR1   \n",
      "6           20       RL         75.0    10084   Pave   NaN      Reg   \n",
      "7           60       RL          NaN    10382   Pave   NaN      IR1   \n",
      "8           50       RM         51.0     6120   Pave   NaN      Reg   \n",
      "9          190       RL         50.0     7420   Pave   NaN      Reg   \n",
      "10          20       RL         70.0    11200   Pave   NaN      Reg   \n",
      "11          60       RL         85.0    11924   Pave   NaN      IR1   \n",
      "12          20       RL          NaN    12968   Pave   NaN      IR2   \n",
      "13          20       RL         91.0    10652   Pave   NaN      IR1   \n",
      "14          20       RL          NaN    10920   Pave   NaN      IR1   \n",
      "\n",
      "   LandContour Utilities LotConfig  \n",
      "0          Lvl    AllPub    Inside  \n",
      "1          Lvl    AllPub       FR2  \n",
      "2          Lvl    AllPub    Inside  \n",
      "3          Lvl    AllPub    Corner  \n",
      "4          Lvl    AllPub       FR2  \n",
      "5          Lvl    AllPub    Inside  \n",
      "6          Lvl    AllPub    Inside  \n",
      "7          Lvl    AllPub    Corner  \n",
      "8          Lvl    AllPub    Inside  \n",
      "9          Lvl    AllPub    Corner  \n",
      "10         Lvl    AllPub    Inside  \n",
      "11         Lvl    AllPub    Inside  \n",
      "12         Lvl    AllPub    Inside  \n",
      "13         Lvl    AllPub    Inside  \n",
      "14         Lvl    AllPub    Corner  \n",
      "   LandSlope Neighborhood Condition1 Condition2 BldgType HouseStyle  \\\n",
      "0        Gtl      CollgCr       Norm       Norm     1Fam     2Story   \n",
      "1        Gtl      Veenker      Feedr       Norm     1Fam     1Story   \n",
      "2        Gtl      CollgCr       Norm       Norm     1Fam     2Story   \n",
      "3        Gtl      Crawfor       Norm       Norm     1Fam     2Story   \n",
      "4        Gtl      NoRidge       Norm       Norm     1Fam     2Story   \n",
      "5        Gtl      Mitchel       Norm       Norm     1Fam     1.5Fin   \n",
      "6        Gtl      Somerst       Norm       Norm     1Fam     1Story   \n",
      "7        Gtl       NWAmes       PosN       Norm     1Fam     2Story   \n",
      "8        Gtl      OldTown     Artery       Norm     1Fam     1.5Fin   \n",
      "9        Gtl      BrkSide     Artery     Artery   2fmCon     1.5Unf   \n",
      "10       Gtl       Sawyer       Norm       Norm     1Fam     1Story   \n",
      "11       Gtl      NridgHt       Norm       Norm     1Fam     2Story   \n",
      "12       Gtl       Sawyer       Norm       Norm     1Fam     1Story   \n",
      "13       Gtl      CollgCr       Norm       Norm     1Fam     1Story   \n",
      "14       Gtl        NAmes       Norm       Norm     1Fam     1Story   \n",
      "\n",
      "    OverallQual  OverallCond  YearBuilt  YearRemodAdd  \n",
      "0             7            5       2003          2003  \n",
      "1             6            8       1976          1976  \n",
      "2             7            5       2001          2002  \n",
      "3             7            5       1915          1970  \n",
      "4             8            5       2000          2000  \n",
      "5             5            5       1993          1995  \n",
      "6             8            5       2004          2005  \n",
      "7             7            6       1973          1973  \n",
      "8             7            5       1931          1950  \n",
      "9             5            6       1939          1950  \n",
      "10            5            5       1965          1965  \n",
      "11            9            5       2005          2006  \n",
      "12            5            6       1962          1962  \n",
      "13            7            5       2006          2007  \n",
      "14            6            5       1960          1960  \n",
      "   RoofStyle RoofMatl Exterior1st Exterior2nd MasVnrType  MasVnrArea  \\\n",
      "0      Gable  CompShg     VinylSd     VinylSd    BrkFace       196.0   \n",
      "1      Gable  CompShg     MetalSd     MetalSd       None         0.0   \n",
      "2      Gable  CompShg     VinylSd     VinylSd    BrkFace       162.0   \n",
      "3      Gable  CompShg     Wd Sdng     Wd Shng       None         0.0   \n",
      "4      Gable  CompShg     VinylSd     VinylSd    BrkFace       350.0   \n",
      "5      Gable  CompShg     VinylSd     VinylSd       None         0.0   \n",
      "6      Gable  CompShg     VinylSd     VinylSd      Stone       186.0   \n",
      "7      Gable  CompShg     HdBoard     HdBoard      Stone       240.0   \n",
      "8      Gable  CompShg     BrkFace     Wd Shng       None         0.0   \n",
      "9      Gable  CompShg     MetalSd     MetalSd       None         0.0   \n",
      "10       Hip  CompShg     HdBoard     HdBoard       None         0.0   \n",
      "11       Hip  CompShg     WdShing     Wd Shng      Stone       286.0   \n",
      "12       Hip  CompShg     HdBoard     Plywood       None         0.0   \n",
      "13     Gable  CompShg     VinylSd     VinylSd      Stone       306.0   \n",
      "14       Hip  CompShg     MetalSd     MetalSd    BrkFace       212.0   \n",
      "\n",
      "   ExterQual ExterCond Foundation BsmtQual  \n",
      "0         Gd        TA      PConc       Gd  \n",
      "1         TA        TA     CBlock       Gd  \n",
      "2         Gd        TA      PConc       Gd  \n",
      "3         TA        TA     BrkTil       TA  \n",
      "4         Gd        TA      PConc       Gd  \n",
      "5         TA        TA       Wood       Gd  \n",
      "6         Gd        TA      PConc       Ex  \n",
      "7         TA        TA     CBlock       Gd  \n",
      "8         TA        TA     BrkTil       TA  \n",
      "9         TA        TA     BrkTil       TA  \n",
      "10        TA        TA     CBlock       TA  \n",
      "11        Ex        TA      PConc       Ex  \n",
      "12        TA        TA     CBlock       TA  \n",
      "13        Gd        TA      PConc       Gd  \n",
      "14        TA        TA     CBlock       TA  \n",
      "   BsmtCond BsmtExposure BsmtFinType1  BsmtFinSF1 BsmtFinType2  BsmtFinSF2  \\\n",
      "0        TA           No          GLQ         706          Unf           0   \n",
      "1        TA           Gd          ALQ         978          Unf           0   \n",
      "2        TA           Mn          GLQ         486          Unf           0   \n",
      "3        Gd           No          ALQ         216          Unf           0   \n",
      "4        TA           Av          GLQ         655          Unf           0   \n",
      "5        TA           No          GLQ         732          Unf           0   \n",
      "6        TA           Av          GLQ        1369          Unf           0   \n",
      "7        TA           Mn          ALQ         859          BLQ          32   \n",
      "8        TA           No          Unf           0          Unf           0   \n",
      "9        TA           No          GLQ         851          Unf           0   \n",
      "10       TA           No          Rec         906          Unf           0   \n",
      "11       TA           No          GLQ         998          Unf           0   \n",
      "12       TA           No          ALQ         737          Unf           0   \n",
      "13       TA           Av          Unf           0          Unf           0   \n",
      "14       TA           No          BLQ         733          Unf           0   \n",
      "\n",
      "    BsmtUnfSF  TotalBsmtSF Heating HeatingQC  \n",
      "0         150          856    GasA        Ex  \n",
      "1         284         1262    GasA        Ex  \n",
      "2         434          920    GasA        Ex  \n",
      "3         540          756    GasA        Gd  \n",
      "4         490         1145    GasA        Ex  \n",
      "5          64          796    GasA        Ex  \n",
      "6         317         1686    GasA        Ex  \n",
      "7         216         1107    GasA        Ex  \n",
      "8         952          952    GasA        Gd  \n",
      "9         140          991    GasA        Ex  \n",
      "10        134         1040    GasA        Ex  \n",
      "11        177         1175    GasA        Ex  \n",
      "12        175          912    GasA        TA  \n",
      "13       1494         1494    GasA        Ex  \n",
      "14        520         1253    GasA        TA  \n",
      "   CentralAir Electrical  1stFlrSF  2ndFlrSF  LowQualFinSF  GrLivArea  \\\n",
      "0           Y      SBrkr       856       854             0       1710   \n",
      "1           Y      SBrkr      1262         0             0       1262   \n",
      "2           Y      SBrkr       920       866             0       1786   \n",
      "3           Y      SBrkr       961       756             0       1717   \n",
      "4           Y      SBrkr      1145      1053             0       2198   \n",
      "5           Y      SBrkr       796       566             0       1362   \n",
      "6           Y      SBrkr      1694         0             0       1694   \n",
      "7           Y      SBrkr      1107       983             0       2090   \n",
      "8           Y      FuseF      1022       752             0       1774   \n",
      "9           Y      SBrkr      1077         0             0       1077   \n",
      "10          Y      SBrkr      1040         0             0       1040   \n",
      "11          Y      SBrkr      1182      1142             0       2324   \n",
      "12          Y      SBrkr       912         0             0        912   \n",
      "13          Y      SBrkr      1494         0             0       1494   \n",
      "14          Y      SBrkr      1253         0             0       1253   \n",
      "\n",
      "    BsmtFullBath  BsmtHalfBath  FullBath  HalfBath  \n",
      "0              1             0         2         1  \n",
      "1              0             1         2         0  \n",
      "2              1             0         2         1  \n",
      "3              1             0         1         0  \n",
      "4              1             0         2         1  \n",
      "5              1             0         1         1  \n",
      "6              1             0         2         0  \n",
      "7              1             0         2         1  \n",
      "8              0             0         2         0  \n",
      "9              1             0         1         0  \n",
      "10             1             0         1         0  \n",
      "11             1             0         3         0  \n",
      "12             1             0         1         0  \n",
      "13             0             0         2         0  \n",
      "14             1             0         1         1  \n",
      "    BedroomAbvGr  KitchenAbvGr KitchenQual  TotRmsAbvGrd Functional  \\\n",
      "0              3             1          Gd             8        Typ   \n",
      "1              3             1          TA             6        Typ   \n",
      "2              3             1          Gd             6        Typ   \n",
      "3              3             1          Gd             7        Typ   \n",
      "4              4             1          Gd             9        Typ   \n",
      "5              1             1          TA             5        Typ   \n",
      "6              3             1          Gd             7        Typ   \n",
      "7              3             1          TA             7        Typ   \n",
      "8              2             2          TA             8       Min1   \n",
      "9              2             2          TA             5        Typ   \n",
      "10             3             1          TA             5        Typ   \n",
      "11             4             1          Ex            11        Typ   \n",
      "12             2             1          TA             4        Typ   \n",
      "13             3             1          Gd             7        Typ   \n",
      "14             2             1          TA             5        Typ   \n",
      "\n",
      "    Fireplaces FireplaceQu GarageType  GarageYrBlt GarageFinish  \n",
      "0            0         NaN     Attchd       2003.0          RFn  \n",
      "1            1          TA     Attchd       1976.0          RFn  \n",
      "2            1          TA     Attchd       2001.0          RFn  \n",
      "3            1          Gd     Detchd       1998.0          Unf  \n",
      "4            1          TA     Attchd       2000.0          RFn  \n",
      "5            0         NaN     Attchd       1993.0          Unf  \n",
      "6            1          Gd     Attchd       2004.0          RFn  \n",
      "7            2          TA     Attchd       1973.0          RFn  \n",
      "8            2          TA     Detchd       1931.0          Unf  \n",
      "9            2          TA     Attchd       1939.0          RFn  \n",
      "10           0         NaN     Detchd       1965.0          Unf  \n",
      "11           2          Gd    BuiltIn       2005.0          Fin  \n",
      "12           0         NaN     Detchd       1962.0          Unf  \n",
      "13           1          Gd     Attchd       2006.0          RFn  \n",
      "14           1          Fa     Attchd       1960.0          RFn  \n",
      "    GarageCars  GarageArea GarageQual GarageCond PavedDrive  WoodDeckSF  \\\n",
      "0            2         548         TA         TA          Y           0   \n",
      "1            2         460         TA         TA          Y         298   \n",
      "2            2         608         TA         TA          Y           0   \n",
      "3            3         642         TA         TA          Y           0   \n",
      "4            3         836         TA         TA          Y         192   \n",
      "5            2         480         TA         TA          Y          40   \n",
      "6            2         636         TA         TA          Y         255   \n",
      "7            2         484         TA         TA          Y         235   \n",
      "8            2         468         Fa         TA          Y          90   \n",
      "9            1         205         Gd         TA          Y           0   \n",
      "10           1         384         TA         TA          Y           0   \n",
      "11           3         736         TA         TA          Y         147   \n",
      "12           1         352         TA         TA          Y         140   \n",
      "13           3         840         TA         TA          Y         160   \n",
      "14           1         352         TA         TA          Y           0   \n",
      "\n",
      "    OpenPorchSF  EnclosedPorch  3SsnPorch  ScreenPorch  \n",
      "0            61              0          0            0  \n",
      "1             0              0          0            0  \n",
      "2            42              0          0            0  \n",
      "3            35            272          0            0  \n",
      "4            84              0          0            0  \n",
      "5            30              0        320            0  \n",
      "6            57              0          0            0  \n",
      "7           204            228          0            0  \n",
      "8             0            205          0            0  \n",
      "9             4              0          0            0  \n",
      "10            0              0          0            0  \n",
      "11           21              0          0            0  \n",
      "12            0              0          0          176  \n",
      "13           33              0          0            0  \n",
      "14          213            176          0            0  \n",
      "    PoolArea PoolQC  Fence MiscFeature  MiscVal  MoSold  YrSold SaleType  \\\n",
      "0          0    NaN    NaN         NaN        0       2    2008       WD   \n",
      "1          0    NaN    NaN         NaN        0       5    2007       WD   \n",
      "2          0    NaN    NaN         NaN        0       9    2008       WD   \n",
      "3          0    NaN    NaN         NaN        0       2    2006       WD   \n",
      "4          0    NaN    NaN         NaN        0      12    2008       WD   \n",
      "5          0    NaN  MnPrv        Shed      700      10    2009       WD   \n",
      "6          0    NaN    NaN         NaN        0       8    2007       WD   \n",
      "7          0    NaN    NaN        Shed      350      11    2009       WD   \n",
      "8          0    NaN    NaN         NaN        0       4    2008       WD   \n",
      "9          0    NaN    NaN         NaN        0       1    2008       WD   \n",
      "10         0    NaN    NaN         NaN        0       2    2008       WD   \n",
      "11         0    NaN    NaN         NaN        0       7    2006      New   \n",
      "12         0    NaN    NaN         NaN        0       9    2008       WD   \n",
      "13         0    NaN    NaN         NaN        0       8    2007      New   \n",
      "14         0    NaN   GdWo         NaN        0       5    2008       WD   \n",
      "\n",
      "   SaleCondition  \n",
      "0         Normal  \n",
      "1         Normal  \n",
      "2         Normal  \n",
      "3        Abnorml  \n",
      "4         Normal  \n",
      "5         Normal  \n",
      "6         Normal  \n",
      "7         Normal  \n",
      "8        Abnorml  \n",
      "9         Normal  \n",
      "10        Normal  \n",
      "11       Partial  \n",
      "12        Normal  \n",
      "13       Partial  \n",
      "14        Normal  \n",
      "Empty DataFrame\n",
      "Columns: []\n",
      "Index: [0, 1, 2, 3, 4, 5, 6, 7, 8, 9, 10, 11, 12, 13, 14]\n",
      "Empty DataFrame\n",
      "Columns: []\n",
      "Index: [0, 1, 2, 3, 4, 5, 6, 7, 8, 9, 10, 11, 12, 13, 14]\n",
      "Empty DataFrame\n",
      "Columns: []\n",
      "Index: [0, 1, 2, 3, 4, 5, 6, 7, 8, 9, 10, 11, 12, 13, 14]\n"
     ]
    }
   ],
   "source": [
    "index=0\n",
    "for i in range(11):\n",
    "    print predictors.iloc[:15,index:index+10]\n",
    "    index+=10"
   ]
  },
  {
   "cell_type": "code",
   "execution_count": null,
   "metadata": {
    "collapsed": false,
    "scrolled": true
   },
   "outputs": [],
   "source": []
  },
  {
   "cell_type": "code",
   "execution_count": 293,
   "metadata": {
    "collapsed": false
   },
   "outputs": [
    {
     "data": {
      "text/plain": [
       "<matplotlib.collections.PathCollection at 0x11ff2ced0>"
      ]
     },
     "execution_count": 293,
     "metadata": {},
     "output_type": "execute_result"
    },
    {
     "data": {
      "image/png": "[encoded data removed]",
      "text/plain": [
       "<matplotlib.figure.Figure at 0x11b90e490>"
      ]
     },
     "metadata": {},
     "output_type": "display_data"
    }
   ],
   "source": [
    "plt.figure(figsize=(8,6))\n",
    "plt.subplot(211)\n",
    "plt.scatter(houseData['LotFrontage'], houseData['SalePrice'])\n",
    "plt.subplot(212)\n",
    "plt.scatter(houseData['LotArea'], houseData['SalePrice'])\n",
    "\n"
   ]
  },
  {
   "cell_type": "code",
   "execution_count": 283,
   "metadata": {
    "collapsed": false,
    "scrolled": true
   },
   "outputs": [
    {
     "data": {
      "text/plain": [
       "934     313.0\n",
       "1298    313.0\n",
       "1127    182.0\n",
       "231     174.0\n",
       "197     174.0\n",
       "1107    168.0\n",
       "1182    160.0\n",
       "1337    153.0\n",
       "1211    152.0\n",
       "313     150.0\n",
       "909     149.0\n",
       "807     144.0\n",
       "171     141.0\n",
       "277     140.0\n",
       "1173    138.0\n",
       "446     137.0\n",
       "1151    134.0\n",
       "159     134.0\n",
       "966     130.0\n",
       "429     130.0\n",
       "523     130.0\n",
       "276     129.0\n",
       "1359    129.0\n",
       "889     128.0\n",
       "1273    124.0\n",
       "1361    124.0\n",
       "963     122.0\n",
       "86      122.0\n",
       "991     121.0\n",
       "85      121.0\n",
       "        ...  \n",
       "758      24.0\n",
       "1091     24.0\n",
       "432      24.0\n",
       "1088     24.0\n",
       "1334     24.0\n",
       "675      24.0\n",
       "56       24.0\n",
       "1039     21.0\n",
       "1449     21.0\n",
       "1038     21.0\n",
       "235      21.0\n",
       "1029     21.0\n",
       "232      21.0\n",
       "225      21.0\n",
       "649      21.0\n",
       "489      21.0\n",
       "1007     21.0\n",
       "500      21.0\n",
       "915      21.0\n",
       "655      21.0\n",
       "1219     21.0\n",
       "837      21.0\n",
       "614      21.0\n",
       "363      21.0\n",
       "1291     21.0\n",
       "430      21.0\n",
       "434      21.0\n",
       "75       21.0\n",
       "1378     21.0\n",
       "227      21.0\n",
       "Name: LotFrontage, dtype: float64"
      ]
     },
     "execution_count": 283,
     "metadata": {},
     "output_type": "execute_result"
    }
   ],
   "source": [
    "houseData['LotFrontage'].order(ascending=False)"
   ]
  },
  {
   "cell_type": "code",
   "execution_count": 295,
   "metadata": {
    "collapsed": false,
    "scrolled": true
   },
   "outputs": [
    {
     "data": {
      "text/plain": [
       "313     215245\n",
       "335     164660\n",
       "249     159000\n",
       "706     115149\n",
       "451      70761\n",
       "1298     63887\n",
       "1396     57200\n",
       "769      53504\n",
       "457      53227\n",
       "384      53107\n",
       "53       50271\n",
       "661      46589\n",
       "848      45600\n",
       "523      40094\n",
       "271      39104\n",
       "1287     36500\n",
       "1169     35760\n",
       "1184     35133\n",
       "411      34650\n",
       "529      32668\n",
       "1190     32463\n",
       "171      31770\n",
       "1057     29959\n",
       "828      28698\n",
       "934      27650\n",
       "692      26178\n",
       "1446     26142\n",
       "197      25419\n",
       "1383     25339\n",
       "876      25286\n",
       "         ...  \n",
       "1358      2117\n",
       "623       2117\n",
       "180       2117\n",
       "1104      2016\n",
       "915       2001\n",
       "1086      1974\n",
       "1378      1953\n",
       "599       1950\n",
       "649       1936\n",
       "432       1920\n",
       "500       1890\n",
       "434       1890\n",
       "227       1869\n",
       "363       1680\n",
       "1029      1680\n",
       "837       1680\n",
       "1291      1680\n",
       "1219      1680\n",
       "655       1680\n",
       "430       1680\n",
       "225       1680\n",
       "232       1680\n",
       "235       1680\n",
       "75        1596\n",
       "1038      1533\n",
       "1449      1533\n",
       "489       1526\n",
       "614       1491\n",
       "1039      1477\n",
       "956       1300\n",
       "Name: LotArea, dtype: int64"
      ]
     },
     "execution_count": 295,
     "metadata": {},
     "output_type": "execute_result"
    }
   ],
   "source": [
    "houseData['LotArea'].order(ascending=False)"
   ]
  },
  {
   "cell_type": "code",
   "execution_count": 299,
   "metadata": {
    "collapsed": false,
    "scrolled": true
   },
   "outputs": [
    {
     "data": {
      "text/plain": [
       "Id                   250\n",
       "MSSubClass            50\n",
       "MSZoning              RL\n",
       "LotFrontage        70.05\n",
       "LotArea           159000\n",
       "Street              Pave\n",
       "Alley                NaN\n",
       "LotShape             IR2\n",
       "LandContour          Low\n",
       "Utilities         AllPub\n",
       "LotConfig        CulDSac\n",
       "LandSlope            Sev\n",
       "Neighborhood     ClearCr\n",
       "Condition1          Norm\n",
       "Condition2          Norm\n",
       "BldgType            1Fam\n",
       "HouseStyle        1.5Fin\n",
       "OverallQual            6\n",
       "OverallCond            7\n",
       "YearBuilt           1958\n",
       "YearRemodAdd        2006\n",
       "RoofStyle          Gable\n",
       "RoofMatl         CompShg\n",
       "Exterior1st      Wd Sdng\n",
       "Exterior2nd      HdBoard\n",
       "MasVnrType        BrkCmn\n",
       "MasVnrArea           472\n",
       "ExterQual             Gd\n",
       "ExterCond             TA\n",
       "Foundation        CBlock\n",
       "                  ...   \n",
       "BedroomAbvGr           4\n",
       "KitchenAbvGr           1\n",
       "KitchenQual           Gd\n",
       "TotRmsAbvGrd           7\n",
       "Functional           Typ\n",
       "Fireplaces             2\n",
       "FireplaceQu           TA\n",
       "GarageType        Attchd\n",
       "GarageYrBlt         1958\n",
       "GarageFinish         Fin\n",
       "GarageCars             2\n",
       "GarageArea           389\n",
       "GarageQual            TA\n",
       "GarageCond            TA\n",
       "PavedDrive             Y\n",
       "WoodDeckSF             0\n",
       "OpenPorchSF           98\n",
       "EnclosedPorch          0\n",
       "3SsnPorch              0\n",
       "ScreenPorch            0\n",
       "PoolArea               0\n",
       "PoolQC               NaN\n",
       "Fence                NaN\n",
       "MiscFeature         Shed\n",
       "MiscVal              500\n",
       "MoSold                 6\n",
       "YrSold              2007\n",
       "SaleType              WD\n",
       "SaleCondition     Normal\n",
       "SalePrice         277000\n",
       "Name: 249, dtype: object"
      ]
     },
     "execution_count": 299,
     "metadata": {},
     "output_type": "execute_result"
    }
   ],
   "source": [
    "houseData.iloc[249]"
   ]
  },
  {
   "cell_type": "code",
   "execution_count": 301,
   "metadata": {
    "collapsed": false
   },
   "outputs": [
    {
     "data": {
      "text/plain": [
       "NAmes      225\n",
       "CollgCr    150\n",
       "OldTown    113\n",
       "Edwards    100\n",
       "Somerst     86\n",
       "Gilbert     79\n",
       "NridgHt     77\n",
       "Sawyer      74\n",
       "NWAmes      73\n",
       "SawyerW     59\n",
       "BrkSide     58\n",
       "Crawfor     51\n",
       "Mitchel     49\n",
       "NoRidge     41\n",
       "Timber      38\n",
       "IDOTRR      37\n",
       "ClearCr     28\n",
       "SWISU       25\n",
       "StoneBr     25\n",
       "MeadowV     17\n",
       "Blmngtn     17\n",
       "BrDale      16\n",
       "Veenker     11\n",
       "NPkVill      9\n",
       "Blueste      2\n",
       "Name: Neighborhood, dtype: int64"
      ]
     },
     "execution_count": 301,
     "metadata": {},
     "output_type": "execute_result"
    }
   ],
   "source": [
    "houseData['Neighborhood'].value_counts()"
   ]
  }
 ],
 "metadata": {
  "anaconda-cloud": {},
  "kernelspec": {
   "display_name": "Python 2",
   "language": "python",
   "name": "python2"
  },
  "language_info": {
   "codemirror_mode": {
    "name": "ipython",
    "version": 2
   },
   "file_extension": ".py",
   "mimetype": "text/x-python",
   "name": "python",
   "nbconvert_exporter": "python",
   "pygments_lexer": "ipython2",
   "version": "2.7.12"
  }
 },
 "nbformat": 4,
 "nbformat_minor": 0
}
