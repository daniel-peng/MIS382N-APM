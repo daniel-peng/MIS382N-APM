{
 "cells": [
  {
   "cell_type": "code",
   "execution_count": 1,
   "metadata": {
    "collapsed": true
   },
   "outputs": [],
   "source": [
    "import pandas as pd\n",
    "from sklearn.model_selection import train_test_split\n",
    "from sklearn.neural_network import MLPRegressor\n",
    "from sklearn.preprocessing import StandardScaler\n",
    "import matplotlib.pyplot as plt\n",
    "%matplotlib inline  \n",
    "from patsy import dmatrices\n",
    "from sklearn.linear_model import Lasso,LassoCV, RidgeCV, Ridge, LinearRegression\n",
    "from sklearn.model_selection import KFold\n",
    "from sklearn.ensemble import RandomForestRegressor\n",
    "from sklearn import preprocessing\n",
    "import numpy as np\n",
    "\n",
    "import warnings \n",
    "warnings.filterwarnings('ignore')"
   ]
  },
  {
   "cell_type": "code",
   "execution_count": 154,
   "metadata": {
    "collapsed": false
   },
   "outputs": [
    {
     "data": {
      "text/plain": [
       "(1460, 81)"
      ]
     },
     "execution_count": 154,
     "metadata": {},
     "output_type": "execute_result"
    }
   ],
   "source": [
    "houseData = pd.read_csv(\"Kaggle/train.csv\")\n",
    "houseDataTest = pd.read_csv(\"Kaggle/test.csv\")\n",
    "houseData.shape"
   ]
  },
  {
   "cell_type": "code",
   "execution_count": null,
   "metadata": {
    "collapsed": true
   },
   "outputs": [],
   "source": []
  },
  {
   "cell_type": "markdown",
   "metadata": {},
   "source": [
    "#### Remove outliers for sale price"
   ]
  },
  {
   "cell_type": "code",
   "execution_count": 3,
   "metadata": {
    "collapsed": false
   },
   "outputs": [],
   "source": [
    "# np.percentile(houseData['SalePrice'], q=99.5)\n",
    "\n"
   ]
  },
  {
   "cell_type": "markdown",
   "metadata": {},
   "source": [
    "#### Impute missing values"
   ]
  },
  {
   "cell_type": "code",
   "execution_count": 155,
   "metadata": {
    "collapsed": false
   },
   "outputs": [],
   "source": [
    "# Re-label MSSubClass into 3 categories based on SalePrice range and value counts\n",
    "def mssub_label(x):\n",
    "    if x == 20:\n",
    "        return '1S-NEWER'\n",
    "    elif x == 60:\n",
    "        return '2S-NEWER'\n",
    "    elif x == 50:\n",
    "        return '1.5S-FINISHED'\n",
    "    elif x == 120:\n",
    "        return '1S-PUD'\n",
    "    else:\n",
    "        return 'Other'\n",
    "\n",
    "houseData['MSSubClass'] = houseData['MSSubClass'].map(mssub_label)\n",
    "\n",
    "# Impute missing values in Lot Frontage with mean\n",
    "lot_frontage_mean = houseData['LotFrontage'].mean()\n",
    "houseData['LotFrontage'] = houseData['LotFrontage'].map(lambda x: lot_frontage_mean if (np.isnan(x)) else x)\n",
    "\n",
    "# Impute nan function for categorical variables\n",
    "def impute_nan(feature_list, impute_value):\n",
    "    for feature in feature_list:\n",
    "        houseData[feature] = houseData[feature].map(lambda x: impute_value if type(x) != str else x)\n",
    "        \n",
    "# Alley\n",
    "impute_nan(['Alley'], 'No Alley')\n",
    "\n",
    "# Basement\n",
    "basement_features = ['BsmtQual', 'BsmtCond', 'BsmtExposure', 'BsmtFinType1', 'BsmtFinType2']\n",
    "impute_nan(basement_features, 'No Basement')\n",
    "\n",
    "# Veneer\n",
    "veneer_features = ['MasVnrType']\n",
    "impute_nan(veneer_features, 'No Veneer')\n",
    "houseData['MasVnrArea'] = houseData['MasVnrArea'].map(lambda x: 0 if (np.isnan(x)) else x)\n",
    "\n",
    "# Electrical - impute with most common type\n",
    "impute_nan(['Electrical'], 'SBrkr')\n",
    "\n",
    "# Fireplace\n",
    "impute_nan(['FireplaceQu'], 'No Fireplace')\n",
    "\n",
    "# Garage - fill missing year with 0. May have to include year and garage binary as interaction if garage is important\n",
    "impute_nan(['GarageType', 'GarageFinish', 'GarageQual', 'GarageCond'], 'No Garage')\n",
    "houseData['GarageYrBlt'] = houseData['GarageYrBlt'].map(lambda x: 0 if np.isnan(x) else int(x))\n",
    "\n",
    "# Pool QC\n",
    "impute_nan(['PoolQC'], 'No Pool')\n",
    "\n",
    "# Fence\n",
    "impute_nan(['Fence'], 'No Fence')\n",
    "\n",
    "# Misc Features\n",
    "impute_nan(['MiscFeature'], 'None')"
   ]
  },
  {
   "cell_type": "code",
   "execution_count": null,
   "metadata": {
    "collapsed": true
   },
   "outputs": [],
   "source": []
  },
  {
   "cell_type": "code",
   "execution_count": 156,
   "metadata": {
    "collapsed": true
   },
   "outputs": [],
   "source": [
    "# Baseline data\n",
    "\n",
    "columns_to_drop = ['Id','SalePrice','GarageYrBlt','Alley']\n",
    "predictors = houseData.drop(columns_to_drop, axis=1)\n",
    "response = houseData['SalePrice']\n",
    "predictors_dum = pd.get_dummies(predictors)"
   ]
  },
  {
   "cell_type": "code",
   "execution_count": null,
   "metadata": {
    "collapsed": true
   },
   "outputs": [],
   "source": []
  },
  {
   "cell_type": "code",
   "execution_count": 157,
   "metadata": {
    "collapsed": false
   },
   "outputs": [
    {
     "name": "stdout",
     "output_type": "stream",
     "text": [
      "The data has no nulls!\n"
     ]
    }
   ],
   "source": [
    "def nan_count():\n",
    "    features_q6 = predictors.columns.values\n",
    "    \n",
    "    i = 0\n",
    "    \n",
    "    for feature in features_q6:\n",
    "        num_null = houseData[feature].isnull().sum()\n",
    "        if num_null > 0:\n",
    "            print feature, num_null\n",
    "            i += 1\n",
    "    if i == 0:\n",
    "        print \"The data has no nulls!\"\n",
    "\n",
    "nan_count()"
   ]
  },
  {
   "cell_type": "code",
   "execution_count": null,
   "metadata": {
    "collapsed": false,
    "scrolled": false
   },
   "outputs": [
    {
     "data": {
      "image/png": "[encoded data removed]",
      "text/plain": [
       "<matplotlib.figure.Figure at 0x124963dd0>"
      ]
     },
     "metadata": {},
     "output_type": "display_data"
    },
    {
     "data": {
      "image/png": "[encoded data removed]",
      "text/plain": [
       "<matplotlib.figure.Figure at 0x119d4af50>"
      ]
     },
     "metadata": {},
     "output_type": "display_data"
    },
    {
     "data": {
      "image/png": "[encoded data removed]",
      "text/plain": [
       "<matplotlib.figure.Figure at 0x119d4aed0>"
      ]
     },
     "metadata": {},
     "output_type": "display_data"
    },
    {
     "data": {
      "image/png": "[encoded data removed]",
      "text/plain": [
       "<matplotlib.figure.Figure at 0x119d4af10>"
      ]
     },
     "metadata": {},
     "output_type": "display_data"
    },
    {
     "data": {
      "image/png": "[encoded data removed]",
      "text/plain": [
       "<matplotlib.figure.Figure at 0x12506bc10>"
      ]
     },
     "metadata": {},
     "output_type": "display_data"
    },
    {
     "data": {
      "image/png": "[encoded data removed]",
      "text/plain": [
       "<matplotlib.figure.Figure at 0x124dc8e10>"
      ]
     },
     "metadata": {},
     "output_type": "display_data"
    },
    {
     "data": {
      "image/png": "[encoded data removed]",
      "text/plain": [
       "<matplotlib.figure.Figure at 0x125fb5690>"
      ]
     },
     "metadata": {},
     "output_type": "display_data"
    },
    {
     "data": {
      "image/png": "[encoded data removed]",
      "text/plain": [
       "<matplotlib.figure.Figure at 0x125cf2210>"
      ]
     },
     "metadata": {},
     "output_type": "display_data"
    },
    {
     "data": {
      "image/png": "[encoded data removed]",
      "text/plain": [
       "<matplotlib.figure.Figure at 0x127b95a90>"
      ]
     },
     "metadata": {},
     "output_type": "display_data"
    },
    {
     "data": {
      "image/png": "[encoded data removed]",
      "text/plain": [
       "<matplotlib.figure.Figure at 0x1297abb10>"
      ]
     },
     "metadata": {},
     "output_type": "display_data"
    },
    {
     "data": {
      "image/png": "[encoded data removed]",
      "text/plain": [
       "<matplotlib.figure.Figure at 0x1299a6750>"
      ]
     },
     "metadata": {},
     "output_type": "display_data"
    },
    {
     "data": {
      "image/png": "[encoded data removed]",
      "text/plain": [
       "<matplotlib.figure.Figure at 0x129a991d0>"
      ]
     },
     "metadata": {},
     "output_type": "display_data"
    },
    {
     "data": {
      "image/png": "[encoded data removed]",
      "text/plain": [
       "<matplotlib.figure.Figure at 0x129b7aa10>"
      ]
     },
     "metadata": {},
     "output_type": "display_data"
    },
    {
     "data": {
      "image/png": "[encoded data removed]",
      "text/plain": [
       "<matplotlib.figure.Figure at 0x129d68910>"
      ]
     },
     "metadata": {},
     "output_type": "display_data"
    },
    {
     "data": {
      "image/png": "[encoded data removed]",
      "text/plain": [
       "<matplotlib.figure.Figure at 0x129d0a790>"
      ]
     },
     "metadata": {},
     "output_type": "display_data"
    }
   ],
   "source": [
    "# See skew in continuous variables\n",
    "continuous_feat = []\n",
    "\n",
    "for feature in predictors.columns.values:\n",
    "    if type(predictors[[feature]].iloc[0][0]) != str:\n",
    "        continuous_feat.append(feature)\n",
    "\n",
    "        \n",
    "for feature in continuous_feat:\n",
    "    plt.figure(figsize=(6,4))\n",
    "    plt.hist(predictors[feature], bins=20)\n",
    "    plt.title(feature)"
   ]
  },
  {
   "cell_type": "code",
   "execution_count": null,
   "metadata": {
    "collapsed": true
   },
   "outputs": [],
   "source": []
  },
  {
   "cell_type": "markdown",
   "metadata": {},
   "source": [
    "#### Remove/fix outliers"
   ]
  },
  {
   "cell_type": "code",
   "execution_count": 7,
   "metadata": {
    "collapsed": true
   },
   "outputs": [],
   "source": [
    "try:\n",
    "    outliers_drop = [1298, 825, 523, 688, 1324]\n",
    "    predictors_dum = predictors_dum.drop(outliers_drop)\n",
    "    response = response.drop(outliers_drop)\n",
    "except:\n",
    "    pass"
   ]
  },
  {
   "cell_type": "markdown",
   "metadata": {},
   "source": [
    "#### Feature reduction"
   ]
  },
  {
   "cell_type": "code",
   "execution_count": 8,
   "metadata": {
    "collapsed": false
   },
   "outputs": [
    {
     "data": {
      "text/plain": [
       "[('OverallQual', 0.61486157967252086),\n",
       " ('GrLivArea', 0.14591264073671845),\n",
       " ('TotalBsmtSF', 0.03834504024077641),\n",
       " ('BsmtFinSF1', 0.035842695709443081),\n",
       " ('GarageCars', 0.027747241602321809),\n",
       " ('LotArea', 0.02340138751991382),\n",
       " ('GarageArea', 0.015484786785823438),\n",
       " ('1stFlrSF', 0.012931195848619847),\n",
       " ('MasVnrArea', 0.012583838859784952),\n",
       " ('YearRemodAdd', 0.0081496637953759801),\n",
       " ('YearBuilt', 0.0080999684086761371),\n",
       " ('TotRmsAbvGrd', 0.0065152104013009833),\n",
       " ('BsmtQual_Ex', 0.0061028910501196628),\n",
       " ('FireplaceQu_No Fireplace', 0.0042786897793175111),\n",
       " ('CentralAir_N', 0.0030551703782512847),\n",
       " ('OverallCond', 0.0029919912975816727),\n",
       " ('BsmtUnfSF', 0.0021933940014238216),\n",
       " ('CentralAir_Y', 0.0019114584367714055),\n",
       " ('LotFrontage', 0.0018865656836577599),\n",
       " ('2ndFlrSF', 0.00182255096314012),\n",
       " ('GarageType_Attchd', 0.0018045264911622603),\n",
       " ('WoodDeckSF', 0.0015419851369029105),\n",
       " ('GarageType_Detchd', 0.0014942121628182343),\n",
       " ('GarageFinish_Unf', 0.0013712925868070785),\n",
       " ('MSSubClass_Other', 0.0011637877070801834),\n",
       " ('OpenPorchSF', 0.0010912802691388104),\n",
       " ('GarageFinish_RFn', 0.0009601137392415218),\n",
       " ('MSZoning_RM', 0.00095103887728380829),\n",
       " ('KitchenAbvGr', 0.00092119233342369787),\n",
       " ('BsmtFullBath', 0.0008676896961940662),\n",
       " ('Exterior2nd_VinylSd', 0.00079990145557063254),\n",
       " ('BsmtExposure_Gd', 0.00078568048936284959),\n",
       " ('LotShape_Reg', 0.00071721942961607628),\n",
       " ('BldgType_1Fam', 0.0006206223653945572),\n",
       " ('ExterQual_TA', 0.00060042351539910761),\n",
       " ('KitchenQual_Gd', 0.00057433895923169394),\n",
       " ('KitchenQual_TA', 0.00054048904751868528),\n",
       " ('BsmtQual_TA', 0.00050887883561311195),\n",
       " ('RoofStyle_Gable', 0.00050660034151716585),\n",
       " ('YrSold', 0.00049609973111668668),\n",
       " ('MoSold', 0.00047561060082703863),\n",
       " ('GarageFinish_Fin', 0.00045033740095742528),\n",
       " ('BsmtQual_Gd', 0.00041732533883515288),\n",
       " ('LotShape_IR1', 0.00041383381403589973),\n",
       " ('KitchenQual_Ex', 0.0004092406372003964),\n",
       " ('RoofStyle_Hip', 0.00034322075273546362),\n",
       " ('SaleCondition_Normal', 0.00030175108212112604),\n",
       " ('SaleType_New', 0.00029800858861338763),\n",
       " ('BsmtExposure_No', 0.000281910618668109),\n",
       " ('BedroomAbvGr', 0.00025353726064447396),\n",
       " ('HalfBath', 0.00024821338586997893),\n",
       " ('EnclosedPorch', 0.00023203966845387314),\n",
       " ('MasVnrType_BrkFace', 0.00020412462295653456),\n",
       " ('MSSubClass_2S-NEWER', 0.00018916353764130415),\n",
       " ('HeatingQC_Ex', 0.00017249599393426708),\n",
       " ('LandContour_Bnk', 0.00015576330702738684),\n",
       " ('Fireplaces', 0.00014400862180238453),\n",
       " ('Neighborhood_OldTown', 0.00013635279671684843),\n",
       " ('FullBath', 0.00012951299173030305),\n",
       " ('GarageQual_No Garage', 0.00012401942282062718),\n",
       " ('FireplaceQu_Gd', 0.00012277725471129358),\n",
       " ('Exterior1st_VinylSd', 0.00012128085903210472),\n",
       " ('Foundation_CBlock', 0.00011301673528072375),\n",
       " ('PavedDrive_N', 0.00011045520368483745),\n",
       " ('ExterQual_Gd', 0.00010787374905790506),\n",
       " ('Neighborhood_NAmes', 0.00010370910773869572),\n",
       " ('Exterior2nd_HdBoard', 0.00010329634473935846),\n",
       " ('BsmtFinType1_GLQ', 9.7104937337220276e-05),\n",
       " ('BsmtFinSF2', 9.178279456355999e-05),\n",
       " ('BsmtFinType1_ALQ', 8.7386748978993632e-05),\n",
       " ('ExterCond_Fa', 8.6613609128321343e-05),\n",
       " ('GarageQual_TA', 8.351174844240005e-05),\n",
       " ('Exterior1st_HdBoard', 8.2965620574770312e-05),\n",
       " ('HeatingQC_TA', 7.885970172402692e-05),\n",
       " ('HeatingQC_Gd', 7.5171462014058578e-05),\n",
       " ('MSZoning_RL', 5.9480281917127155e-05),\n",
       " ('MasVnrType_None', 5.9290134034188916e-05),\n",
       " ('Condition1_Norm', 5.8885330955276567e-05),\n",
       " ('Foundation_PConc', 5.8760692334729104e-05),\n",
       " ('HouseStyle_1.5Fin', 5.7487887498538731e-05),\n",
       " ('HouseStyle_2Story', 5.4272072975613953e-05),\n",
       " ('FireplaceQu_TA', 4.6615652553064149e-05),\n",
       " ('ScreenPorch', 4.6348954677002705e-05),\n",
       " ('MasVnrType_Stone', 4.5764594689603908e-05),\n",
       " ('GarageCond_TA', 3.643812797322626e-05),\n",
       " ('Foundation_BrkTil', 3.1923662319340396e-05),\n",
       " ('LotConfig_Inside', 3.1373486476164459e-05),\n",
       " ('ExterCond_TA', 2.8044455295101626e-05),\n",
       " ('MSSubClass_1S-NEWER', 2.6596657651625023e-05),\n",
       " ('SaleType_WD', 2.5566792633295637e-05),\n",
       " ('MSSubClass_1S-PUD', 1.9624617319183416e-05),\n",
       " ('BsmtFinType1_BLQ', 1.4930689819548653e-05),\n",
       " ('Fence_No Fence', 7.8283477424279827e-06),\n",
       " ('BsmtFinType1_Unf', 6.8410717902117548e-06),\n",
       " ('Exterior2nd_Wd Sdng', 2.3158268123852587e-06),\n",
       " ('LowQualFinSF', 0.0),\n",
       " ('BsmtHalfBath', 0.0),\n",
       " ('3SsnPorch', 0.0),\n",
       " ('PoolArea', 0.0),\n",
       " ('MiscVal', 0.0),\n",
       " ('MSSubClass_1.5S-FINISHED', 0.0),\n",
       " ('MSZoning_C (all)', 0.0),\n",
       " ('MSZoning_FV', 0.0),\n",
       " ('MSZoning_RH', 0.0),\n",
       " ('Street_Grvl', 0.0),\n",
       " ('Street_Pave', 0.0),\n",
       " ('LotShape_IR2', 0.0),\n",
       " ('LotShape_IR3', 0.0),\n",
       " ('LandContour_HLS', 0.0),\n",
       " ('LandContour_Low', 0.0),\n",
       " ('LandContour_Lvl', 0.0),\n",
       " ('Utilities_AllPub', 0.0),\n",
       " ('Utilities_NoSeWa', 0.0),\n",
       " ('LotConfig_Corner', 0.0),\n",
       " ('LotConfig_CulDSac', 0.0),\n",
       " ('LotConfig_FR2', 0.0),\n",
       " ('LotConfig_FR3', 0.0),\n",
       " ('LandSlope_Gtl', 0.0),\n",
       " ('LandSlope_Mod', 0.0),\n",
       " ('LandSlope_Sev', 0.0),\n",
       " ('Neighborhood_Blmngtn', 0.0),\n",
       " ('Neighborhood_Blueste', 0.0),\n",
       " ('Neighborhood_BrDale', 0.0),\n",
       " ('Neighborhood_BrkSide', 0.0),\n",
       " ('Neighborhood_ClearCr', 0.0),\n",
       " ('Neighborhood_CollgCr', 0.0),\n",
       " ('Neighborhood_Crawfor', 0.0),\n",
       " ('Neighborhood_Edwards', 0.0),\n",
       " ('Neighborhood_Gilbert', 0.0),\n",
       " ('Neighborhood_IDOTRR', 0.0),\n",
       " ('Neighborhood_MeadowV', 0.0),\n",
       " ('Neighborhood_Mitchel', 0.0),\n",
       " ('Neighborhood_NPkVill', 0.0),\n",
       " ('Neighborhood_NWAmes', 0.0),\n",
       " ('Neighborhood_NoRidge', 0.0),\n",
       " ('Neighborhood_NridgHt', 0.0),\n",
       " ('Neighborhood_SWISU', 0.0),\n",
       " ('Neighborhood_Sawyer', 0.0),\n",
       " ('Neighborhood_SawyerW', 0.0),\n",
       " ('Neighborhood_Somerst', 0.0),\n",
       " ('Neighborhood_StoneBr', 0.0),\n",
       " ('Neighborhood_Timber', 0.0),\n",
       " ('Neighborhood_Veenker', 0.0),\n",
       " ('Condition1_Artery', 0.0),\n",
       " ('Condition1_Feedr', 0.0),\n",
       " ('Condition1_PosA', 0.0),\n",
       " ('Condition1_PosN', 0.0),\n",
       " ('Condition1_RRAe', 0.0),\n",
       " ('Condition1_RRAn', 0.0),\n",
       " ('Condition1_RRNe', 0.0),\n",
       " ('Condition1_RRNn', 0.0),\n",
       " ('Condition2_Artery', 0.0),\n",
       " ('Condition2_Feedr', 0.0),\n",
       " ('Condition2_Norm', 0.0),\n",
       " ('Condition2_PosA', 0.0),\n",
       " ('Condition2_PosN', 0.0),\n",
       " ('Condition2_RRAe', 0.0),\n",
       " ('Condition2_RRAn', 0.0),\n",
       " ('Condition2_RRNn', 0.0),\n",
       " ('BldgType_2fmCon', 0.0),\n",
       " ('BldgType_Duplex', 0.0),\n",
       " ('BldgType_Twnhs', 0.0),\n",
       " ('BldgType_TwnhsE', 0.0),\n",
       " ('HouseStyle_1.5Unf', 0.0),\n",
       " ('HouseStyle_1Story', 0.0),\n",
       " ('HouseStyle_2.5Fin', 0.0),\n",
       " ('HouseStyle_2.5Unf', 0.0),\n",
       " ('HouseStyle_SFoyer', 0.0),\n",
       " ('HouseStyle_SLvl', 0.0),\n",
       " ('RoofStyle_Flat', 0.0),\n",
       " ('RoofStyle_Gambrel', 0.0),\n",
       " ('RoofStyle_Mansard', 0.0),\n",
       " ('RoofStyle_Shed', 0.0),\n",
       " ('RoofMatl_ClyTile', 0.0),\n",
       " ('RoofMatl_CompShg', 0.0),\n",
       " ('RoofMatl_Membran', 0.0),\n",
       " ('RoofMatl_Metal', 0.0),\n",
       " ('RoofMatl_Roll', 0.0),\n",
       " ('RoofMatl_Tar&Grv', 0.0),\n",
       " ('RoofMatl_WdShake', 0.0),\n",
       " ('RoofMatl_WdShngl', 0.0),\n",
       " ('Exterior1st_AsbShng', 0.0),\n",
       " ('Exterior1st_AsphShn', 0.0),\n",
       " ('Exterior1st_BrkComm', 0.0),\n",
       " ('Exterior1st_BrkFace', 0.0),\n",
       " ('Exterior1st_CBlock', 0.0),\n",
       " ('Exterior1st_CemntBd', 0.0),\n",
       " ('Exterior1st_ImStucc', 0.0),\n",
       " ('Exterior1st_MetalSd', 0.0),\n",
       " ('Exterior1st_Plywood', 0.0),\n",
       " ('Exterior1st_Stone', 0.0),\n",
       " ('Exterior1st_Stucco', 0.0),\n",
       " ('Exterior1st_Wd Sdng', 0.0),\n",
       " ('Exterior1st_WdShing', 0.0),\n",
       " ('Exterior2nd_AsbShng', 0.0),\n",
       " ('Exterior2nd_AsphShn', 0.0),\n",
       " ('Exterior2nd_Brk Cmn', 0.0),\n",
       " ('Exterior2nd_BrkFace', 0.0),\n",
       " ('Exterior2nd_CBlock', 0.0),\n",
       " ('Exterior2nd_CmentBd', 0.0),\n",
       " ('Exterior2nd_ImStucc', 0.0),\n",
       " ('Exterior2nd_MetalSd', 0.0),\n",
       " ('Exterior2nd_Other', 0.0),\n",
       " ('Exterior2nd_Plywood', 0.0),\n",
       " ('Exterior2nd_Stone', 0.0),\n",
       " ('Exterior2nd_Stucco', 0.0),\n",
       " ('Exterior2nd_Wd Shng', 0.0),\n",
       " ('MasVnrType_BrkCmn', 0.0),\n",
       " ('MasVnrType_No Veneer', 0.0),\n",
       " ('ExterQual_Ex', 0.0),\n",
       " ('ExterQual_Fa', 0.0),\n",
       " ('ExterCond_Ex', 0.0),\n",
       " ('ExterCond_Gd', 0.0),\n",
       " ('ExterCond_Po', 0.0),\n",
       " ('Foundation_Slab', 0.0),\n",
       " ('Foundation_Stone', 0.0),\n",
       " ('Foundation_Wood', 0.0),\n",
       " ('BsmtQual_Fa', 0.0),\n",
       " ('BsmtQual_No Basement', 0.0),\n",
       " ('BsmtCond_Fa', 0.0),\n",
       " ('BsmtCond_Gd', 0.0),\n",
       " ('BsmtCond_No Basement', 0.0),\n",
       " ('BsmtCond_Po', 0.0),\n",
       " ('BsmtCond_TA', 0.0),\n",
       " ('BsmtExposure_Av', 0.0),\n",
       " ('BsmtExposure_Mn', 0.0),\n",
       " ('BsmtExposure_No Basement', 0.0),\n",
       " ('BsmtFinType1_LwQ', 0.0),\n",
       " ('BsmtFinType1_No Basement', 0.0),\n",
       " ('BsmtFinType1_Rec', 0.0),\n",
       " ('BsmtFinType2_ALQ', 0.0),\n",
       " ('BsmtFinType2_BLQ', 0.0),\n",
       " ('BsmtFinType2_GLQ', 0.0),\n",
       " ('BsmtFinType2_LwQ', 0.0),\n",
       " ('BsmtFinType2_No Basement', 0.0),\n",
       " ('BsmtFinType2_Rec', 0.0),\n",
       " ('BsmtFinType2_Unf', 0.0),\n",
       " ('Heating_Floor', 0.0),\n",
       " ('Heating_GasA', 0.0),\n",
       " ('Heating_GasW', 0.0),\n",
       " ('Heating_Grav', 0.0),\n",
       " ('Heating_OthW', 0.0),\n",
       " ('Heating_Wall', 0.0),\n",
       " ('HeatingQC_Fa', 0.0),\n",
       " ('HeatingQC_Po', 0.0),\n",
       " ('Electrical_FuseA', 0.0),\n",
       " ('Electrical_FuseF', 0.0),\n",
       " ('Electrical_FuseP', 0.0),\n",
       " ('Electrical_Mix', 0.0),\n",
       " ('Electrical_SBrkr', 0.0),\n",
       " ('KitchenQual_Fa', 0.0),\n",
       " ('Functional_Maj1', 0.0),\n",
       " ('Functional_Maj2', 0.0),\n",
       " ('Functional_Min1', 0.0),\n",
       " ('Functional_Min2', 0.0),\n",
       " ('Functional_Mod', 0.0),\n",
       " ('Functional_Sev', 0.0),\n",
       " ('Functional_Typ', 0.0),\n",
       " ('FireplaceQu_Ex', 0.0),\n",
       " ('FireplaceQu_Fa', 0.0),\n",
       " ('FireplaceQu_Po', 0.0),\n",
       " ('GarageType_2Types', 0.0),\n",
       " ('GarageType_Basment', 0.0),\n",
       " ('GarageType_BuiltIn', 0.0),\n",
       " ('GarageType_CarPort', 0.0),\n",
       " ('GarageType_No Garage', 0.0),\n",
       " ('GarageFinish_No Garage', 0.0),\n",
       " ('GarageQual_Ex', 0.0),\n",
       " ('GarageQual_Fa', 0.0),\n",
       " ('GarageQual_Gd', 0.0),\n",
       " ('GarageQual_Po', 0.0),\n",
       " ('GarageCond_Ex', 0.0),\n",
       " ('GarageCond_Fa', 0.0),\n",
       " ('GarageCond_Gd', 0.0),\n",
       " ('GarageCond_No Garage', 0.0),\n",
       " ('GarageCond_Po', 0.0),\n",
       " ('PavedDrive_P', 0.0),\n",
       " ('PavedDrive_Y', 0.0),\n",
       " ('PoolQC_Ex', 0.0),\n",
       " ('PoolQC_Fa', 0.0),\n",
       " ('PoolQC_Gd', 0.0),\n",
       " ('PoolQC_No Pool', 0.0),\n",
       " ('Fence_GdPrv', 0.0),\n",
       " ('Fence_GdWo', 0.0),\n",
       " ('Fence_MnPrv', 0.0),\n",
       " ('Fence_MnWw', 0.0),\n",
       " ('MiscFeature_Gar2', 0.0),\n",
       " ('MiscFeature_None', 0.0),\n",
       " ('MiscFeature_Othr', 0.0),\n",
       " ('MiscFeature_Shed', 0.0),\n",
       " ('MiscFeature_TenC', 0.0),\n",
       " ('SaleType_COD', 0.0),\n",
       " ('SaleType_CWD', 0.0),\n",
       " ('SaleType_Con', 0.0),\n",
       " ('SaleType_ConLD', 0.0),\n",
       " ('SaleType_ConLI', 0.0),\n",
       " ('SaleType_ConLw', 0.0),\n",
       " ('SaleType_Oth', 0.0),\n",
       " ('SaleCondition_Abnorml', 0.0),\n",
       " ('SaleCondition_AdjLand', 0.0),\n",
       " ('SaleCondition_Alloca', 0.0),\n",
       " ('SaleCondition_Family', 0.0),\n",
       " ('SaleCondition_Partial', 0.0)]"
      ]
     },
     "execution_count": 8,
     "metadata": {},
     "output_type": "execute_result"
    }
   ],
   "source": [
    "# Random forest importance\n",
    "rf = RandomForestRegressor(min_samples_leaf=7)\n",
    "rf.fit(predictors_dum, response)\n",
    "\n",
    "rf_feature_weights = []\n",
    "for index, col in enumerate(predictors_dum.columns.values):\n",
    "    rf_feature_weights.append((col, rf.feature_importances_[index]))\n",
    "\n",
    "sorted(rf_feature_weights, key = lambda x: x[1], reverse = True)"
   ]
  },
  {
   "cell_type": "code",
   "execution_count": 9,
   "metadata": {
    "collapsed": false
   },
   "outputs": [
    {
     "name": "stdout",
     "output_type": "stream",
     "text": [
      "Best lambda, Ridge: 12.385 \n",
      "\n",
      "Neighborhood_NoRidge: 16947.685\n",
      "RoofMatl_WdShngl: 15538.649\n",
      "Neighborhood_StoneBr: 15500.002\n",
      "KitchenQual_Ex: 14869.502\n",
      "Neighborhood_Crawfor: 13211.036\n",
      "ExterQual_Ex: 12440.498\n",
      "BsmtExposure_Gd: 12292.747\n",
      "Functional_Typ: 12172.736\n",
      "BsmtQual_Ex: 11777.474\n",
      "Exterior1st_BrkFace: 10250.442\n",
      "BldgType_1Fam: 9020.009\n",
      "Condition1_Norm: 8892.457\n",
      "OverallQual: 7997.415\n",
      "SaleType_New: 7978.365\n",
      "Neighborhood_NridgHt: 7836.614\n",
      "GarageQual_Ex: 7677.140\n",
      "LotConfig_CulDSac: 7414.242\n",
      "Street_Pave: 6431.941\n",
      "OverallCond: 6031.638\n",
      "HouseStyle_1Story: 5896.101\n",
      "GarageCars: 5680.519\n",
      "LandSlope_Mod: 5672.673\n",
      "Neighborhood_BrkSide: 5584.820\n",
      "PoolQC_Ex: 5255.489\n",
      "Neighborhood_Somerst: 5208.957\n",
      "HouseStyle_1.5Unf: 5198.153\n",
      "Exterior2nd_ImStucc: 5087.230\n",
      "MSZoning_RL: 4700.226\n",
      "MasVnrType_Stone: 4695.192\n",
      "MasVnrType_None: 4555.877\n",
      "Neighborhood_NPkVill: 4359.760\n",
      "Fireplaces: 3969.334\n",
      "GarageType_BuiltIn: 3603.544\n",
      "BsmtFinType2_ALQ: 3489.957\n",
      "BsmtFinType2_GLQ: 3432.743\n",
      "SaleCondition_Partial: 3227.237\n",
      "HouseStyle_SLvl: 3213.000\n",
      "LandSlope_Gtl: 3208.076\n",
      "FireplaceQu_No Fireplace: 3200.675\n",
      "MSZoning_FV: 3083.732\n",
      "LandContour_HLS: 3053.594\n",
      "RoofMatl_Membran: 3040.810\n",
      "BsmtFinType1_GLQ: 2931.682\n",
      "Heating_GasA: 2894.133\n",
      "Foundation_PConc: 2887.568\n",
      "Fence_MnPrv: 2853.347\n",
      "LotShape_IR2: 2773.376\n",
      "MSSubClass_2S-NEWER: 2715.956\n",
      "Heating_Wall: 2608.442\n",
      "BsmtQual_No Basement: 2594.218\n",
      "BsmtCond_No Basement: 2594.218\n",
      "BsmtFinType1_No Basement: 2594.218\n",
      "SaleCondition_Normal: 2567.206\n",
      "GarageType_Detchd: 2523.624\n",
      "SaleCondition_AdjLand: 2491.146\n",
      "Neighborhood_Veenker: 2463.808\n",
      "SaleType_Con: 2417.298\n",
      "FireplaceQu_Po: 2411.732\n",
      "Condition1_PosN: 2299.560\n",
      "RoofStyle_Mansard: 2272.691\n",
      "GarageCond_TA: 2225.668\n",
      "SaleType_CWD: 2094.509\n",
      "Exterior1st_CemntBd: 2079.704\n",
      "ExterCond_Ex: 2056.696\n",
      "FullBath: 2043.430\n",
      "Fence_GdWo: 1950.712\n",
      "LandContour_Lvl: 1938.226\n",
      "MSZoning_RH: 1888.259\n",
      "GarageFinish_No Garage: 1838.115\n",
      "GarageQual_No Garage: 1838.115\n",
      "GarageType_No Garage: 1838.115\n",
      "GarageCond_No Garage: 1838.115\n",
      "MiscFeature_Shed: 1836.333\n",
      "Condition1_RRAn: 1811.671\n",
      "BsmtCond_Po: 1790.619\n",
      "ExterCond_Fa: 1771.236\n",
      "MiscFeature_None: 1676.419\n",
      "Exterior2nd_Wd Sdng: 1665.678\n",
      "Exterior2nd_VinylSd: 1543.272\n",
      "BsmtFinType1_Unf: 1542.347\n",
      "Condition2_PosA: 1539.020\n",
      "Electrical_FuseF: 1521.885\n",
      "Neighborhood_BrDale: 1504.909\n",
      "Neighborhood_Blueste: 1492.803\n",
      "Foundation_Stone: 1484.924\n",
      "HeatingQC_Fa: 1472.917\n",
      "Condition2_RRNn: 1383.439\n",
      "RoofStyle_Gambrel: 1342.889\n",
      "BsmtFinType2_No Basement: 1324.675\n",
      "BsmtExposure_No Basement: 1298.107\n",
      "PavedDrive_Y: 1185.858\n",
      "Utilities_AllPub: 1167.745\n",
      "GarageQual_Gd: 1165.986\n",
      "HeatingQC_Ex: 1147.510\n",
      "Exterior1st_WdShing: 1091.879\n",
      "MiscFeature_Othr: 1048.555\n",
      "HalfBath: 1018.332\n",
      "BsmtFinType1_BLQ: 987.378\n",
      "Exterior2nd_Brk Cmn: 971.833\n",
      "GarageFinish_Unf: 965.796\n",
      "Fence_No Fence: 955.947\n",
      "Functional_Min2: 941.644\n",
      "RoofMatl_Metal: 868.528\n",
      "Exterior2nd_Stucco: 865.380\n",
      "SaleType_Oth: 784.827\n",
      "RoofStyle_Shed: 766.512\n",
      "Foundation_CBlock: 758.008\n",
      "Exterior2nd_BrkFace: 712.585\n",
      "Exterior1st_AsbShng: 665.230\n",
      "TotRmsAbvGrd: 646.454\n",
      "PoolQC_No Pool: 643.420\n",
      "HouseStyle_SFoyer: 574.925\n",
      "PavedDrive_N: 560.792\n",
      "Electrical_FuseA: 555.157\n",
      "BsmtFullBath: 548.006\n",
      "CentralAir_Y: 547.173\n",
      "Condition1_Feedr: 504.883\n",
      "BsmtFinType2_Unf: 504.201\n",
      "Exterior1st_MetalSd: 475.792\n",
      "Exterior1st_Stucco: 440.613\n",
      "BsmtCond_TA: 436.469\n",
      "ExterQual_Fa: 412.680\n",
      "Exterior2nd_CmentBd: 377.051\n",
      "LandContour_Bnk: 375.346\n",
      "YearBuilt: 316.359\n",
      "GarageCond_Ex: 221.935\n",
      "Foundation_BrkTil: 189.018\n",
      "Functional_Min1: 178.611\n",
      "ExterCond_Po: 162.771\n",
      "RoofStyle_Gable: 157.365\n",
      "Condition2_Artery: 132.866\n",
      "LotFrontage: 92.677\n",
      "PoolArea: 87.223\n",
      "YearRemodAdd: 83.739\n",
      "HeatingQC_Po: 76.631\n",
      "Electrical_Mix: 73.580\n",
      "SaleType_ConLD: 57.806\n",
      "GrLivArea: 35.202\n",
      "2ndFlrSF: 34.281\n",
      "ScreenPorch: 29.566\n",
      "MasVnrArea: 27.193\n",
      "TotalBsmtSF: 26.192\n",
      "3SsnPorch: 24.167\n",
      "1stFlrSF: 19.398\n",
      "BsmtFinSF1: 18.287\n",
      "WoodDeckSF: 13.988\n",
      "OpenPorchSF: 13.081\n",
      "GarageArea: 9.099\n",
      "BsmtFinSF2: 8.550\n",
      "EnclosedPorch: 1.747\n",
      "LotArea: 0.546\n",
      "Condition2_PosN: 0.000\n",
      "RoofMatl_ClyTile: 0.000\n",
      "MiscVal: -0.643\n",
      "BsmtUnfSF: -0.645\n",
      "Heating_Floor: -3.552\n",
      "LowQualFinSF: -18.477\n",
      "RoofStyle_Hip: -35.832\n",
      "Exterior2nd_AsphShn: -54.646\n",
      "FireplaceQu_TA: -108.424\n",
      "SaleCondition_Alloca: -114.282\n",
      "PoolQC_Gd: -148.235\n",
      "Foundation_Slab: -165.485\n",
      "SaleType_ConLw: -174.323\n",
      "GarageType_Attchd: -197.850\n",
      "MSSubClass_Other: -257.083\n",
      "Condition2_Feedr: -270.961\n",
      "LotConfig_Inside: -275.985\n",
      "BsmtQual_Fa: -333.492\n",
      "MSSubClass_1S-NEWER: -339.054\n",
      "YrSold: -351.244\n",
      "GarageFinish_Fin: -381.523\n",
      "MoSold: -402.289\n",
      "Neighborhood_IDOTRR: -412.134\n",
      "Exterior2nd_Other: -448.547\n",
      "Heating_Grav: -460.882\n",
      "LotConfig_Corner: -489.277\n",
      "MiscFeature_Gar2: -511.639\n",
      "GarageCond_Gd: -531.604\n",
      "CentralAir_N: -547.173\n",
      "Exterior1st_ImStucc: -559.259\n",
      "Condition2_Norm: -565.099\n",
      "LotShape_IR3: -672.166\n",
      "Exterior2nd_HdBoard: -719.942\n",
      "Exterior2nd_AsbShng: -761.962\n",
      "MSSubClass_1.5S-FINISHED: -817.019\n",
      "BldgType_TwnhsE: -821.069\n",
      "Exterior1st_AsphShn: -851.224\n",
      "Electrical_SBrkr: -858.449\n",
      "Exterior1st_CBlock: -919.318\n",
      "Exterior2nd_CBlock: -919.318\n",
      "FireplaceQu_Gd: -934.629\n",
      "Condition2_RRAn: -936.387\n",
      "Exterior1st_VinylSd: -939.814\n",
      "Exterior2nd_MetalSd: -949.973\n",
      "BsmtFinType1_ALQ: -974.813\n",
      "LotShape_Reg: -1035.478\n",
      "Exterior1st_BrkComm: -1051.247\n",
      "ExterCond_TA: -1063.873\n",
      "LotShape_IR1: -1065.732\n",
      "BldgType_2fmCon: -1154.411\n",
      "Utilities_NoSeWa: -1167.745\n",
      "RoofMatl_Roll: -1239.865\n",
      "Neighborhood_SawyerW: -1244.365\n",
      "MasVnrType_No Veneer: -1245.004\n",
      "Condition1_PosA: -1247.317\n",
      "HeatingQC_TA: -1269.190\n",
      "Exterior2nd_Wd Shng: -1275.139\n",
      "Condition2_RRAe: -1282.877\n",
      "Electrical_FuseP: -1292.173\n",
      "MSSubClass_1S-PUD: -1302.800\n",
      "Condition1_RRNe: -1324.264\n",
      "Fence_MnWw: -1353.096\n",
      "GarageCond_Fa: -1378.706\n",
      "Neighborhood_MeadowV: -1380.730\n",
      "Exterior1st_Stone: -1410.977\n",
      "FireplaceQu_Ex: -1412.227\n",
      "Exterior1st_HdBoard: -1423.774\n",
      "HeatingQC_Gd: -1427.868\n",
      "Condition1_Artery: -1486.788\n",
      "Condition1_RRNn: -1491.607\n",
      "GarageType_CarPort: -1574.893\n",
      "SaleType_ConLI: -1632.202\n",
      "GarageQual_Po: -1658.477\n",
      "HouseStyle_1.5Fin: -1713.692\n",
      "RoofMatl_WdShake: -1738.670\n",
      "BsmtHalfBath: -1741.355\n",
      "PavedDrive_P: -1746.650\n",
      "Heating_GasW: -1803.791\n",
      "Neighborhood_Blmngtn: -1807.271\n",
      "BsmtCond_Gd: -1838.622\n",
      "Functional_Maj2: -1943.855\n",
      "GarageType_Basment: -1948.569\n",
      "MSZoning_RM: -1960.591\n",
      "LotConfig_FR3: -2020.472\n",
      "Neighborhood_Sawyer: -2032.630\n",
      "Functional_Mod: -2050.508\n",
      "MasVnrType_BrkFace: -2071.537\n",
      "BsmtFinType2_Rec: -2095.403\n",
      "KitchenQual_Fa: -2259.497\n",
      "GarageCond_Po: -2375.407\n",
      "GarageFinish_RFn: -2422.389\n",
      "BsmtExposure_Av: -2462.433\n",
      "Neighborhood_SWISU: -2486.714\n",
      "BsmtFinType1_Rec: -2648.979\n",
      "SaleCondition_Family: -2739.552\n",
      "Exterior2nd_Stone: -2808.259\n",
      "ExterCond_Gd: -2926.830\n",
      "BsmtFinType2_BLQ: -2958.502\n",
      "BsmtCond_Fa: -2982.685\n",
      "HouseStyle_2.5Fin: -3059.875\n",
      "FireplaceQu_Fa: -3157.126\n",
      "Heating_OthW: -3234.350\n",
      "BldgType_Duplex: -3250.264\n",
      "Exterior2nd_Plywood: -3285.243\n",
      "Exterior1st_Wd Sdng: -3345.606\n",
      "Functional_Sev: -3455.501\n",
      "BsmtExposure_Mn: -3613.344\n",
      "BsmtFinType2_LwQ: -3697.670\n",
      "GarageQual_TA: -3785.895\n",
      "BldgType_Twnhs: -3794.265\n",
      "Neighborhood_OldTown: -3944.376\n",
      "MiscFeature_TenC: -4049.668\n",
      "GarageType_2Types: -4243.973\n",
      "Fence_GdPrv: -4406.911\n",
      "BsmtFinType1_LwQ: -4431.833\n",
      "Exterior1st_Plywood: -4502.438\n",
      "RoofStyle_Flat: -4503.626\n",
      "LotConfig_FR2: -4628.507\n",
      "HouseStyle_2.5Unf: -4772.555\n",
      "BsmtQual_TA: -4998.861\n",
      "Foundation_Wood: -5154.033\n",
      "SaleType_COD: -5180.835\n",
      "GarageQual_Fa: -5236.869\n",
      "HouseStyle_2Story: -5336.058\n",
      "LandContour_Low: -5367.166\n",
      "ExterQual_Gd: -5429.433\n",
      "SaleCondition_Abnorml: -5431.755\n",
      "Neighborhood_CollgCr: -5440.879\n",
      "Neighborhood_ClearCr: -5537.746\n",
      "BedroomAbvGr: -5552.184\n",
      "KitchenQual_TA: -5592.797\n",
      "PoolQC_Fa: -5750.673\n",
      "Functional_Maj1: -5843.127\n",
      "MasVnrType_BrkCmn: -5934.528\n",
      "SaleType_WD: -6345.445\n",
      "Neighborhood_Gilbert: -6362.995\n",
      "Street_Grvl: -6431.941\n",
      "Neighborhood_NAmes: -6741.930\n",
      "KitchenQual_Gd: -7017.208\n",
      "Neighborhood_Edwards: -7181.228\n",
      "ExterQual_TA: -7423.745\n",
      "BsmtExposure_No: -7515.077\n",
      "MSZoning_C (all): -7711.626\n",
      "Neighborhood_Timber: -7797.698\n",
      "Condition1_RRAe: -7958.596\n",
      "RoofMatl_CompShg: -7985.841\n",
      "RoofMatl_Tar&Grv: -8483.611\n",
      "LandSlope_Sev: -8880.749\n",
      "BsmtQual_Gd: -9039.338\n",
      "Neighborhood_NWAmes: -9228.247\n",
      "KitchenAbvGr: -11458.458\n",
      "Neighborhood_Mitchel: -12511.452\n"
     ]
    }
   ],
   "source": [
    "# Ridge \n",
    "# Ridge\n",
    "alphas =  10**np.linspace(10,-2,100)*0.5\n",
    "ridge_cv = RidgeCV(alphas=alphas, cv=10)\n",
    "\n",
    "ridge_cv.fit(predictors_dum, response)\n",
    "best_lambda_lasso = ridge_cv.alpha_\n",
    "\n",
    "coef_values = ridge_cv.coef_\n",
    "\n",
    "features_q6 = predictors_dum.columns.values\n",
    "\n",
    "features_coef_lasso = [(features_q6[i], coef_values[i]) for i in range(len(features_q6))]\n",
    "\n",
    "print \"Best lambda, Ridge: {:.3f}\".format(best_lambda_lasso), '\\n'\n",
    "\n",
    "for tup in sorted(features_coef_lasso, key=lambda tup: tup[1], reverse=True):\n",
    "    print \"{}: {:.3f}\".format(tup[0], tup[1])"
   ]
  },
  {
   "cell_type": "code",
   "execution_count": 10,
   "metadata": {
    "collapsed": false
   },
   "outputs": [
    {
     "name": "stdout",
     "output_type": "stream",
     "text": [
      "136\n",
      "LotFrontage\n",
      "LotArea\n",
      "OverallQual\n",
      "OverallCond\n",
      "YearBuilt\n",
      "YearRemodAdd\n",
      "MasVnrArea\n",
      "BsmtFinSF1\n",
      "BsmtFinSF2\n",
      "BsmtUnfSF\n",
      "TotalBsmtSF\n",
      "1stFlrSF\n",
      "2ndFlrSF\n",
      "LowQualFinSF\n",
      "GrLivArea\n",
      "BsmtFullBath\n",
      "BsmtHalfBath\n",
      "FullBath\n",
      "HalfBath\n",
      "BedroomAbvGr\n",
      "KitchenAbvGr\n",
      "TotRmsAbvGrd\n",
      "Fireplaces\n",
      "GarageCars\n",
      "GarageArea\n",
      "WoodDeckSF\n",
      "OpenPorchSF\n",
      "EnclosedPorch\n",
      "3SsnPorch\n",
      "ScreenPorch\n",
      "PoolArea\n",
      "MiscVal\n",
      "MoSold\n",
      "YrSold\n",
      "MSSubClass_1.5S-FINISHED\n",
      "MSSubClass_1S-NEWER\n",
      "MSSubClass_1S-PUD\n",
      "MSSubClass_2S-NEWER\n",
      "MSSubClass_Other\n",
      "MSZoning_RL\n",
      "MSZoning_RM\n",
      "LotShape_IR1\n",
      "LotShape_Reg\n",
      "LandContour_Lvl\n",
      "LotConfig_Corner\n",
      "LotConfig_CulDSac\n",
      "LotConfig_Inside\n",
      "LandSlope_Gtl\n",
      "Neighborhood_CollgCr\n",
      "Neighborhood_Edwards\n",
      "Neighborhood_Gilbert\n",
      "Neighborhood_NAmes\n",
      "Neighborhood_NWAmes\n",
      "Neighborhood_NridgHt\n",
      "Neighborhood_OldTown\n",
      "Neighborhood_Sawyer\n",
      "Neighborhood_Somerst\n",
      "Condition1_Feedr\n",
      "Condition1_Norm\n",
      "BldgType_1Fam\n",
      "BldgType_TwnhsE\n",
      "HouseStyle_1.5Fin\n",
      "HouseStyle_1Story\n",
      "HouseStyle_2Story\n",
      "RoofStyle_Gable\n",
      "RoofStyle_Hip\n",
      "Exterior1st_HdBoard\n",
      "Exterior1st_MetalSd\n",
      "Exterior1st_Plywood\n",
      "Exterior1st_VinylSd\n",
      "Exterior1st_Wd Sdng\n",
      "Exterior2nd_HdBoard\n",
      "Exterior2nd_MetalSd\n",
      "Exterior2nd_Plywood\n",
      "Exterior2nd_VinylSd\n",
      "Exterior2nd_Wd Sdng\n",
      "MasVnrType_BrkFace\n",
      "MasVnrType_None\n",
      "MasVnrType_Stone\n",
      "ExterQual_Gd\n",
      "ExterQual_TA\n",
      "ExterCond_Gd\n",
      "ExterCond_TA\n",
      "Foundation_BrkTil\n",
      "Foundation_CBlock\n",
      "Foundation_PConc\n",
      "BsmtQual_Ex\n",
      "BsmtQual_Gd\n",
      "BsmtQual_TA\n",
      "BsmtCond_TA\n",
      "BsmtExposure_Av\n",
      "BsmtExposure_Gd\n",
      "BsmtExposure_Mn\n",
      "BsmtExposure_No\n",
      "BsmtFinType1_ALQ\n",
      "BsmtFinType1_BLQ\n",
      "BsmtFinType1_GLQ\n",
      "BsmtFinType1_LwQ\n",
      "BsmtFinType1_Rec\n",
      "BsmtFinType1_Unf\n",
      "BsmtFinType2_Unf\n",
      "HeatingQC_Ex\n",
      "HeatingQC_Gd\n",
      "HeatingQC_TA\n",
      "CentralAir_N\n",
      "CentralAir_Y\n",
      "Electrical_FuseA\n",
      "Electrical_SBrkr\n",
      "KitchenQual_Ex\n",
      "KitchenQual_Gd\n",
      "KitchenQual_TA\n",
      "Functional_Typ\n",
      "FireplaceQu_Gd\n",
      "FireplaceQu_No Fireplace\n",
      "FireplaceQu_TA\n",
      "GarageType_Attchd\n",
      "GarageType_BuiltIn\n",
      "GarageType_Detchd\n",
      "GarageType_No Garage\n",
      "GarageFinish_Fin\n",
      "GarageFinish_No Garage\n",
      "GarageFinish_RFn\n",
      "GarageFinish_Unf\n",
      "GarageQual_No Garage\n",
      "GarageQual_TA\n",
      "GarageCond_No Garage\n",
      "GarageCond_TA\n",
      "PavedDrive_N\n",
      "PavedDrive_Y\n",
      "Fence_MnPrv\n",
      "Fence_No Fence\n",
      "SaleType_New\n",
      "SaleType_WD\n",
      "SaleCondition_Abnorml\n",
      "SaleCondition_Normal\n",
      "SaleCondition_Partial\n"
     ]
    }
   ],
   "source": [
    "# Features with highest variance\n",
    "# Select only features with high variance\n",
    "\n",
    "from sklearn.feature_selection import VarianceThreshold\n",
    "sel = VarianceThreshold(threshold=(.95*(1-.95)))\n",
    "sel.fit(predictors_dum)\n",
    "features_keep_idx = sel.get_support(indices=True)\n",
    "\n",
    "# pd.DataFrame(sel.fit_transform(predictors_dum))\n",
    "print len(features_keep_idx)\n",
    "\n",
    "for feature in predictors_dum.columns.values[features_keep_idx]:\n",
    "    print feature\n"
   ]
  },
  {
   "cell_type": "code",
   "execution_count": 11,
   "metadata": {
    "collapsed": false
   },
   "outputs": [
    {
     "name": "stdout",
     "output_type": "stream",
     "text": [
      "('NoRidge', 335295.31707317074)\n",
      "('NridgHt', 315366.2894736842)\n",
      "('StoneBr', 307103.125)\n",
      "('Timber', 242247.44736842104)\n",
      "('Veenker', 238772.72727272726)\n",
      "('Somerst', 226301.95294117648)\n",
      "('ClearCr', 212565.42857142858)\n",
      "('Crawfor', 210624.72549019608)\n",
      "('CollgCr', 197965.77333333335)\n",
      "('Blmngtn', 194870.88235294117)\n",
      "('Gilbert', 192854.50632911394)\n",
      "('NWAmes', 189050.0684931507)\n",
      "('SawyerW', 186555.7966101695)\n",
      "('Mitchel', 156270.1224489796)\n",
      "('NAmes', 145847.08)\n",
      "('NPkVill', 142694.44444444444)\n",
      "('SWISU', 142591.36)\n",
      "('Blueste', 137500.0)\n",
      "('Sawyer', 136793.13513513515)\n",
      "('OldTown', 128225.30088495575)\n",
      "('Edwards', 127318.57142857143)\n",
      "('BrkSide', 124834.05172413793)\n",
      "('BrDale', 104493.75)\n",
      "('IDOTRR', 100123.78378378379)\n",
      "('MeadowV', 98576.4705882353)\n"
     ]
    }
   ],
   "source": [
    "neighborhood_mean_price = []\n",
    "\n",
    "for neighborhood in predictors['Neighborhood'].value_counts().index:\n",
    "    neighborhood_mean_price.append((neighborhood,response[predictors['Neighborhood'] == neighborhood].mean()))\n",
    "    \n",
    "for tup in sorted(neighborhood_mean_price, key=lambda tup: tup[1], reverse=True):\n",
    "    print tup"
   ]
  },
  {
   "cell_type": "markdown",
   "metadata": {},
   "source": [
    "#### Evaluate model via train-test split - baseline (little feature reduction)"
   ]
  },
  {
   "cell_type": "code",
   "execution_count": 12,
   "metadata": {
    "collapsed": true
   },
   "outputs": [],
   "source": [
    "def rmse_calc(actual, predict):\n",
    "    return np.mean((actual - predict)**2)**0.5"
   ]
  },
  {
   "cell_type": "code",
   "execution_count": 26,
   "metadata": {
    "collapsed": false
   },
   "outputs": [
    {
     "name": "stdout",
     "output_type": "stream",
     "text": [
      "Linear Regression (baseline): 24102.9271753\n",
      "Ridge (baseline): 19219.0990532\n",
      "Lasso (baseline): 31245.3548705\n"
     ]
    },
    {
     "data": {
      "text/plain": [
       "<matplotlib.text.Text at 0x1217c2890>"
      ]
     },
     "execution_count": 26,
     "metadata": {},
     "output_type": "execute_result"
    },
    {
     "data": {
      "image/png": "[encoded data removed]",
      "text/plain": [
       "<matplotlib.figure.Figure at 0x121329e10>"
      ]
     },
     "metadata": {},
     "output_type": "display_data"
    },
    {
     "data": {
      "image/png": "[encoded data removed]",
      "text/plain": [
       "<matplotlib.figure.Figure at 0x1214f3390>"
      ]
     },
     "metadata": {},
     "output_type": "display_data"
    }
   ],
   "source": [
    "# Baseline RMSE - plug everything in and see what we get. Exclude houses that are higher tan $450K\n",
    "\n",
    "price_mask = response < 450000\n",
    "# \n",
    "X_train, X_test, y_train, y_test = train_test_split(predictors_dum[price_mask], response[price_mask], test_size = 0.3)\n",
    "\n",
    "# Linear Regression\n",
    "linear_baseline = LinearRegression()\n",
    "linear_baseline.fit(X_train, y_train)\n",
    "\n",
    "rmse_lm_baseline = []\n",
    "\n",
    "print \"{}: {}\".format(\"Linear Regression (baseline)\",rmse_calc(y_test, linear_baseline.predict(X_test)))\n",
    "\n",
    "# Ridge\n",
    "alphas =  10**np.linspace(10,-2,20)*0.5\n",
    "ridge_baseline = RidgeCV(alphas=alphas, cv=10)\n",
    "ridge_baseline.fit(X_train, y_train)\n",
    "print \"{}: {}\".format(\"Ridge (baseline)\",rmse_calc(y_test, ridge_baseline.predict(X_test)))\n",
    "\n",
    "# Lasso\n",
    "lasso_baseline = LassoCV(alphas=None, cv=10, max_iter=10000)\n",
    "lasso_baseline.fit(X_train, y_train)\n",
    "print \"{}: {}\".format(\"Lasso (baseline)\",rmse_calc(y_test, lasso_baseline.predict(X_test)))\n",
    "\n",
    "\n",
    "plt.figure(figsize=(4,3))\n",
    "plt.scatter(ridge_baseline.predict(predictors_dum[price_mask]), response[price_mask])\n",
    "plt.title(\"Ridge Regression\")\n",
    "plt.xlabel(\"Predict\")\n",
    "plt.ylabel(\"Actual\")\n",
    "\n",
    "plt.figure(figsize=(4,3))\n",
    "plt.scatter(linear_baseline.predict(predictors_dum[price_mask]), response[price_mask])\n",
    "plt.title(\"Linear Regression\")\n",
    "plt.xlabel(\"Predict\")\n",
    "plt.ylabel(\"Actual\")\n"
   ]
  },
  {
   "cell_type": "code",
   "execution_count": null,
   "metadata": {
    "collapsed": false
   },
   "outputs": [],
   "source": []
  },
  {
   "cell_type": "code",
   "execution_count": 15,
   "metadata": {
    "collapsed": false,
    "scrolled": true
   },
   "outputs": [
    {
     "data": {
      "text/plain": [
       "774     9.521580e+04\n",
       "632     8.656374e+04\n",
       "346     8.546987e+04\n",
       "473     8.324345e+04\n",
       "197     8.002296e+04\n",
       "581     7.784826e+04\n",
       "583     7.646626e+04\n",
       "1181    6.898818e+04\n",
       "681     5.952331e+04\n",
       "1142    5.917196e+04\n",
       "1211    5.879659e+04\n",
       "218     5.777915e+04\n",
       "1267    5.737943e+04\n",
       "318     5.721083e+04\n",
       "377     5.716974e+04\n",
       "945     5.639527e+04\n",
       "873     5.462693e+04\n",
       "1453    5.292004e+04\n",
       "231     5.164165e+04\n",
       "13      5.162621e+04\n",
       "664     5.155887e+04\n",
       "261     5.111900e+04\n",
       "728     5.011041e+04\n",
       "462     4.999134e+04\n",
       "1065    4.857691e+04\n",
       "955     4.820345e+04\n",
       "678     4.802699e+04\n",
       "48      4.800624e+04\n",
       "496     4.764864e+04\n",
       "1386    4.720233e+04\n",
       "            ...     \n",
       "593     8.145026e+01\n",
       "285     7.883868e+01\n",
       "1418    5.033625e+01\n",
       "210     4.976601e+01\n",
       "271     1.255074e-06\n",
       "1186    1.056702e-06\n",
       "1248    5.840557e-07\n",
       "1370    5.707843e-07\n",
       "153     5.639740e-07\n",
       "595     4.167086e-07\n",
       "1003    4.146714e-07\n",
       "1270    3.384193e-07\n",
       "666     3.232271e-07\n",
       "1170    3.039022e-07\n",
       "1457    3.011664e-07\n",
       "599     2.966844e-07\n",
       "1423    2.353918e-07\n",
       "1230    2.341694e-07\n",
       "944     2.298038e-07\n",
       "250     2.091983e-07\n",
       "375     1.832377e-07\n",
       "398     1.635635e-07\n",
       "325     1.573935e-07\n",
       "1180    1.349836e-07\n",
       "246     1.302687e-07\n",
       "1123    8.626375e-08\n",
       "120     5.192123e-08\n",
       "948     2.543675e-08\n",
       "332     2.159504e-08\n",
       "1187    5.238689e-10\n",
       "Name: residual, dtype: float64"
      ]
     },
     "execution_count": 15,
     "metadata": {},
     "output_type": "execute_result"
    }
   ],
   "source": [
    "lm_outlier = pd.DataFrame({'predict':linear_baseline.predict(predictors_dum[price_mask]), 'actual':response[price_mask]})\n",
    "lm_outlier['residual'] = ((lm_outlier['predict'] - lm_outlier['actual'])**2)**0.5\n",
    "\n",
    "lm_outlier['residual'].order(ascending=False)\n",
    "# houseData.iloc[1298]"
   ]
  },
  {
   "cell_type": "code",
   "execution_count": null,
   "metadata": {
    "collapsed": false,
    "scrolled": true
   },
   "outputs": [],
   "source": [
    "# Scale numerical data for MLP\n",
    "scaler_baseline = StandardScaler()\n",
    "numerical_features = []\n",
    "\n",
    "for i in range(len(predictors.columns.values)):\n",
    "    if type(predictors.iloc[1,i]) != str:\n",
    "        numerical_features.append(i)\n"
   ]
  },
  {
   "cell_type": "code",
   "execution_count": null,
   "metadata": {
    "collapsed": false
   },
   "outputs": [],
   "source": [
    "# predictors_scaled = predictors\n",
    "\n",
    "# for index in numerical_features:\n",
    "#     scaler_baseline.fit(predictors_scaled.iloc[:,index])\n",
    "#     predictors_scaled.iloc[:,index] = pd.Series(scaler_baseline.fit_transform(predictors_scaled.iloc[:,index]))\n",
    "\n",
    "# predictors_scaled_dum = pd.get_dummies(predictors_scaled)\n",
    "\n",
    "# # Scale everything, even categorical\n",
    "# predictors_scaled_dum_all = predictors_dum\n",
    "\n",
    "# for feature in predictors_scaled_dum_all.columns.values:\n",
    "#     scaler_baseline.fit(predictors_scaled_dum_all[feature])\n",
    "#     predictors_scaled_dum_all[feature] = pd.Series(scaler_baseline.fit_transform(predictors_scaled_dum_all[feature]))\n"
   ]
  },
  {
   "cell_type": "code",
   "execution_count": null,
   "metadata": {
    "collapsed": false
   },
   "outputs": [],
   "source": [
    "# Create train and test using scaled data\n",
    "# X_train_sc, X_test_sc, y_train_sc, y_test_sc = train_test_split(predictors_scaled_dum_all, response, test_size = 0.3)\n",
    "\n",
    "# # Pick optimal number of hidden nodes\n",
    "# hidden_layers = list(range(1,100,2))\n",
    "# mlp_base_rmse = []\n",
    "\n",
    "# for i in hidden_layers:\n",
    "#     mlp_baseline = MLPRegressor(hidden_layer_sizes=(i,),activation = 'tanh', solver = 'sgd', \\\n",
    "#                       learning_rate='constant', random_state=42, learning_rate_init = 0.0001)\n",
    "#     mlp_baseline.fit(X_train_sc, y_train_sc)\n",
    "#     mlp_base_rmse.append((i, rmse_calc(y_test_sc, mlp_baseline.predict(X_test_sc))))\n",
    "\n",
    "# mlp_base_rmse\n",
    "\n"
   ]
  },
  {
   "cell_type": "markdown",
   "metadata": {
    "collapsed": false,
    "scrolled": true
   },
   "source": [
    "### Load test data and clean"
   ]
  },
  {
   "cell_type": "code",
   "execution_count": 132,
   "metadata": {
    "collapsed": false
   },
   "outputs": [],
   "source": [
    "# Re-label MSSubClass into 3 categories based on SalePrice range and value counts\n",
    "def mssub_label(x):\n",
    "    if x == 20:\n",
    "        return '1S-NEWER'\n",
    "    elif x == 60:\n",
    "        return '2S-NEWER'\n",
    "    elif x == 50:\n",
    "        return '1.5S-FINISHED'\n",
    "    elif x == 120:\n",
    "        return '1S-PUD'\n",
    "    else:\n",
    "        return 'Other'\n",
    "\n",
    "houseDataTest['MSSubClass'] = houseDataTest['MSSubClass'].map(mssub_label)\n",
    "\n",
    "# Impute missing values in Lot Frontage with mean\n",
    "lot_frontage_mean = houseDataTest['LotFrontage'].mean()\n",
    "houseDataTest['LotFrontage'] = houseDataTest['LotFrontage'].map(lambda x: lot_frontage_mean if (np.isnan(x)) else x)\n",
    "\n",
    "# Impute nan function for categorical variables\n",
    "def impute_nan_test(feature_list, impute_value):\n",
    "    for feature in feature_list:\n",
    "        houseDataTest[feature] = houseDataTest[feature].map(lambda x: impute_value if type(x) != str else x)\n",
    "        \n",
    "# Alley\n",
    "impute_nan_test(['Alley'], 'No Alley')\n",
    "\n",
    "# Basement\n",
    "basement_features = ['BsmtQual', 'BsmtCond', 'BsmtExposure', 'BsmtFinType1', 'BsmtFinType2']\n",
    "impute_nan_test(basement_features, 'No Basement')\n",
    "\n",
    "# Veneer\n",
    "veneer_features = ['MasVnrType']\n",
    "impute_nan_test(veneer_features, 'No Veneer')\n",
    "houseDataTest['MasVnrArea'] = houseDataTest['MasVnrArea'].map(lambda x: 0 if (np.isnan(x)) else x)\n",
    "\n",
    "# Electrical - impute with most common type\n",
    "impute_nan_test(['Electrical'], 'SBrkr')\n",
    "\n",
    "# Fireplace\n",
    "impute_nan_test(['FireplaceQu'], 'No Fireplace')\n",
    "\n",
    "# Garage - fill missing year with 0. May have to include year and garage binary as interaction if garage is important\n",
    "impute_nan_test(['GarageType', 'GarageFinish', 'GarageQual', 'GarageCond'], 'No Garage')\n",
    "houseDataTest['GarageYrBlt'] = houseDataTest['GarageYrBlt'].map(lambda x: 0 if np.isnan(x) else int(x))\n",
    "\n",
    "# Pool QC\n",
    "impute_nan_test(['PoolQC'], 'No Pool')\n",
    "\n",
    "# Fence\n",
    "impute_nan_test(['Fence'], 'No Fence')\n",
    "\n",
    "# Misc Features\n",
    "impute_nan_test(['MiscFeature'], 'None')\n",
    "impute_nan_test(['MSZoning'], 'RM')\n",
    "impute_nan_test(['Utilities'], 'AllPub')\n",
    "impute_nan_test(['Exterior1st','Exterior2nd'], 'VinylSD')\n",
    "impute_nan_test(['BsmtFinSF1', 'BsmtFinSF2', 'BsmtUnfSF', 'TotalBsmtSF', 'BsmtFullBath','BsmtHalfBath'], 0)\n",
    "impute_nan_test(['KitchenQual'], 'TA')\n",
    "impute_nan_test(['Functional'], 'Typ')\n",
    "impute_nan_test(['GarageCars','GarageArea'], 0)\n",
    "impute_nan_test(['SaleType'], 'WD')"
   ]
  },
  {
   "cell_type": "code",
   "execution_count": 134,
   "metadata": {
    "collapsed": false
   },
   "outputs": [
    {
     "name": "stdout",
     "output_type": "stream",
     "text": [
      "The data has no nulls!\n"
     ]
    }
   ],
   "source": [
    "# Drop columns\n",
    "columns_to_drop = ['Id','GarageYrBlt','Alley']\n",
    "predictors_test = houseDataTest.drop(columns_to_drop, axis=1)\n",
    "predictors_dum_test = pd.get_dummies(predictors_test)\n",
    "\n",
    "def nan_count_test():\n",
    "    features_q6 = predictors_test.columns.values\n",
    "    \n",
    "    i = 0\n",
    "    \n",
    "    for feature in features_q6:\n",
    "        num_null = houseDataTest[feature].isnull().sum()\n",
    "        if num_null > 0:\n",
    "            print feature, num_null\n",
    "            i += 1\n",
    "    if i == 0:\n",
    "        print \"The data has no nulls!\"\n",
    "\n",
    "nan_count_test()"
   ]
  },
  {
   "cell_type": "code",
   "execution_count": null,
   "metadata": {
    "collapsed": false
   },
   "outputs": [],
   "source": []
  },
  {
   "cell_type": "code",
   "execution_count": 124,
   "metadata": {
    "collapsed": false,
    "scrolled": true
   },
   "outputs": [],
   "source": [
    "# Use same features from training\n",
    "\n",
    "features_list_q6 = list((predictors_dum.columns.values))\n"
   ]
  },
  {
   "cell_type": "code",
   "execution_count": 119,
   "metadata": {
    "collapsed": false
   },
   "outputs": [
    {
     "name": "stdout",
     "output_type": "stream",
     "text": [
      "(1455, 303)\n",
      "(1459, 283)\n"
     ]
    }
   ],
   "source": [
    "print predictors_dum.shape\n",
    "print predictors_dum_test.shape"
   ]
  },
  {
   "cell_type": "code",
   "execution_count": 138,
   "metadata": {
    "collapsed": false
   },
   "outputs": [],
   "source": [
    "test_df = {}\n",
    "test_df = pd.DataFrame(test_df)\n",
    "\n",
    "for feature in features_list_q6:\n",
    "    try:\n",
    "        test_df[feature] = predictors_dum_test[feature]\n",
    "    except:\n",
    "        test_df[feature] = 0\n",
    "\n"
   ]
  },
  {
   "cell_type": "code",
   "execution_count": 152,
   "metadata": {
    "collapsed": false
   },
   "outputs": [],
   "source": [
    "# Make ridge predict\n",
    "\n",
    "alphas =  10**np.linspace(10,-2,20)*0.5\n",
    "ridge_final = RidgeCV(alphas=alphas, cv=10)\n",
    "ridge_final.fit(predictors_dum, response)\n",
    "\n",
    "predict_ridge = ridge_final.predict(test_df)\n",
    "id_house = houseDataTest['Id']\n",
    "\n",
    "predict_ridge_df = pd.DataFrame({'Id':id_house, 'SalePrice':predict_ridge})\n",
    "\n",
    "predict_ridge_df.to_csv('ridge_predictions.csv', index=False)"
   ]
  },
  {
   "cell_type": "code",
   "execution_count": null,
   "metadata": {
    "collapsed": false
   },
   "outputs": [],
   "source": []
  }
 ],
 "metadata": {
  "kernelspec": {
   "display_name": "Python 2",
   "language": "python",
   "name": "python2"
  },
  "language_info": {
   "codemirror_mode": {
    "name": "ipython",
    "version": 2
   },
   "file_extension": ".py",
   "mimetype": "text/x-python",
   "name": "python",
   "nbconvert_exporter": "python",
   "pygments_lexer": "ipython2",
   "version": "2.7.12"
  }
 },
 "nbformat": 4,
 "nbformat_minor": 0
}
